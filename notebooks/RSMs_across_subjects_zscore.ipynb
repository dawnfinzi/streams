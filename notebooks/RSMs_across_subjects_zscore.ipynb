{
 "cells": [
  {
   "cell_type": "code",
   "execution_count": 1,
   "metadata": {},
   "outputs": [],
   "source": [
    "%matplotlib inline\n",
    "\n",
    "import matplotlib\n",
    "import matplotlib.pyplot as plt"
   ]
  },
  {
   "cell_type": "code",
   "execution_count": 2,
   "metadata": {},
   "outputs": [],
   "source": [
    "import h5py\n",
    "import numpy as np\n",
    "import scipy as sp\n",
    "import scipy.stats as stats\n",
    "import nibabel as nibabel\n",
    "import pandas as pd\n",
    "import nibabel.freesurfer.mghformat as mgh\n",
    "import scipy.io\n",
    "import itertools \n",
    "import pickle"
   ]
  },
  {
   "cell_type": "code",
   "execution_count": 3,
   "metadata": {},
   "outputs": [],
   "source": [
    "data_dir = '../../../data/'"
   ]
  },
  {
   "cell_type": "code",
   "execution_count": 4,
   "metadata": {},
   "outputs": [],
   "source": [
    "subjid = ['01', '02', '03', '04', '05', '06', '07', '08']\n",
    "ROI_names = ['Unknown', 'Early', 'Midventral', 'Midlateral', 'Midparietal', 'Ventral', 'Lateral', 'Parietal']\n",
    "n_repeats = 3"
   ]
  },
  {
   "cell_type": "code",
   "execution_count": 5,
   "metadata": {},
   "outputs": [],
   "source": [
    "##FOR THRESH\n",
    "#threshold for voxels (based on split-half reliability)\n",
    "thresh = 0.2"
   ]
  },
  {
   "cell_type": "code",
   "execution_count": 6,
   "metadata": {},
   "outputs": [],
   "source": [
    "with open('rh_betas_by_repeat_by_ROI_zscore.data', 'rb') as filehandle:\n",
    "    # read the data as binary data stream\n",
    "    rh_betas_by_repeat_by_ROI = pickle.load(filehandle)"
   ]
  },
  {
   "cell_type": "code",
   "execution_count": 7,
   "metadata": {},
   "outputs": [],
   "source": [
    "##FOR THRESH\n",
    "reliability = []\n",
    "for sidx, sid in enumerate(subjid):\n",
    "    \n",
    "    sh_dir = '../../../local_data/freesurfer/subj' + sid + '/rh_split_half.mat'\n",
    "    sh = scipy.io.loadmat(sh_dir)\n",
    "    \n",
    "    reliability.append(sh['mean'])"
   ]
  },
  {
   "cell_type": "code",
   "execution_count": 8,
   "metadata": {},
   "outputs": [],
   "source": [
    "##FOR THRESH\n",
    "rh_streams = []\n",
    "for sidx, sid in enumerate(subjid):\n",
    "    mgh_file = mgh.load(data_dir+'nsddata/freesurfer/subj'+ sid +'/label/rh.streams.mgz')\n",
    "    rh_streams.append(mgh_file.get_fdata()[:,0,0])"
   ]
  },
  {
   "cell_type": "code",
   "execution_count": 9,
   "metadata": {},
   "outputs": [],
   "source": [
    "##FOR THRESH\n",
    "# let's organize by ROI \n",
    "sh_by_ROI = [[[] for j in range(len(ROI_names)-1)] for i in range(len(subjid))]\n",
    "total_vox = np.zeros((len(subjid), len(ROI_names)-1))\n",
    "\n",
    "for sidx, sid in enumerate(subjid):  \n",
    "    for roi_idx in range(len(ROI_names)-1):       \n",
    "        sh_by_ROI[sidx][roi_idx]=reliability[sidx][:,rh_streams[sidx] == roi_idx+1]\n",
    "        total_vox[sidx,roi_idx] = len(sh_by_ROI[sidx][roi_idx][0])"
   ]
  },
  {
   "cell_type": "code",
   "execution_count": 10,
   "metadata": {},
   "outputs": [],
   "source": [
    "##FOR THRESH\n",
    "for sidx, sid in enumerate(subjid):  \n",
    "    for roi_idx in range(len(ROI_names)-1): \n",
    "        for vox in range(len(sh_by_ROI[sidx][roi_idx][0])):\n",
    "            if sh_by_ROI[sidx][roi_idx][0][vox] < thresh:\n",
    "                rh_betas_by_repeat_by_ROI[sidx][roi_idx][0][:,vox]=np.nan\n",
    "                rh_betas_by_repeat_by_ROI[sidx][roi_idx][1][:,vox]=np.nan\n",
    "                rh_betas_by_repeat_by_ROI[sidx][roi_idx][2][:,vox]=np.nan     "
   ]
  },
  {
   "cell_type": "code",
   "execution_count": 11,
   "metadata": {},
   "outputs": [],
   "source": [
    "##FOR THRESH\n",
    "#trim out nans\n",
    "thresh_vox = np.zeros((len(subjid), len(ROI_names)-1))\n",
    "\n",
    "for sidx, sid in enumerate(subjid):  \n",
    "    for roi_idx in range(len(ROI_names)-1): \n",
    "        for r in range(n_repeats):\n",
    "            temp = rh_betas_by_repeat_by_ROI[sidx][roi_idx][r]\n",
    "            trimmed = temp[:,~np.all(np.isnan(temp), axis=0)]\n",
    "\n",
    "            rh_betas_by_repeat_by_ROI[sidx][roi_idx][r] = trimmed\n",
    "        thresh_vox[sidx,roi_idx] = trimmed.shape[1]\n",
    "        "
   ]
  },
  {
   "cell_type": "code",
   "execution_count": 12,
   "metadata": {},
   "outputs": [],
   "source": [
    "vox = np.zeros((len(ROI_names)-1, len(subjid)))\n",
    "\n",
    "for roi_idx in range(len(ROI_names)-1):\n",
    "    vox[roi_idx,:] = [rh_betas_by_repeat_by_ROI[sidx][roi_idx][0].shape[1] for sidx, sid in enumerate(subjid)]"
   ]
  },
  {
   "cell_type": "code",
   "execution_count": 13,
   "metadata": {},
   "outputs": [],
   "source": [
    "#Create RSMS\n",
    "\n",
    "tril_flat_shape = int((rh_betas_by_repeat_by_ROI[0][0][0].shape[0]**2/2) - (rh_betas_by_repeat_by_ROI[0][0][0].shape[0]/2))\n",
    "flat_rsm = np.zeros((len(subjid),len(ROI_names)-1, tril_flat_shape, n_repeats))\n",
    "rsm = np.zeros((len(subjid),len(ROI_names)-1,n_repeats,rh_betas_by_repeat_by_ROI[0][0][0].shape[0],rh_betas_by_repeat_by_ROI[0][0][0].shape[0]))\n",
    "\n",
    "for sidx, sid in enumerate(subjid):\n",
    "    \n",
    "    for roi_idx in range(len(ROI_names)-1):\n",
    "        voxels = np.min(vox[roi_idx,:])\n",
    "        \n",
    "        for r in range(n_repeats):\n",
    "            \n",
    "            #ONLY USING THE LOWEST NUM VOXELS FOR EACH ROI ACROSS SUBJ\n",
    "            #rsm[sidx,roi_idx,r,:,:] = np.corrcoef(rh_betas_by_repeat_by_ROI[sidx][roi_idx][r][:,0:int(voxels)])\n",
    "            rsm[sidx,roi_idx,r,:,:] = np.corrcoef(rh_betas_by_repeat_by_ROI[sidx][roi_idx][r])\n",
    "\n",
    "            lower = np.tril(rsm[sidx,roi_idx,r,:,:], -1).T.ravel()\n",
    "\n",
    "            flat_rsm[sidx, roi_idx, :,r] = lower[lower != 0]"
   ]
  },
  {
   "cell_type": "code",
   "execution_count": 14,
   "metadata": {},
   "outputs": [
    {
     "data": {
      "text/plain": [
       "(8, 7, 132355, 3)"
      ]
     },
     "execution_count": 14,
     "metadata": {},
     "output_type": "execute_result"
    }
   ],
   "source": [
    "flat_rsm.shape"
   ]
  },
  {
   "cell_type": "code",
   "execution_count": 15,
   "metadata": {},
   "outputs": [
    {
     "name": "stdout",
     "output_type": "stream",
     "text": [
      "[(0, 1), (0, 2), (0, 3), (0, 4), (0, 5), (0, 6), (1, 2), (1, 3), (1, 4), (1, 5), (1, 6), (2, 3), (2, 4), (2, 5), (2, 6), (3, 4), (3, 5), (3, 6), (4, 5), (4, 6), (5, 6)]\n"
     ]
    }
   ],
   "source": [
    "roi_idx = np.arange(0,len(ROI_names)-1) #-1 because we've removed \"unknown\"\n",
    "roi_combs = list(itertools.combinations(roi_idx, 2))\n",
    "\n",
    "r1_trial_order = [0, 0, 0, 1, 1, 1, 2, 2, 2]\n",
    "r2_trial_order = [0, 1, 2, 0, 1, 2, 0, 1, 2]\n",
    "\n",
    "print(roi_combs)"
   ]
  },
  {
   "cell_type": "code",
   "execution_count": 16,
   "metadata": {},
   "outputs": [
    {
     "name": "stdout",
     "output_type": "stream",
     "text": [
      "[(0, 0), (0, 1), (0, 2), (0, 3), (0, 4), (0, 5), (0, 6), (0, 7), (1, 1), (1, 2), (1, 3), (1, 4), (1, 5), (1, 6), (1, 7), (2, 2), (2, 3), (2, 4), (2, 5), (2, 6), (2, 7), (3, 3), (3, 4), (3, 5), (3, 6), (3, 7), (4, 4), (4, 5), (4, 6), (4, 7), (5, 5), (5, 6), (5, 7), (6, 6), (6, 7), (7, 7)]\n"
     ]
    }
   ],
   "source": [
    "subj_idx = np.arange(0,len(subjid))\n",
    "subj_combs = list(itertools.combinations_with_replacement(subj_idx, 2))\n",
    "\n",
    "print(subj_combs)"
   ]
  },
  {
   "cell_type": "code",
   "execution_count": 17,
   "metadata": {},
   "outputs": [],
   "source": [
    "#same ROI - i.e. Subj1 ventral vs. Subj2 ventral\n",
    "rsm_corr_across_subj_within_ROI = np.zeros((len(ROI_names)-1,len(subj_combs),9))\n",
    "\n",
    "for roi_idx in range(len(ROI_names)-1):\n",
    "    \n",
    "    c = 0\n",
    "    for comb in subj_combs:\n",
    "\n",
    "        subj_1 = comb[0]\n",
    "        subj_2 = comb[1]\n",
    "\n",
    "        if (subj_1==subj_2): #within subject\n",
    "            rsm_corr_across_subj_within_ROI[roi_idx,c,0] = np.absolute(stats.pearsonr(flat_rsm[subj_1,roi_idx,:,0],flat_rsm[subj_1,roi_idx,:,1])[0])\n",
    "            rsm_corr_across_subj_within_ROI[roi_idx,c,1] = np.absolute(stats.pearsonr(flat_rsm[subj_1,roi_idx,:,0],flat_rsm[subj_1,roi_idx,:,2])[0])\n",
    "            rsm_corr_across_subj_within_ROI[roi_idx,c,2] = np.absolute(stats.pearsonr(flat_rsm[subj_1,roi_idx,:,1],flat_rsm[subj_1,roi_idx,:,2])[0])\n",
    "            rsm_corr_across_subj_within_ROI[roi_idx,c,3:] = np.nan\n",
    "        else: #across subject\n",
    "            for r in range(9):\n",
    "                rsm_corr_across_subj_within_ROI[roi_idx,c,r] = np.absolute(stats.pearsonr(flat_rsm[subj_1,roi_idx,:,r1_trial_order[r]],\n",
    "                                                                              flat_rsm[subj_2,roi_idx,:,r2_trial_order[r]])[0])\n",
    "\n",
    "        c += 1"
   ]
  },
  {
   "cell_type": "code",
   "execution_count": 18,
   "metadata": {},
   "outputs": [],
   "source": [
    "mean_rsm_corr_across_subj_within_ROI = np.nanmean(rsm_corr_across_subj_within_ROI,axis=2) #mean across repeat combos\n",
    "sem_rsm_corr_within_subj_within_ROI = stats.sem(rsm_corr_across_subj_within_ROI,axis=2,nan_policy='omit')"
   ]
  },
  {
   "cell_type": "code",
   "execution_count": 19,
   "metadata": {},
   "outputs": [
    {
     "data": {
      "text/plain": [
       "array([0.21405435, 0.15985029, 0.11111106, 0.12703672, 0.47269758,\n",
       "       0.17102904, 0.11669444])"
      ]
     },
     "execution_count": 19,
     "metadata": {},
     "output_type": "execute_result"
    }
   ],
   "source": [
    "np.mean(mean_rsm_corr_across_subj_within_ROI,axis=1)"
   ]
  },
  {
   "cell_type": "code",
   "execution_count": 20,
   "metadata": {},
   "outputs": [],
   "source": [
    "# reshape for easy plotting\n",
    "corr_mat = np.zeros((len(subjid),len(subjid),len(ROI_names)-1))\n",
    "\n",
    "for sidx, sid in enumerate(subjid):\n",
    "    for sidx2, sid in enumerate(subjid):\n",
    "        \n",
    "        #check if this combo exists, otherwise check for reverse order\n",
    "        comb1 = np.array(list(map(lambda x: x== (sidx,sidx2), subj_combs)))\n",
    "        if np.where(comb1)[0].size > 0:\n",
    "            comb_idx = np.where(comb1)[0][0]\n",
    "        else:\n",
    "            comb2 = np.array(list(map(lambda x: x== (sidx2,sidx), subj_combs)))\n",
    "            comb_idx = np.where(comb2)[0][0]\n",
    "        \n",
    "        #get corr val\n",
    "        for roi_idx in range(len(ROI_names)-1):\n",
    "            corr_mat[sidx,sidx2,roi_idx] = mean_rsm_corr_across_subj_within_ROI[roi_idx,comb_idx]"
   ]
  },
  {
   "cell_type": "code",
   "execution_count": 23,
   "metadata": {},
   "outputs": [
    {
     "data": {
      "image/png": "[encoded data removed]",
      "text/plain": [
       "<Figure size 1440x720 with 7 Axes>"
      ]
     },
     "metadata": {
      "needs_background": "light"
     },
     "output_type": "display_data"
    }
   ],
   "source": [
    "#plt.figure(figsize=(20, 10))\n",
    "#ax = plt.gca()\n",
    "#im = ax.imshow(np.arange(100).reshape((10,10)))\n",
    "fig, ax = plt.subplots(1, len(ROI_names)-1,figsize=(20,10)) # Caution, figsize will also influence positions.\n",
    "for r in range(len(ROI_names)-1):\n",
    "    im1 = ax[r].imshow(corr_mat[:,:,r])\n",
    "\n",
    "    #plt.subplot(1, len(ROI_names)-1, r+1)\n",
    "    \n",
    "    #plt.imshow(\n",
    "    #    corr_mat[:,:,r]\n",
    "    #)\n",
    "    \n",
    "    plt.title(ROI_names[r+1])\n",
    "    plt.xlabel('Subject ID')\n",
    "    \n",
    "#fig.colorbar(im1, ax=ax[r])\n"
   ]
  },
  {
   "cell_type": "code",
   "execution_count": 26,
   "metadata": {},
   "outputs": [
    {
     "data": {
      "image/png": "[encoded data removed]",
      "text/plain": [
       "<Figure size 1440x720 with 7 Axes>"
      ]
     },
     "metadata": {
      "needs_background": "light"
     },
     "output_type": "display_data"
    }
   ],
   "source": [
    "plt.figure(figsize=(20, 10))\n",
    "\n",
    "for r in range(len(ROI_names)-1):\n",
    "    \n",
    "    plt.subplot(1, len(ROI_names)-1, r+1)\n",
    "    \n",
    "    plt.imshow(\n",
    "        corr_mat[:,:,r]\n",
    "    )\n",
    "    \n",
    "    plt.clim(0,.6)\n",
    "    plt.title(ROI_names[r+1])\n",
    "    plt.xlabel('Subject ID')\n",
    "\n",
    "plt.savefig('../../../results/figures/RSMcorr_acrossSubj_voxThresh' + str(int(thresh*100)) + '_upto60corr_zscore.png')\n"
   ]
  },
  {
   "cell_type": "code",
   "execution_count": null,
   "metadata": {},
   "outputs": [],
   "source": []
  }
 ],
 "metadata": {
  "kernelspec": {
   "display_name": "Python 3",
   "language": "python",
   "name": "python3"
  },
  "language_info": {
   "codemirror_mode": {
    "name": "ipython",
    "version": 3
   },
   "file_extension": ".py",
   "mimetype": "text/x-python",
   "name": "python",
   "nbconvert_exporter": "python",
   "pygments_lexer": "ipython3",
   "version": "3.7.9"
  }
 },
 "nbformat": 4,
 "nbformat_minor": 4
}
