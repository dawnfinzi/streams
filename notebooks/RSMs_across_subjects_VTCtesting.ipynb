{
 "cells": [
  {
   "cell_type": "code",
   "execution_count": 1,
   "metadata": {},
   "outputs": [],
   "source": [
    "%matplotlib inline\n",
    "\n",
    "import matplotlib\n",
    "import matplotlib.pyplot as plt"
   ]
  },
  {
   "cell_type": "code",
   "execution_count": 2,
   "metadata": {},
   "outputs": [],
   "source": [
    "import h5py\n",
    "import numpy as np\n",
    "import scipy as sp\n",
    "import scipy.stats as stats\n",
    "import nibabel as nibabel\n",
    "import pandas as pd\n",
    "import nibabel.freesurfer.mghformat as mgh\n",
    "import scipy.io\n",
    "import itertools \n",
    "import pickle\n",
    "import matplotlib"
   ]
  },
  {
   "cell_type": "code",
   "execution_count": 3,
   "metadata": {},
   "outputs": [],
   "source": [
    "data_dir = '../../../data/'"
   ]
  },
  {
   "cell_type": "code",
   "execution_count": 4,
   "metadata": {},
   "outputs": [],
   "source": [
    "subjid = ['01', '02', '03', '04', '05', '06', '07', '08']\n",
    "ROI_names = ['Unknown', 'Early', 'Midventral', 'Midlateral', 'Midparietal', 'Ventral', 'Lateral', 'Parietal']\n",
    "n_repeats = 3"
   ]
  },
  {
   "cell_type": "code",
   "execution_count": 5,
   "metadata": {},
   "outputs": [],
   "source": [
    "with open('rh_betas_by_repeat_by_ROI.data', 'rb') as filehandle:\n",
    "    # read the data as binary data stream\n",
    "    rh_betas_by_repeat_by_ROI = pickle.load(filehandle)"
   ]
  },
  {
   "cell_type": "code",
   "execution_count": 6,
   "metadata": {},
   "outputs": [],
   "source": [
    "reliability = []\n",
    "for sidx, sid in enumerate(subjid):\n",
    "    \n",
    "    sh_dir = '../../../local_data/freesurfer/subj' + sid + '/rh_split_half.mat'\n",
    "    sh = scipy.io.loadmat(sh_dir)\n",
    "    \n",
    "    reliability.append(sh['mean'])"
   ]
  },
  {
   "cell_type": "code",
   "execution_count": 7,
   "metadata": {},
   "outputs": [],
   "source": [
    "rh_streams = []\n",
    "for sidx, sid in enumerate(subjid):\n",
    "    mgh_file = mgh.load(data_dir+'nsddata/freesurfer/subj'+ sid +'/label/rh.streams.mgz')\n",
    "    rh_streams.append(mgh_file.get_fdata()[:,0,0])"
   ]
  },
  {
   "cell_type": "code",
   "execution_count": 8,
   "metadata": {},
   "outputs": [],
   "source": [
    "# let's organize so we just have the ventral ROI\n",
    "vent_idx = 5\n",
    "sh_by_ROI = [[] for i in range(len(subjid))]\n",
    "total_vox = np.zeros(len(subjid))\n",
    "\n",
    "for sidx, sid in enumerate(subjid):  \n",
    "    \n",
    "    sh_by_ROI[sidx]=reliability[sidx][:,rh_streams[sidx] == vent_idx]\n",
    "    total_vox[sidx] = len(sh_by_ROI[sidx][0])"
   ]
  },
  {
   "cell_type": "code",
   "execution_count": 9,
   "metadata": {},
   "outputs": [
    {
     "data": {
      "text/plain": [
       "(1, 16243)"
      ]
     },
     "execution_count": 9,
     "metadata": {},
     "output_type": "execute_result"
    }
   ],
   "source": [
    "sh_by_ROI[0].shape"
   ]
  },
  {
   "cell_type": "code",
   "execution_count": 10,
   "metadata": {},
   "outputs": [],
   "source": [
    "#gotta be a better way to do this?\n",
    "betas_by_repeat_VTC = [[[] for i in range(n_repeats)] for j in range(len(subjid))]\n",
    "for sidx, sid in enumerate(subjid):  \n",
    "    for r in range(3):   \n",
    "        betas_by_repeat_VTC[sidx][r] = rh_betas_by_repeat_by_ROI[sidx][vent_idx-1][r]"
   ]
  },
  {
   "cell_type": "code",
   "execution_count": 11,
   "metadata": {},
   "outputs": [
    {
     "data": {
      "text/plain": [
       "(515, 16243)"
      ]
     },
     "execution_count": 11,
     "metadata": {},
     "output_type": "execute_result"
    }
   ],
   "source": [
    "betas_by_repeat_VTC[0][0].shape"
   ]
  },
  {
   "cell_type": "code",
   "execution_count": 12,
   "metadata": {},
   "outputs": [],
   "source": [
    "thresh = 0.2 #start here\n",
    "\n",
    "betas_by_repeat_VTC_trimmed = betas_by_repeat_VTC\n",
    "\n",
    "for sidx, sid in enumerate(subjid):  \n",
    "    for vox in range(len(sh_by_ROI[sidx][0])):\n",
    "        if sh_by_ROI[sidx][0][vox] < thresh:\n",
    "            betas_by_repeat_VTC_trimmed[sidx][0][:,vox]=np.nan\n",
    "            betas_by_repeat_VTC_trimmed[sidx][1][:,vox]=np.nan\n",
    "            betas_by_repeat_VTC_trimmed[sidx][2][:,vox]=np.nan       "
   ]
  },
  {
   "cell_type": "code",
   "execution_count": 13,
   "metadata": {},
   "outputs": [],
   "source": [
    "#trim out nans\n",
    "thresh_vox = np.zeros(len(subjid))\n",
    "\n",
    "for sidx, sid in enumerate(subjid):  \n",
    "    for r in range(n_repeats):\n",
    "        temp = betas_by_repeat_VTC_trimmed[sidx][r]\n",
    "        trimmed = temp[:,~np.all(np.isnan(temp), axis=0)]\n",
    "\n",
    "        betas_by_repeat_VTC_trimmed[sidx][r] = trimmed\n",
    "    thresh_vox[sidx] = trimmed.shape[1]\n",
    "        "
   ]
  },
  {
   "cell_type": "code",
   "execution_count": 14,
   "metadata": {},
   "outputs": [
    {
     "data": {
      "text/plain": [
       "1506.0"
      ]
     },
     "execution_count": 14,
     "metadata": {},
     "output_type": "execute_result"
    }
   ],
   "source": [
    "min(thresh_vox)"
   ]
  },
  {
   "cell_type": "code",
   "execution_count": 15,
   "metadata": {},
   "outputs": [
    {
     "data": {
      "text/plain": [
       "(515, 3968)"
      ]
     },
     "execution_count": 15,
     "metadata": {},
     "output_type": "execute_result"
    }
   ],
   "source": [
    "betas_by_repeat_VTC_trimmed[0][0].shape"
   ]
  },
  {
   "cell_type": "code",
   "execution_count": 16,
   "metadata": {},
   "outputs": [],
   "source": [
    "#Create RSMS\n",
    "\n",
    "tril_flat_shape = int((betas_by_repeat_VTC_trimmed[0][0].shape[0]**2/2) - (betas_by_repeat_VTC_trimmed[0][0].shape[0]/2))\n",
    "flat_rsm = np.zeros((len(subjid), tril_flat_shape, n_repeats))\n",
    "rsm = np.zeros((len(subjid),n_repeats,betas_by_repeat_VTC_trimmed[0][0].shape[0],betas_by_repeat_VTC_trimmed[0][0].shape[0]))\n",
    "\n",
    "for sidx, sid in enumerate(subjid):\n",
    "\n",
    "    for r in range(n_repeats):\n",
    "\n",
    "        rsm[sidx,r,:,:] = np.corrcoef(betas_by_repeat_VTC_trimmed[sidx][r][:,0:int(min(thresh_vox))])#just take 1st 1500 vox\n",
    "\n",
    "        lower = np.tril(rsm[sidx,r,:,:], -1).T.ravel()\n",
    "\n",
    "        flat_rsm[sidx, :,r] = lower[lower != 0]"
   ]
  },
  {
   "cell_type": "code",
   "execution_count": 17,
   "metadata": {},
   "outputs": [
    {
     "data": {
      "text/plain": [
       "(8, 132355, 3)"
      ]
     },
     "execution_count": 17,
     "metadata": {},
     "output_type": "execute_result"
    }
   ],
   "source": [
    "flat_rsm.shape"
   ]
  },
  {
   "cell_type": "code",
   "execution_count": 18,
   "metadata": {},
   "outputs": [
    {
     "name": "stdout",
     "output_type": "stream",
     "text": [
      "[(0, 0), (0, 1), (0, 2), (0, 3), (0, 4), (0, 5), (0, 6), (0, 7), (1, 1), (1, 2), (1, 3), (1, 4), (1, 5), (1, 6), (1, 7), (2, 2), (2, 3), (2, 4), (2, 5), (2, 6), (2, 7), (3, 3), (3, 4), (3, 5), (3, 6), (3, 7), (4, 4), (4, 5), (4, 6), (4, 7), (5, 5), (5, 6), (5, 7), (6, 6), (6, 7), (7, 7)]\n"
     ]
    }
   ],
   "source": [
    "r1_trial_order = [0, 0, 0, 1, 1, 1, 2, 2, 2]\n",
    "r2_trial_order = [0, 1, 2, 0, 1, 2, 0, 1, 2]\n",
    "\n",
    "subj_idx = np.arange(0,len(subjid))\n",
    "subj_combs = list(itertools.combinations_with_replacement(subj_idx, 2))\n",
    "\n",
    "print(subj_combs)"
   ]
  },
  {
   "cell_type": "code",
   "execution_count": 19,
   "metadata": {},
   "outputs": [],
   "source": [
    "#same ROI - i.e. Subj1 ventral vs. Subj2 ventral\n",
    "rsm_corr_across_subj_within_ROI = np.zeros((len(subj_combs),9))\n",
    "\n",
    "c = 0\n",
    "for comb in subj_combs:\n",
    "\n",
    "    subj_1 = comb[0]\n",
    "    subj_2 = comb[1]\n",
    "\n",
    "    if (subj_1==subj_2): #within subject\n",
    "        rsm_corr_across_subj_within_ROI[c,0] = stats.pearsonr(flat_rsm[subj_1,:,0],flat_rsm[subj_1,:,1])[0]\n",
    "        rsm_corr_across_subj_within_ROI[c,1] = stats.pearsonr(flat_rsm[subj_1,:,0],flat_rsm[subj_1,:,2])[0]\n",
    "        rsm_corr_across_subj_within_ROI[c,2] = stats.pearsonr(flat_rsm[subj_1,:,1],flat_rsm[subj_1,:,2])[0]\n",
    "        rsm_corr_across_subj_within_ROI[c,3:] = np.nan\n",
    "    else: #across subject\n",
    "        for r in range(9):\n",
    "            rsm_corr_across_subj_within_ROI[c,r] = stats.pearsonr(flat_rsm[subj_1,:,r1_trial_order[r]],\n",
    "                                                                          flat_rsm[subj_2,:,r2_trial_order[r]])[0]\n",
    "\n",
    "    c += 1"
   ]
  },
  {
   "cell_type": "code",
   "execution_count": 20,
   "metadata": {},
   "outputs": [],
   "source": [
    "mean_rsm_corr_across_subj_within_ROI = np.nanmean(rsm_corr_across_subj_within_ROI,axis=1) #mean across repeat combos\n",
    "sem_rsm_corr_within_subj_within_ROI = stats.sem(rsm_corr_across_subj_within_ROI,axis=1,nan_policy='omit')"
   ]
  },
  {
   "cell_type": "code",
   "execution_count": 21,
   "metadata": {},
   "outputs": [
    {
     "data": {
      "text/plain": [
       "array([0.26803702, 0.18783607, 0.1230593 , 0.16856836, 0.19367837,\n",
       "       0.15407547, 0.14034869, 0.18021002, 0.3470512 , 0.24857579,\n",
       "       0.2259942 , 0.26853067, 0.17691232, 0.20910827, 0.26338067,\n",
       "       0.24221017, 0.19954706, 0.22900605, 0.15667474, 0.16959923,\n",
       "       0.20930976, 0.31305733, 0.29641215, 0.21088371, 0.19058785,\n",
       "       0.27305252, 0.45063354, 0.25065448, 0.25158065, 0.3292362 ,\n",
       "       0.28015355, 0.20950319, 0.24653858, 0.29320169, 0.22884118,\n",
       "       0.33554671])"
      ]
     },
     "execution_count": 21,
     "metadata": {},
     "output_type": "execute_result"
    }
   ],
   "source": [
    "mean_rsm_corr_across_subj_within_ROI"
   ]
  },
  {
   "cell_type": "code",
   "execution_count": 22,
   "metadata": {},
   "outputs": [],
   "source": [
    "# reshape for easy plotting\n",
    "corr_mat = np.zeros((len(subjid),len(subjid)))\n",
    "\n",
    "for sidx, sid in enumerate(subjid):\n",
    "    for sidx2, sid in enumerate(subjid):\n",
    "        \n",
    "        #check if this combo exists, otherwise check for reverse order\n",
    "        comb1 = np.array(list(map(lambda x: x== (sidx,sidx2), subj_combs)))\n",
    "        if np.where(comb1)[0].size > 0:\n",
    "            comb_idx = np.where(comb1)[0][0]\n",
    "        else:\n",
    "            comb2 = np.array(list(map(lambda x: x== (sidx2,sidx), subj_combs)))\n",
    "            comb_idx = np.where(comb2)[0][0]\n",
    "        \n",
    "        #get corr val\n",
    "        corr_mat[sidx,sidx2] = mean_rsm_corr_across_subj_within_ROI[comb_idx]"
   ]
  },
  {
   "cell_type": "code",
   "execution_count": 23,
   "metadata": {},
   "outputs": [
    {
     "data": {
      "text/plain": [
       "(8, 8)"
      ]
     },
     "execution_count": 23,
     "metadata": {},
     "output_type": "execute_result"
    }
   ],
   "source": [
    "corr_mat.shape"
   ]
  },
  {
   "cell_type": "code",
   "execution_count": 24,
   "metadata": {},
   "outputs": [
    {
     "data": {
      "text/plain": [
       "<matplotlib.colorbar.Colorbar at 0x7fb06629bbd0>"
      ]
     },
     "execution_count": 24,
     "metadata": {},
     "output_type": "execute_result"
    },
    {
     "data": {
      "image/png": "[encoded data removed]",
      "text/plain": [
       "<Figure size 432x288 with 2 Axes>"
      ]
     },
     "metadata": {
      "needs_background": "light"
     },
     "output_type": "display_data"
    }
   ],
   "source": [
    "plt.imshow(\n",
    "        corr_mat\n",
    "    )\n",
    "plt.clim(0,.5)\n",
    "plt.title('Ventral')\n",
    "plt.xlabel('Subject ID')\n",
    "plt.colorbar()"
   ]
  },
  {
   "cell_type": "code",
   "execution_count": null,
   "metadata": {},
   "outputs": [],
   "source": []
  }
 ],
 "metadata": {
  "kernelspec": {
   "display_name": "Python 3",
   "language": "python",
   "name": "python3"
  },
  "language_info": {
   "codemirror_mode": {
    "name": "ipython",
    "version": 3
   },
   "file_extension": ".py",
   "mimetype": "text/x-python",
   "name": "python",
   "nbconvert_exporter": "python",
   "pygments_lexer": "ipython3",
   "version": "3.7.9"
  }
 },
 "nbformat": 4,
 "nbformat_minor": 4
}
