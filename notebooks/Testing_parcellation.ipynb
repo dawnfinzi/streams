{
 "cells": [
  {
   "cell_type": "markdown",
   "metadata": {},
   "source": [
    "## test parcellation approach with subj05"
   ]
  },
  {
   "cell_type": "code",
   "execution_count": 1,
   "metadata": {},
   "outputs": [],
   "source": [
    "%matplotlib inline\n",
    "\n",
    "import matplotlib\n",
    "import matplotlib.pyplot as plt\n",
    "import h5py\n",
    "import numpy as np\n",
    "import scipy as sp\n",
    "import scipy.stats as stats\n",
    "import nibabel as nibabel\n",
    "import pandas as pd\n",
    "import nibabel.freesurfer.mghformat as mgh\n",
    "import scipy.io\n",
    "import itertools \n",
    "import pickle"
   ]
  },
  {
   "cell_type": "code",
   "execution_count": 2,
   "metadata": {},
   "outputs": [],
   "source": [
    "import sys\n",
    "utils_dir = '/oak/stanford/groups/kalanit/biac2/kgs/projects/Dawn/NSD/code/streams/utils/'\n",
    "sys.path.append(utils_dir)"
   ]
  },
  {
   "cell_type": "code",
   "execution_count": 3,
   "metadata": {},
   "outputs": [],
   "source": [
    "from rsm_utils import get_flat_lower_tri, make_flat_rsms"
   ]
  },
  {
   "cell_type": "code",
   "execution_count": 4,
   "metadata": {},
   "outputs": [],
   "source": [
    "data_dir = '../../../data/'\n",
    "local_data_dir = '../../../local_data/'\n",
    "\n",
    "subjid = ['06']\n",
    "n_repeats = 3\n",
    "\n",
    "#threshold for voxels (based on split-half reliability)\n",
    "thresh = 0 #0.1 #0.2"
   ]
  },
  {
   "cell_type": "code",
   "execution_count": 5,
   "metadata": {},
   "outputs": [],
   "source": [
    "#get ROI data\n",
    "rh_parcels = []\n",
    "for sidx, sid in enumerate(subjid):\n",
    "    mgh_file = mgh.load(local_data_dir+'freesurfer/subj'+ sid +'/rh.tessellate.mgz')\n",
    "    rh_parcels.append(mgh_file.get_fdata()[:,0,0])"
   ]
  },
  {
   "cell_type": "code",
   "execution_count": 6,
   "metadata": {},
   "outputs": [],
   "source": [
    "num_rois = int(np.max(rh_parcels))"
   ]
  },
  {
   "cell_type": "code",
   "execution_count": 7,
   "metadata": {},
   "outputs": [],
   "source": [
    "#get voxel level split-half reliability data\n",
    "reliability = []\n",
    "for sidx, sid in enumerate(subjid):\n",
    "    \n",
    "    sh_dir = local_data_dir + 'freesurfer/subj' + sid + '/rh_split_half.mat'\n",
    "    sh = scipy.io.loadmat(sh_dir)\n",
    "    \n",
    "    reliability.append(sh['mean'])"
   ]
  },
  {
   "cell_type": "code",
   "execution_count": 8,
   "metadata": {},
   "outputs": [],
   "source": [
    "# let's organize by ROI \n",
    "sh_by_ROI = [[[] for j in range(num_rois)] for i in range(len(subjid))]\n",
    "total_vox = np.zeros((len(subjid), num_rois))\n",
    "\n",
    "for sidx, sid in enumerate(subjid):  \n",
    "    for roi_idx in range(num_rois):       \n",
    "        sh_by_ROI[sidx][roi_idx]=reliability[sidx][:,rh_parcels[sidx] == roi_idx+1]\n",
    "        total_vox[sidx,roi_idx] = len(sh_by_ROI[sidx][roi_idx][0])"
   ]
  },
  {
   "cell_type": "code",
   "execution_count": 9,
   "metadata": {},
   "outputs": [
    {
     "data": {
      "text/plain": [
       "array([[1087., 1072., 1094., 1173., 1114., 1269., 1300., 1571., 1165.,\n",
       "        1707., 1560.,  920., 1333., 1540., 1220., 2202., 1956., 1700.,\n",
       "        1015., 1000., 1429., 1866., 1798., 1366., 2811., 2253., 1223.,\n",
       "        1575., 2135., 1893., 1373., 2092., 1446., 1723., 1674., 1860.,\n",
       "        1525., 1229., 1396., 1383., 1664., 1607., 1052., 1367., 1879.,\n",
       "        1198.]])"
      ]
     },
     "execution_count": 9,
     "metadata": {},
     "output_type": "execute_result"
    }
   ],
   "source": [
    "total_vox"
   ]
  },
  {
   "cell_type": "code",
   "execution_count": 10,
   "metadata": {},
   "outputs": [],
   "source": [
    "all_ids = []\n",
    "max_session = np.zeros(len(subjid))\n",
    "for sidx, sid in enumerate(subjid):\n",
    "    \n",
    "    data = pd.read_csv(data_dir+'nsddata/ppdata/subj'+ sid +'/behav/responses.tsv', sep='\\t')\n",
    "    \n",
    "    max_session[sidx] = np.max(np.array(data['SESSION'])) \n",
    "    \n",
    "    all_ids.append(np.array(data['73KID']))\n",
    "    \n",
    "    #shared_mask.append(np.isin(all_ids[sidx],sharedix))"
   ]
  },
  {
   "cell_type": "code",
   "execution_count": 11,
   "metadata": {},
   "outputs": [],
   "source": [
    "which_reps = []\n",
    "for sidx, sid in enumerate(subjid):\n",
    "    vals, idx_start, count = np.unique(all_ids[sidx], return_counts=True,\n",
    "                                    return_index=True)\n",
    "    which_reps.append(vals[count == n_repeats])\n",
    "    \n",
    "least_trials = min(which_reps, key=len)"
   ]
  },
  {
   "cell_type": "code",
   "execution_count": 12,
   "metadata": {},
   "outputs": [],
   "source": [
    "id_nums_3reps = []\n",
    "mask_3reps = []\n",
    "for sidx, sid in enumerate(subjid):\n",
    "    \n",
    "    data = pd.read_csv(data_dir+'nsddata/ppdata/subj'+ sid +'/behav/responses.tsv', sep='\\t')\n",
    "    \n",
    "    mask_3reps.append(np.isin(all_ids[sidx],which_reps[sidx]))\n",
    "    id_nums_3reps.append(np.array(data['73KID'])[mask_3reps[sidx]])\n"
   ]
  },
  {
   "cell_type": "code",
   "execution_count": 13,
   "metadata": {},
   "outputs": [],
   "source": [
    "arr1inds = id_nums_3reps[sidx].argsort()"
   ]
  },
  {
   "cell_type": "code",
   "execution_count": 14,
   "metadata": {},
   "outputs": [
    {
     "name": "stdout",
     "output_type": "stream",
     "text": [
      "0\n",
      "1\n",
      "2\n",
      "3\n",
      "4\n",
      "5\n",
      "6\n",
      "7\n",
      "8\n",
      "9\n",
      "10\n",
      "11\n",
      "12\n",
      "13\n",
      "14\n",
      "15\n",
      "16\n",
      "17\n",
      "18\n",
      "19\n",
      "20\n",
      "21\n",
      "22\n",
      "23\n",
      "24\n",
      "25\n",
      "26\n",
      "27\n",
      "28\n",
      "29\n",
      "30\n",
      "31\n",
      "32\n"
     ]
    }
   ],
   "source": [
    "#right hemisphere\n",
    "betas_by_ROI = [[] for j in range(num_rois)]\n",
    "\n",
    "for sidx, sid in enumerate(subjid):\n",
    "    \n",
    "    print(sidx)\n",
    "    mask = mask_3reps[sidx]\n",
    "    sorted_betas = []\n",
    "    \n",
    "    #get all betas across all sessions\n",
    "    for sess in range(1,int(max_session[sidx])+1):\n",
    "        print(sess)\n",
    "                \n",
    "        if(sess < 10):\n",
    "            idx = '0' + str(sess)\n",
    "        else:\n",
    "            idx = str(sess)\n",
    "\n",
    "        raw_betas = h5py.File(local_data_dir+'freesurfer/subj'+sid+'/betas/rh.zscore_betas_session'+idx+'.hdf5','r')\n",
    "\n",
    "        sess_betas = raw_betas['zscore_betas'][:][mask[(sess-1)*750:sess*750]]\n",
    "        del raw_betas\n",
    "        \n",
    "        if(sess==1):\n",
    "            for roi_idx in range(num_rois):\n",
    "                betas_by_ROI[roi_idx] = sess_betas[:,rh_parcels[sidx] == roi_idx+1]\n",
    "        else:\n",
    "            for roi_idx in range(num_rois):\n",
    "                betas_by_ROI[roi_idx] = np.append(betas_by_ROI[roi_idx],sess_betas[:,rh_parcels[sidx] == roi_idx+1],axis=0)\n",
    "        \n",
    "        del sess_betas\n"
   ]
  },
  {
   "cell_type": "code",
   "execution_count": 15,
   "metadata": {},
   "outputs": [],
   "source": [
    "betas_by_repeat_by_ROI = [[[] for j in range(num_rois)] for i in range(len(subjid))]\n",
    "for sidx, sid in enumerate(subjid):\n",
    "    for roi_idx in range(num_rois):  \n",
    "        \n",
    "        sorted_betas = betas_by_ROI[roi_idx][arr1inds[::-1]]\n",
    "        \n",
    "        for r in range(n_repeats):\n",
    "            betas_by_repeat_by_ROI[sidx][roi_idx].insert(r,sorted_betas[r::3])"
   ]
  },
  {
   "cell_type": "code",
   "execution_count": 16,
   "metadata": {},
   "outputs": [
    {
     "data": {
      "text/plain": [
       "[array([[ 0.03638571,  0.36289553,  0.01186645, ...,  0.51818448,\n",
       "          0.85509564,  0.74439018],\n",
       "        [-0.64568957, -0.51571564, -0.41998387, ...,  1.69984955,\n",
       "          0.49925441,  0.18024916],\n",
       "        [-0.05294327,  0.15706797, -0.12674174, ...,  0.60676433,\n",
       "         -0.54648996, -0.98015703],\n",
       "        ...,\n",
       "        [-0.76905597, -0.8416574 , -0.92779242, ...,  1.21728167,\n",
       "          1.46500736,  1.26830637],\n",
       "        [-0.3746311 ,  0.04105045, -0.62293744, ..., -1.33257281,\n",
       "         -1.06437689, -1.1392841 ],\n",
       "        [-0.11769137, -0.75329656, -0.2344663 , ...,  0.04791451,\n",
       "         -0.58871726, -0.69515216]]),\n",
       " array([[-0.3638883 , -0.1691601 , -0.10624174, ..., -1.97572936,\n",
       "         -1.75434664, -1.66794426],\n",
       "        [ 1.73242547,  2.12287895,  1.56499523, ..., -0.73398922,\n",
       "          0.06202611,  0.34849453],\n",
       "        [ 0.79970889,  0.46230832,  1.06871064, ...,  0.99131408,\n",
       "          0.62241844,  0.55780935],\n",
       "        ...,\n",
       "        [ 0.58064305,  0.29807161,  0.59793167, ..., -1.46582704,\n",
       "         -1.56764324, -1.66546758],\n",
       "        [-0.18956518,  0.02893202, -0.11594659, ...,  0.15415119,\n",
       "         -0.78932297, -0.48352513],\n",
       "        [ 2.3176797 ,  2.36856823,  2.46455646, ...,  0.05317752,\n",
       "          1.1812949 ,  1.37298412]]),\n",
       " array([[-1.12665377, -0.87293603, -1.15765663, ..., -0.27557951,\n",
       "          0.54125599,  0.87944669],\n",
       "        [-0.69546407, -1.10391619, -0.87195647, ...,  0.96767814,\n",
       "          1.27948078,  0.87383212],\n",
       "        [ 1.37624393,  0.97106227,  1.48522455, ..., -0.47108762,\n",
       "         -0.01586776, -0.24062938],\n",
       "        ...,\n",
       "        [ 0.11097981,  0.08794407, -0.03243906, ...,  0.79890211,\n",
       "          1.31304565,  1.32299102],\n",
       "        [-0.20586703, -0.100959  , -0.20085333, ...,  0.0087804 ,\n",
       "         -0.44199209, -0.56957098],\n",
       "        [ 1.73358852,  1.69798903,  2.08238131, ..., -1.11525033,\n",
       "         -0.07932762, -0.50194639]])]"
      ]
     },
     "execution_count": 16,
     "metadata": {},
     "output_type": "execute_result"
    }
   ],
   "source": [
    "betas_by_repeat_by_ROI[0][0]"
   ]
  },
  {
   "cell_type": "code",
   "execution_count": 17,
   "metadata": {},
   "outputs": [],
   "source": [
    "#Replace voxels with split-half reliability < thresh with NaNs and then trim those from data structure\n",
    "\n",
    "#convert to nans\n",
    "for sidx, sid in enumerate(subjid):  \n",
    "    for roi_idx in range(num_rois): \n",
    "        for vox in range(len(sh_by_ROI[sidx][roi_idx][0])):\n",
    "            if sh_by_ROI[sidx][roi_idx][0][vox] < thresh:\n",
    "                betas_by_repeat_by_ROI[sidx][roi_idx][0][:,vox]=np.nan\n",
    "                betas_by_repeat_by_ROI[sidx][roi_idx][1][:,vox]=np.nan\n",
    "                betas_by_repeat_by_ROI[sidx][roi_idx][2][:,vox]=np.nan    \n",
    "#trim out nans\n",
    "for sidx, sid in enumerate(subjid):   \n",
    "    for roi_idx in range(num_rois): \n",
    "        for r in range(n_repeats):\n",
    "            temp = betas_by_repeat_by_ROI[sidx][roi_idx][r]\n",
    "            trimmed = temp[:,~np.all(np.isnan(temp), axis=0)]\n",
    "\n",
    "            betas_by_repeat_by_ROI[sidx][roi_idx][r] = trimmed"
   ]
  },
  {
   "cell_type": "code",
   "execution_count": 18,
   "metadata": {},
   "outputs": [],
   "source": [
    "del sorted_betas"
   ]
  },
  {
   "cell_type": "code",
   "execution_count": 19,
   "metadata": {},
   "outputs": [],
   "source": [
    "del betas_by_ROI"
   ]
  },
  {
   "cell_type": "code",
   "execution_count": 20,
   "metadata": {},
   "outputs": [],
   "source": [
    "del trimmed"
   ]
  },
  {
   "cell_type": "code",
   "execution_count": 21,
   "metadata": {},
   "outputs": [],
   "source": [
    "del temp"
   ]
  },
  {
   "cell_type": "code",
   "execution_count": 22,
   "metadata": {},
   "outputs": [],
   "source": [
    "#Create RSMS for all the ROIs, repeats and subjects\n",
    "tril_flat_shape = int((betas_by_repeat_by_ROI[0][0][0].shape[0]**2/2) - (betas_by_repeat_by_ROI[0][0][0].shape[0]/2))\n",
    "flat_rsm_r1 = np.zeros((num_rois, tril_flat_shape))\n",
    "flat_rsm_r2 = np.zeros((num_rois, tril_flat_shape))\n",
    "flat_rsm_r3 = np.zeros((num_rois, tril_flat_shape))\n"
   ]
  },
  {
   "cell_type": "code",
   "execution_count": 23,
   "metadata": {},
   "outputs": [],
   "source": [
    "sidx = 0\n",
    "for roi_idx in range(num_rois):\n",
    "        \n",
    "    rsm = np.corrcoef(betas_by_repeat_by_ROI[sidx][roi_idx][0])\n",
    "    flat_rsm_r1[roi_idx, :] = get_flat_lower_tri(rsm,diagonal=False)\n",
    "\n",
    "    rsm = np.corrcoef(betas_by_repeat_by_ROI[sidx][roi_idx][1])\n",
    "    flat_rsm_r2[roi_idx, :] = get_flat_lower_tri(rsm,diagonal=False)\n",
    "\n",
    "    rsm = np.corrcoef(betas_by_repeat_by_ROI[sidx][roi_idx][2])\n",
    "    flat_rsm_r3[roi_idx, :] = get_flat_lower_tri(rsm,diagonal=False)\n"
   ]
  },
  {
   "cell_type": "code",
   "execution_count": 24,
   "metadata": {},
   "outputs": [
    {
     "data": {
      "text/plain": [
       "array([[ 0.22163879, -0.22898952,  0.08036263, ...,  0.24869309,\n",
       "         0.05151809, -0.02989942],\n",
       "       [ 0.18168984, -0.59934564,  0.24561631, ...,  0.5073171 ,\n",
       "        -0.27287274, -0.09570264],\n",
       "       [ 0.13466941,  0.16283013, -0.00949118, ..., -0.04618625,\n",
       "         0.47151934, -0.0297087 ],\n",
       "       ...,\n",
       "       [ 0.01052916,  0.02955036, -0.07184823, ...,  0.08113293,\n",
       "         0.00238615, -0.15398958],\n",
       "       [-0.05098402, -0.13393263,  0.13031135, ..., -0.11265067,\n",
       "         0.05958221, -0.26555929],\n",
       "       [-0.138768  ,  0.08249938, -0.04714741, ...,  0.12557533,\n",
       "        -0.08300357, -0.27075331]])"
      ]
     },
     "execution_count": 24,
     "metadata": {},
     "output_type": "execute_result"
    }
   ],
   "source": [
    "flat_rsm_r1"
   ]
  },
  {
   "cell_type": "code",
   "execution_count": 25,
   "metadata": {},
   "outputs": [],
   "source": [
    "r1_trial_order = [0, 0, 1, 1, 2, 2]\n",
    "r2_trial_order = [1, 2, 0, 2, 0, 1]"
   ]
  },
  {
   "cell_type": "code",
   "execution_count": 26,
   "metadata": {},
   "outputs": [],
   "source": [
    "del betas_by_repeat_by_ROI"
   ]
  },
  {
   "cell_type": "code",
   "execution_count": 27,
   "metadata": {},
   "outputs": [],
   "source": [
    "del rsm"
   ]
  },
  {
   "cell_type": "code",
   "execution_count": 28,
   "metadata": {},
   "outputs": [],
   "source": [
    "mega_matrix = np.zeros((num_rois,num_rois))\n",
    "\n",
    "for roi_idx1 in range(num_rois): #rows - i.e. model candidate\n",
    "    \n",
    "    split_half = np.zeros((3))\n",
    "    split_half = [stats.pearsonr(flat_rsm_r1[roi_idx1,:],flat_rsm_r2[roi_idx1,:])[0],\n",
    "                  stats.pearsonr(flat_rsm_r1[roi_idx1,:],flat_rsm_r3[roi_idx1,:])[0],\n",
    "                  stats.pearsonr(flat_rsm_r2[roi_idx1,:],flat_rsm_r3[roi_idx1,:])[0]]\n",
    "    NC_model = np.mean(split_half) * 100\n",
    "    \n",
    "    for roi_idx2 in range(num_rois): #columns - i.e. target data\n",
    "        \n",
    "        split_half = np.zeros((3))\n",
    "        split_half = [stats.pearsonr(flat_rsm_r1[roi_idx2,:],flat_rsm_r2[roi_idx2,:])[0],\n",
    "                      stats.pearsonr(flat_rsm_r1[roi_idx2,:],flat_rsm_r3[roi_idx2,:])[0],\n",
    "                      stats.pearsonr(flat_rsm_r2[roi_idx2,:],flat_rsm_r3[roi_idx2,:])[0]]\n",
    "        NC_target = np.mean(split_half) * 100\n",
    "        \n",
    "        \n",
    "        rsm_corr = np.zeros((6))\n",
    "        \n",
    "        rsm_corr[0] = stats.pearsonr(flat_rsm_r1[roi_idx1,:],\n",
    "                                     flat_rsm_r2[roi_idx2,:])[0]\n",
    "        rsm_corr[1] = stats.pearsonr(flat_rsm_r1[roi_idx1,:],\n",
    "                                     flat_rsm_r3[roi_idx2,:])[0]\n",
    "        rsm_corr[2] = stats.pearsonr(flat_rsm_r2[roi_idx1,:],\n",
    "                                     flat_rsm_r1[roi_idx2,:])[0]\n",
    "        rsm_corr[3] = stats.pearsonr(flat_rsm_r2[roi_idx1,:],\n",
    "                                     flat_rsm_r3[roi_idx2,:])[0]\n",
    "        rsm_corr[4] = stats.pearsonr(flat_rsm_r3[roi_idx1,:],\n",
    "                                     flat_rsm_r1[roi_idx2,:])[0]\n",
    "        rsm_corr[5] = stats.pearsonr(flat_rsm_r3[roi_idx1,:],\n",
    "                                     flat_rsm_r2[roi_idx2,:])[0]\n",
    "        \n",
    "        mega_matrix[roi_idx1,roi_idx2] = np.mean(rsm_corr) * np.sqrt(100/NC_model) * np.sqrt(100/NC_target)\n",
    "        "
   ]
  },
  {
   "cell_type": "code",
   "execution_count": 29,
   "metadata": {},
   "outputs": [
    {
     "data": {
      "text/plain": [
       "<matplotlib.colorbar.Colorbar at 0x7f2694d50450>"
      ]
     },
     "execution_count": 29,
     "metadata": {},
     "output_type": "execute_result"
    },
    {
     "data": {
      "image/png": "[encoded data removed]",
      "text/plain": [
       "<Figure size 432x288 with 2 Axes>"
      ]
     },
     "metadata": {
      "needs_background": "light"
     },
     "output_type": "display_data"
    }
   ],
   "source": [
    "plt.imshow(mega_matrix)\n",
    "plt.clim(0,1)\n",
    "plt.colorbar(fraction=0.046, pad=0.04)"
   ]
  },
  {
   "cell_type": "code",
   "execution_count": 30,
   "metadata": {},
   "outputs": [],
   "source": [
    "from sklearn.manifold import MDS\n",
    "x, y = MDS(dissimilarity='precomputed').fit_transform(1-mega_matrix).T"
   ]
  },
  {
   "cell_type": "code",
   "execution_count": 31,
   "metadata": {},
   "outputs": [
    {
     "data": {
      "text/plain": [
       "<matplotlib.collections.PathCollection at 0x7f268f728710>"
      ]
     },
     "execution_count": 31,
     "metadata": {},
     "output_type": "execute_result"
    },
    {
     "data": {
      "image/png": "[encoded data removed]",
      "text/plain": [
       "<Figure size 432x288 with 1 Axes>"
      ]
     },
     "metadata": {
      "needs_background": "light"
     },
     "output_type": "display_data"
    }
   ],
   "source": [
    "plt.scatter(x, y)"
   ]
  },
  {
   "cell_type": "code",
   "execution_count": 33,
   "metadata": {},
   "outputs": [],
   "source": [
    "from scipy.cluster.hierarchy import dendrogram, linkage, set_link_color_palette\n",
    "from scipy.spatial.distance import squareform"
   ]
  },
  {
   "cell_type": "code",
   "execution_count": 34,
   "metadata": {},
   "outputs": [],
   "source": [
    "sym_mm = np.around(mega_matrix, decimals = 5)"
   ]
  },
  {
   "cell_type": "code",
   "execution_count": 35,
   "metadata": {},
   "outputs": [],
   "source": [
    "dists = squareform(1-sym_mm)"
   ]
  },
  {
   "cell_type": "code",
   "execution_count": 36,
   "metadata": {},
   "outputs": [],
   "source": [
    "linkage_matrix = linkage(dists, \"complete\", optimal_ordering=True)\n"
   ]
  },
  {
   "cell_type": "code",
   "execution_count": 39,
   "metadata": {},
   "outputs": [
    {
     "data": {
      "image/png": "[encoded data removed]",
      "text/plain": [
       "<Figure size 432x288 with 1 Axes>"
      ]
     },
     "metadata": {
      "needs_background": "light"
     },
     "output_type": "display_data"
    }
   ],
   "source": [
    "dn = dendrogram(linkage_matrix,\n",
    "                above_threshold_color='#bcbddc')"
   ]
  },
  {
   "cell_type": "code",
   "execution_count": null,
   "metadata": {},
   "outputs": [],
   "source": []
  }
 ],
 "metadata": {
  "kernelspec": {
   "display_name": "Python 3",
   "language": "python",
   "name": "python3"
  },
  "language_info": {
   "codemirror_mode": {
    "name": "ipython",
    "version": 3
   },
   "file_extension": ".py",
   "mimetype": "text/x-python",
   "name": "python",
   "nbconvert_exporter": "python",
   "pygments_lexer": "ipython3",
   "version": "3.7.9"
  }
 },
 "nbformat": 4,
 "nbformat_minor": 4
}
