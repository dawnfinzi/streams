{
 "cells": [
  {
   "cell_type": "markdown",
   "metadata": {},
   "source": [
    "## test parcellation approach with subj05"
   ]
  },
  {
   "cell_type": "code",
   "execution_count": 1,
   "metadata": {},
   "outputs": [],
   "source": [
    "%matplotlib inline\n",
    "\n",
    "import matplotlib\n",
    "import matplotlib.pyplot as plt\n",
    "import h5py\n",
    "import numpy as np\n",
    "import scipy as sp\n",
    "import scipy.stats as stats\n",
    "import nibabel as nibabel\n",
    "import pandas as pd\n",
    "import nibabel.freesurfer.mghformat as mgh\n",
    "import scipy.io\n",
    "import itertools \n",
    "import pickle"
   ]
  },
  {
   "cell_type": "code",
   "execution_count": 6,
   "metadata": {},
   "outputs": [],
   "source": [
    "import sys\n",
    "utils_dir = '/oak/stanford/groups/kalanit/biac2/kgs/projects/Dawn/NSD/code/streams/utils/'\n",
    "sys.path.append(utils_dir)"
   ]
  },
  {
   "cell_type": "code",
   "execution_count": 7,
   "metadata": {},
   "outputs": [],
   "source": [
    "from rsm_utils import get_flat_lower_tri, make_flat_rsms"
   ]
  },
  {
   "cell_type": "code",
   "execution_count": 8,
   "metadata": {},
   "outputs": [],
   "source": [
    "data_dir = '../../../data/'\n",
    "local_data_dir = '../../../local_data/'\n",
    "\n",
    "subjid = ['06']\n",
    "n_repeats = 3\n",
    "\n",
    "#threshold for voxels (based on split-half reliability)\n",
    "thresh = 0.1"
   ]
  },
  {
   "cell_type": "code",
   "execution_count": 9,
   "metadata": {},
   "outputs": [],
   "source": [
    "#get ROI data\n",
    "rh_parcels = []\n",
    "for sidx, sid in enumerate(subjid):\n",
    "    mgh_file = mgh.load(local_data_dir+'freesurfer/subj'+ sid +'/lh.tessellate_300.mgz')\n",
    "    rh_parcels.append(mgh_file.get_fdata()[:,0,0])"
   ]
  },
  {
   "cell_type": "code",
   "execution_count": 10,
   "metadata": {},
   "outputs": [],
   "source": [
    "num_rois = int(np.max(rh_parcels))"
   ]
  },
  {
   "cell_type": "code",
   "execution_count": null,
   "metadata": {},
   "outputs": [],
   "source": [
    "#get voxel level split-half reliability data\n",
    "reliability = []\n",
    "for sidx, sid in enumerate(subjid):\n",
    "    \n",
    "    sh_dir = local_data_dir + 'freesurfer/subj' + sid + '/lh_split_half.mat'\n",
    "    sh = scipy.io.loadmat(sh_dir)\n",
    "    \n",
    "    reliability.append(sh['mean'])"
   ]
  },
  {
   "cell_type": "code",
   "execution_count": null,
   "metadata": {},
   "outputs": [],
   "source": [
    "# let's organize by ROI \n",
    "sh_by_ROI = [[[] for j in range(num_rois)] for i in range(len(subjid))]\n",
    "total_vox = np.zeros((len(subjid), num_rois))\n",
    "\n",
    "for sidx, sid in enumerate(subjid):  \n",
    "    for roi_idx in range(num_rois):       \n",
    "        sh_by_ROI[sidx][roi_idx]=reliability[sidx][:,rh_parcels[sidx] == roi_idx+1]\n",
    "        total_vox[sidx,roi_idx] = len(sh_by_ROI[sidx][roi_idx][0])"
   ]
  },
  {
   "cell_type": "code",
   "execution_count": null,
   "metadata": {},
   "outputs": [],
   "source": [
    "thresh_rois = np.array([np.sum(sh_by_ROI[0][r]>.1) for r in range(num_rois)])"
   ]
  },
  {
   "cell_type": "code",
   "execution_count": null,
   "metadata": {},
   "outputs": [],
   "source": [
    "thresh_rois"
   ]
  },
  {
   "cell_type": "code",
   "execution_count": null,
   "metadata": {},
   "outputs": [],
   "source": [
    "np.sum(thresh_rois>0)/num_rois #percent rois above thres"
   ]
  },
  {
   "cell_type": "code",
   "execution_count": 11,
   "metadata": {},
   "outputs": [],
   "source": [
    "all_ids = []\n",
    "max_session = np.zeros(len(subjid))\n",
    "for sidx, sid in enumerate(subjid):\n",
    "    \n",
    "    data = pd.read_csv(data_dir+'nsddata/ppdata/subj'+ sid +'/behav/responses.tsv', sep='\\t')\n",
    "    \n",
    "    max_session[sidx] = np.max(np.array(data['SESSION'])) \n",
    "    \n",
    "    all_ids.append(np.array(data['73KID']))\n",
    "    \n",
    "    #shared_mask.append(np.isin(all_ids[sidx],sharedix))"
   ]
  },
  {
   "cell_type": "code",
   "execution_count": 12,
   "metadata": {},
   "outputs": [],
   "source": [
    "which_reps = []\n",
    "for sidx, sid in enumerate(subjid):\n",
    "    vals, idx_start, count = np.unique(all_ids[sidx], return_counts=True,\n",
    "                                    return_index=True)\n",
    "    which_reps.append(vals[count == n_repeats])\n",
    "    \n",
    "least_trials = min(which_reps, key=len)"
   ]
  },
  {
   "cell_type": "code",
   "execution_count": 13,
   "metadata": {},
   "outputs": [],
   "source": [
    "id_nums_3reps = []\n",
    "mask_3reps = []\n",
    "for sidx, sid in enumerate(subjid):\n",
    "    \n",
    "    data = pd.read_csv(data_dir+'nsddata/ppdata/subj'+ sid +'/behav/responses.tsv', sep='\\t')\n",
    "    \n",
    "    mask_3reps.append(np.isin(all_ids[sidx],which_reps[sidx]))\n",
    "    id_nums_3reps.append(np.array(data['73KID'])[mask_3reps[sidx]])\n"
   ]
  },
  {
   "cell_type": "code",
   "execution_count": 14,
   "metadata": {},
   "outputs": [],
   "source": [
    "arr1inds = id_nums_3reps[sidx].argsort()"
   ]
  },
  {
   "cell_type": "code",
   "execution_count": 15,
   "metadata": {},
   "outputs": [
    {
     "name": "stdout",
     "output_type": "stream",
     "text": [
      "0\n",
      "1\n",
      "2\n",
      "3\n",
      "4\n",
      "5\n",
      "6\n",
      "7\n",
      "8\n",
      "9\n",
      "10\n",
      "11\n",
      "12\n",
      "13\n",
      "14\n",
      "15\n",
      "16\n",
      "17\n",
      "18\n",
      "19\n",
      "20\n",
      "21\n",
      "22\n",
      "23\n",
      "24\n",
      "25\n",
      "26\n",
      "27\n",
      "28\n",
      "29\n",
      "30\n",
      "31\n",
      "32\n"
     ]
    }
   ],
   "source": [
    "#right hemisphere\n",
    "betas_by_ROI = [[] for j in range(num_rois)]\n",
    "\n",
    "for sidx, sid in enumerate(subjid):\n",
    "    \n",
    "    print(sidx)\n",
    "    mask = mask_3reps[sidx]\n",
    "    sorted_betas = []\n",
    "    \n",
    "    #get all betas across all sessions\n",
    "    for sess in range(1,int(max_session[sidx])+1):\n",
    "        print(sess)\n",
    "                \n",
    "        if(sess < 10):\n",
    "            idx = '0' + str(sess)\n",
    "        else:\n",
    "            idx = str(sess)\n",
    "\n",
    "        raw_betas = h5py.File(local_data_dir+'freesurfer/subj'+sid+'/betas/lh.zscore_betas_session'+idx+'.hdf5','r')\n",
    "\n",
    "        sess_betas = raw_betas['zscore_betas'][:][mask[(sess-1)*750:sess*750]]\n",
    "        del raw_betas\n",
    "        \n",
    "        if(sess==1):\n",
    "            for roi_idx in range(num_rois):\n",
    "                betas_by_ROI[roi_idx] = sess_betas[:,rh_parcels[sidx] == roi_idx+1]\n",
    "        else:\n",
    "            for roi_idx in range(num_rois):\n",
    "                betas_by_ROI[roi_idx] = np.append(betas_by_ROI[roi_idx],sess_betas[:,rh_parcels[sidx] == roi_idx+1],axis=0)\n",
    "        \n",
    "        del sess_betas\n"
   ]
  },
  {
   "cell_type": "code",
   "execution_count": 16,
   "metadata": {},
   "outputs": [],
   "source": [
    "betas_by_repeat_by_ROI = [[[] for j in range(num_rois)] for i in range(len(subjid))]\n",
    "for sidx, sid in enumerate(subjid):\n",
    "    for roi_idx in range(num_rois):  \n",
    "        \n",
    "        sorted_betas = betas_by_ROI[roi_idx][arr1inds[::-1]]\n",
    "        \n",
    "        for r in range(n_repeats):\n",
    "            betas_by_repeat_by_ROI[sidx][roi_idx].insert(r,sorted_betas[r::3])"
   ]
  },
  {
   "cell_type": "code",
   "execution_count": 17,
   "metadata": {},
   "outputs": [],
   "source": [
    "del betas_by_ROI"
   ]
  },
  {
   "cell_type": "code",
   "execution_count": 14,
   "metadata": {},
   "outputs": [
    {
     "data": {
      "text/plain": [
       "(6234, 626)"
      ]
     },
     "execution_count": 14,
     "metadata": {},
     "output_type": "execute_result"
    }
   ],
   "source": [
    "betas_by_repeat_by_ROI[0][0][0].shape"
   ]
  },
  {
   "cell_type": "code",
   "execution_count": null,
   "metadata": {},
   "outputs": [],
   "source": [
    "#Replace voxels with split-half reliability < thresh with NaNs and then trim those from data structure\n",
    "\n",
    "#convert to nans\n",
    "for sidx, sid in enumerate(subjid):  \n",
    "    for roi_idx in range(num_rois): \n",
    "        for vox in range(len(sh_by_ROI[sidx][roi_idx][0])):\n",
    "            if sh_by_ROI[sidx][roi_idx][0][vox] < thresh:\n",
    "                betas_by_repeat_by_ROI[sidx][roi_idx][0][:,vox]=np.nan\n",
    "                betas_by_repeat_by_ROI[sidx][roi_idx][1][:,vox]=np.nan\n",
    "                betas_by_repeat_by_ROI[sidx][roi_idx][2][:,vox]=np.nan    \n",
    "#trim out nans\n",
    "for sidx, sid in enumerate(subjid):   \n",
    "    for roi_idx in range(num_rois): \n",
    "        for r in range(n_repeats):\n",
    "            temp = betas_by_repeat_by_ROI[sidx][roi_idx][r]\n",
    "            trimmed = temp[:,~np.all(np.isnan(temp), axis=0)]\n",
    "\n",
    "            betas_by_repeat_by_ROI[sidx][roi_idx][r] = trimmed"
   ]
  },
  {
   "cell_type": "code",
   "execution_count": null,
   "metadata": {},
   "outputs": [],
   "source": [
    "del sorted_betas"
   ]
  },
  {
   "cell_type": "code",
   "execution_count": null,
   "metadata": {},
   "outputs": [],
   "source": [
    "del betas_by_ROI"
   ]
  },
  {
   "cell_type": "code",
   "execution_count": null,
   "metadata": {},
   "outputs": [],
   "source": [
    "del trimmed"
   ]
  },
  {
   "cell_type": "code",
   "execution_count": null,
   "metadata": {},
   "outputs": [],
   "source": [
    "test.shape"
   ]
  },
  {
   "cell_type": "code",
   "execution_count": 15,
   "metadata": {},
   "outputs": [],
   "source": [
    "def np_pearson_cor(x, y):\n",
    "    xv = x - x.mean(axis=0)\n",
    "    yv = y - y.mean(axis=0)\n",
    "    xvss = (xv * xv).sum(axis=0)\n",
    "    yvss = (yv * yv).sum(axis=0)\n",
    "    result = np.matmul(xv.transpose(), yv) / np.sqrt(np.outer(xvss, yvss))\n",
    "    # bound the values to -1 to 1 in the event of precision issues\n",
    "    return np.maximum(np.minimum(result, 1.0), -1.0)"
   ]
  },
  {
   "cell_type": "code",
   "execution_count": null,
   "metadata": {},
   "outputs": [],
   "source": [
    "def ss(a, axis):\n",
    "    return np.sum(a * a, axis=axis)\n",
    "\n",
    "def compute_corr(x, y):\n",
    "    x = np.asarray(x)\n",
    "    y = np.asarray(y)\n",
    "    mx = x.mean(axis=-1)\n",
    "    my = y.mean(axis=-1)\n",
    "    xm, ym = x - mx[..., None], y - my[..., None]\n",
    "    r_num = np.add.reduce(xm * ym, axis=-1)\n",
    "    r_den = np.sqrt(ss(xm, axis=-1) * ss(ym, axis=-1))\n",
    "    r = r_num / r_den\n",
    "    return r"
   ]
  },
  {
   "cell_type": "code",
   "execution_count": null,
   "metadata": {},
   "outputs": [],
   "source": [
    "testing = np_pearson_cor(test.T,test.T)"
   ]
  },
  {
   "cell_type": "code",
   "execution_count": null,
   "metadata": {},
   "outputs": [],
   "source": [
    "testing2 = compute_corr(test,test)"
   ]
  },
  {
   "cell_type": "code",
   "execution_count": null,
   "metadata": {},
   "outputs": [],
   "source": [
    "testing2.shape"
   ]
  },
  {
   "cell_type": "code",
   "execution_count": null,
   "metadata": {
    "scrolled": true
   },
   "outputs": [],
   "source": [
    "round_test = np.around(rsm, decimals = 5)\n",
    "round_testing = np.around(testing, decimals = 5)"
   ]
  },
  {
   "cell_type": "code",
   "execution_count": null,
   "metadata": {},
   "outputs": [],
   "source": [
    "round_test == round_testing"
   ]
  },
  {
   "cell_type": "code",
   "execution_count": null,
   "metadata": {},
   "outputs": [],
   "source": [
    "testing == rsm"
   ]
  },
  {
   "cell_type": "code",
   "execution_count": null,
   "metadata": {},
   "outputs": [],
   "source": [
    "roi_idx = 0\n",
    "r = 0\n",
    "test = betas_by_repeat_by_ROI[0][roi_idx][r].T"
   ]
  },
  {
   "cell_type": "code",
   "execution_count": null,
   "metadata": {},
   "outputs": [],
   "source": [
    "timeit rsm = np.corrcoef(test)"
   ]
  },
  {
   "cell_type": "code",
   "execution_count": null,
   "metadata": {},
   "outputs": [],
   "source": [
    "timeit testing = np_pearson_cor(test,test)"
   ]
  },
  {
   "cell_type": "code",
   "execution_count": null,
   "metadata": {},
   "outputs": [],
   "source": [
    "rsm = np.corrcoef(test)\n",
    "rsm.shape"
   ]
  },
  {
   "cell_type": "code",
   "execution_count": 16,
   "metadata": {},
   "outputs": [],
   "source": [
    "tril_flat_shape = int((betas_by_repeat_by_ROI[0][0][0].shape[0]**2/2) - (betas_by_repeat_by_ROI[0][0][0].shape[0]/2))\n",
    "flat_rsm = np.zeros((num_rois, tril_flat_shape, n_repeats), dtype=int)\n"
   ]
  },
  {
   "cell_type": "code",
   "execution_count": 17,
   "metadata": {},
   "outputs": [
    {
     "data": {
      "text/plain": [
       "(68, 19428261, 3)"
      ]
     },
     "execution_count": 17,
     "metadata": {},
     "output_type": "execute_result"
    }
   ],
   "source": [
    "flat_rsm.shape"
   ]
  },
  {
   "cell_type": "code",
   "execution_count": 112,
   "metadata": {},
   "outputs": [],
   "source": [
    "roi_idx = 0\n",
    "r = 0\n",
    "flip = betas_by_repeat_by_ROI[sidx][roi_idx][r].T\n",
    "rsm = np_pearson_cor(flip,flip)"
   ]
  },
  {
   "cell_type": "code",
   "execution_count": 113,
   "metadata": {},
   "outputs": [],
   "source": [
    "rsm_old = np.corrcoef(betas_by_repeat_by_ROI[sidx][roi_idx][r])"
   ]
  },
  {
   "cell_type": "code",
   "execution_count": 57,
   "metadata": {},
   "outputs": [
    {
     "data": {
      "text/plain": [
       "array([[ 1.        ,  0.00504949,  0.23769638, ...,  0.13514723,\n",
       "        -0.11486686, -0.26558006],\n",
       "       [ 0.00504949,  1.        ,  0.01949109, ...,  0.26568577,\n",
       "         0.2418056 ,  0.18465994],\n",
       "       [ 0.23769638,  0.01949109,  1.        , ...,  0.48112218,\n",
       "        -0.25348294, -0.25367927],\n",
       "       ...,\n",
       "       [ 0.13514723,  0.26568577,  0.48112218, ...,  1.        ,\n",
       "        -0.0570444 , -0.29417565],\n",
       "       [-0.11486686,  0.2418056 , -0.25348294, ..., -0.0570444 ,\n",
       "         1.        ,  0.11984408],\n",
       "       [-0.26558006,  0.18465994, -0.25367927, ..., -0.29417565,\n",
       "         0.11984408,  1.        ]])"
      ]
     },
     "execution_count": 57,
     "metadata": {},
     "output_type": "execute_result"
    }
   ],
   "source": [
    "rsm_old"
   ]
  },
  {
   "cell_type": "code",
   "execution_count": 58,
   "metadata": {},
   "outputs": [
    {
     "data": {
      "text/plain": [
       "array([[ 1.        ,  0.00504949,  0.23769638, ...,  0.13514723,\n",
       "        -0.11486686, -0.26558006],\n",
       "       [ 0.00504949,  1.        ,  0.01949109, ...,  0.26568577,\n",
       "         0.2418056 ,  0.18465994],\n",
       "       [ 0.23769638,  0.01949109,  1.        , ...,  0.48112218,\n",
       "        -0.25348294, -0.25367927],\n",
       "       ...,\n",
       "       [ 0.13514723,  0.26568577,  0.48112218, ...,  1.        ,\n",
       "        -0.0570444 , -0.29417565],\n",
       "       [-0.11486686,  0.2418056 , -0.25348294, ..., -0.0570444 ,\n",
       "         1.        ,  0.11984408],\n",
       "       [-0.26558006,  0.18465994, -0.25367927, ..., -0.29417565,\n",
       "         0.11984408,  1.        ]])"
      ]
     },
     "execution_count": 58,
     "metadata": {},
     "output_type": "execute_result"
    }
   ],
   "source": [
    "rsm"
   ]
  },
  {
   "cell_type": "code",
   "execution_count": 26,
   "metadata": {},
   "outputs": [
    {
     "data": {
      "text/plain": [
       "(19424752,)"
      ]
     },
     "execution_count": 26,
     "metadata": {},
     "output_type": "execute_result"
    }
   ],
   "source": [
    "get_flat_lower_tri(test,diagonal=False).shape"
   ]
  },
  {
   "cell_type": "code",
   "execution_count": 22,
   "metadata": {},
   "outputs": [
    {
     "data": {
      "text/plain": [
       "(19428261,)"
      ]
     },
     "execution_count": 22,
     "metadata": {},
     "output_type": "execute_result"
    }
   ],
   "source": [
    "get_flat_lower_tri(rsm,diagonal=False).shape"
   ]
  },
  {
   "cell_type": "code",
   "execution_count": 70,
   "metadata": {},
   "outputs": [],
   "source": [
    "lower_tri_test = np.tril(test, -1).T.ravel()\n",
    "lower_tri_pre = np.tril(rsm, -1).T.ravel()"
   ]
  },
  {
   "cell_type": "code",
   "execution_count": 85,
   "metadata": {},
   "outputs": [
    {
     "data": {
      "text/plain": [
       "(38862756,)"
      ]
     },
     "execution_count": 85,
     "metadata": {},
     "output_type": "execute_result"
    }
   ],
   "source": [
    "(lower_tri_test==0).shape"
   ]
  },
  {
   "cell_type": "code",
   "execution_count": 84,
   "metadata": {},
   "outputs": [
    {
     "data": {
      "text/plain": [
       "(38862756,)"
      ]
     },
     "execution_count": 84,
     "metadata": {},
     "output_type": "execute_result"
    }
   ],
   "source": [
    "(lower_tri_pre==0).shape"
   ]
  },
  {
   "cell_type": "code",
   "execution_count": 28,
   "metadata": {},
   "outputs": [],
   "source": [
    "test = np.around(rsm*10000,0)\n",
    "#test[test == 10000] = 1 #set diagonal back to 1"
   ]
  },
  {
   "cell_type": "code",
   "execution_count": 30,
   "metadata": {},
   "outputs": [],
   "source": [
    "lower_tri = np.tril(test, -1).T.ravel()"
   ]
  },
  {
   "cell_type": "code",
   "execution_count": 86,
   "metadata": {},
   "outputs": [
    {
     "data": {
      "text/plain": [
       "(19428261,)"
      ]
     },
     "execution_count": 86,
     "metadata": {},
     "output_type": "execute_result"
    }
   ],
   "source": [
    "lower_tri_pre[lower_tri_pre != 0].shape"
   ]
  },
  {
   "cell_type": "code",
   "execution_count": 87,
   "metadata": {},
   "outputs": [
    {
     "data": {
      "text/plain": [
       "(19424752,)"
      ]
     },
     "execution_count": 87,
     "metadata": {},
     "output_type": "execute_result"
    }
   ],
   "source": [
    "lower_tri_test[lower_tri_test != 0].shape"
   ]
  },
  {
   "cell_type": "code",
   "execution_count": 41,
   "metadata": {},
   "outputs": [],
   "source": [
    "lower_tri = np.tril(rsm, -1)"
   ]
  },
  {
   "cell_type": "code",
   "execution_count": 109,
   "metadata": {},
   "outputs": [
    {
     "data": {
      "text/plain": [
       "(19434495,)"
      ]
     },
     "execution_count": 109,
     "metadata": {},
     "output_type": "execute_result"
    }
   ],
   "source": [
    "rsm[idx].shape"
   ]
  },
  {
   "cell_type": "code",
   "execution_count": 117,
   "metadata": {},
   "outputs": [],
   "source": [
    "idx = np.tril_indices(rsm.shape[0], -1)"
   ]
  },
  {
   "cell_type": "code",
   "execution_count": 120,
   "metadata": {},
   "outputs": [
    {
     "data": {
      "text/plain": [
       "(19428261,)"
      ]
     },
     "execution_count": 120,
     "metadata": {},
     "output_type": "execute_result"
    }
   ],
   "source": [
    "rsm[idx].shape"
   ]
  },
  {
   "cell_type": "code",
   "execution_count": 119,
   "metadata": {},
   "outputs": [
    {
     "data": {
      "text/plain": [
       "(19428261,)"
      ]
     },
     "execution_count": 119,
     "metadata": {},
     "output_type": "execute_result"
    }
   ],
   "source": [
    "get_flat_lower_tri(rsm_old,diagonal=False).shape"
   ]
  },
  {
   "cell_type": "code",
   "execution_count": 121,
   "metadata": {},
   "outputs": [],
   "source": [
    "#Create RSMS for all the ROIs, repeats and subjects\n",
    "tril_flat_shape = int((betas_by_repeat_by_ROI[0][0][0].shape[0]**2/2) - (betas_by_repeat_by_ROI[0][0][0].shape[0]/2))\n",
    "flat_rsm = np.zeros((num_rois, tril_flat_shape, n_repeats), dtype=int)\n",
    "\n",
    "sidx = 0 #currently doing one subject at a time\n",
    "for roi_idx in range(num_rois):\n",
    "    for r in range(n_repeats):\n",
    "        flip = betas_by_repeat_by_ROI[sidx][roi_idx][r].T\n",
    "        rsm = np_pearson_cor(flip,flip)\n",
    "        test = np.around(rsm*1000,0)\n",
    "        idx = np.tril_indices(test.shape[0], -1)\n",
    "        flat_rsm[roi_idx, :, r] = test[idx]"
   ]
  },
  {
   "cell_type": "code",
   "execution_count": null,
   "metadata": {},
   "outputs": [],
   "source": [
    "get_flat_lower_tri(test,diagonal=False).shape"
   ]
  },
  {
   "cell_type": "code",
   "execution_count": null,
   "metadata": {},
   "outputs": [],
   "source": [
    "betas_by_repeat_by_ROI[0][0][0].shape[0]**2/2 - (betas_by_repeat_by_ROI[0][0][0].shape[0])"
   ]
  },
  {
   "cell_type": "code",
   "execution_count": null,
   "metadata": {},
   "outputs": [],
   "source": [
    "timeit stats.pearsonr(flat_rsm[0,:,0],flat_rsm[1,:,0])[0]"
   ]
  },
  {
   "cell_type": "code",
   "execution_count": null,
   "metadata": {},
   "outputs": [],
   "source": [
    "stats.pearsonr(flat_rsm[0,:,0],flat_rsm[1,:,0])[0]"
   ]
  },
  {
   "cell_type": "code",
   "execution_count": null,
   "metadata": {},
   "outputs": [],
   "source": [
    "timeit np_pearson_cor(flat_rsm[0,:,0],flat_rsm[1,:,0])[0][0]"
   ]
  },
  {
   "cell_type": "code",
   "execution_count": null,
   "metadata": {},
   "outputs": [],
   "source": [
    "np_pearson_cor(flat_rsm[0,:,0],flat_rsm[1,:,0])[0][0]"
   ]
  },
  {
   "cell_type": "code",
   "execution_count": null,
   "metadata": {},
   "outputs": [],
   "source": [
    "timeit compute_corr(flat_rsm[0,:,0],flat_rsm[1,:,0])"
   ]
  },
  {
   "cell_type": "code",
   "execution_count": null,
   "metadata": {},
   "outputs": [],
   "source": [
    "#Create RSMS for all the ROIs, repeats and subjects\n",
    "tril_flat_shape = int((betas_by_repeat_by_ROI[0][0][0].shape[0]**2/2) - (betas_by_repeat_by_ROI[0][0][0].shape[0]/2))\n",
    "flat_rsm_r1 = np.zeros((num_rois, tril_flat_shape))\n",
    "flat_rsm_r2 = np.zeros((num_rois, tril_flat_shape))\n",
    "flat_rsm_r3 = np.zeros((num_rois, tril_flat_shape))\n"
   ]
  },
  {
   "cell_type": "code",
   "execution_count": null,
   "metadata": {},
   "outputs": [],
   "source": [
    "sidx = 0\n",
    "for roi_idx in range(num_rois):\n",
    "        \n",
    "    rsm = np.corrcoef(betas_by_repeat_by_ROI[sidx][roi_idx][0])\n",
    "    flat_rsm_r1[roi_idx, :] = get_flat_lower_tri(rsm,diagonal=False)\n",
    "\n",
    "    rsm = np.corrcoef(betas_by_repeat_by_ROI[sidx][roi_idx][1])\n",
    "    flat_rsm_r2[roi_idx, :] = get_flat_lower_tri(rsm,diagonal=False)\n",
    "\n",
    "    rsm = np.corrcoef(betas_by_repeat_by_ROI[sidx][roi_idx][2])\n",
    "    flat_rsm_r3[roi_idx, :] = get_flat_lower_tri(rsm,diagonal=False)\n"
   ]
  },
  {
   "cell_type": "code",
   "execution_count": null,
   "metadata": {},
   "outputs": [],
   "source": [
    "flat_rsm_r1"
   ]
  },
  {
   "cell_type": "code",
   "execution_count": null,
   "metadata": {},
   "outputs": [],
   "source": [
    "r1_trial_order = [0, 0, 1, 1, 2, 2]\n",
    "r2_trial_order = [1, 2, 0, 2, 0, 1]"
   ]
  },
  {
   "cell_type": "code",
   "execution_count": null,
   "metadata": {},
   "outputs": [],
   "source": [
    "del betas_by_repeat_by_ROI"
   ]
  },
  {
   "cell_type": "code",
   "execution_count": null,
   "metadata": {},
   "outputs": [],
   "source": [
    "del rsm"
   ]
  },
  {
   "cell_type": "code",
   "execution_count": null,
   "metadata": {},
   "outputs": [],
   "source": [
    "mega_matrix = np.zeros((num_rois,num_rois))\n",
    "\n",
    "for roi_idx1 in range(num_rois): #rows - i.e. model candidate\n",
    "    \n",
    "    split_half = np.zeros((3))\n",
    "    split_half = [stats.pearsonr(flat_rsm_r1[roi_idx1,:],flat_rsm_r2[roi_idx1,:])[0],\n",
    "                  stats.pearsonr(flat_rsm_r1[roi_idx1,:],flat_rsm_r3[roi_idx1,:])[0],\n",
    "                  stats.pearsonr(flat_rsm_r2[roi_idx1,:],flat_rsm_r3[roi_idx1,:])[0]]\n",
    "    NC_model = np.mean(split_half) * 100\n",
    "    \n",
    "    for roi_idx2 in range(num_rois): #columns - i.e. target data\n",
    "        \n",
    "        split_half = np.zeros((3))\n",
    "        split_half = [stats.pearsonr(flat_rsm_r1[roi_idx2,:],flat_rsm_r2[roi_idx2,:])[0],\n",
    "                      stats.pearsonr(flat_rsm_r1[roi_idx2,:],flat_rsm_r3[roi_idx2,:])[0],\n",
    "                      stats.pearsonr(flat_rsm_r2[roi_idx2,:],flat_rsm_r3[roi_idx2,:])[0]]\n",
    "        NC_target = np.mean(split_half) * 100\n",
    "        \n",
    "        \n",
    "        rsm_corr = np.zeros((6))\n",
    "        \n",
    "        rsm_corr[0] = stats.pearsonr(flat_rsm_r1[roi_idx1,:],\n",
    "                                     flat_rsm_r2[roi_idx2,:])[0]\n",
    "        rsm_corr[1] = stats.pearsonr(flat_rsm_r1[roi_idx1,:],\n",
    "                                     flat_rsm_r3[roi_idx2,:])[0]\n",
    "        rsm_corr[2] = stats.pearsonr(flat_rsm_r2[roi_idx1,:],\n",
    "                                     flat_rsm_r1[roi_idx2,:])[0]\n",
    "        rsm_corr[3] = stats.pearsonr(flat_rsm_r2[roi_idx1,:],\n",
    "                                     flat_rsm_r3[roi_idx2,:])[0]\n",
    "        rsm_corr[4] = stats.pearsonr(flat_rsm_r3[roi_idx1,:],\n",
    "                                     flat_rsm_r1[roi_idx2,:])[0]\n",
    "        rsm_corr[5] = stats.pearsonr(flat_rsm_r3[roi_idx1,:],\n",
    "                                     flat_rsm_r2[roi_idx2,:])[0]\n",
    "        \n",
    "        mega_matrix[roi_idx1,roi_idx2] = np.mean(rsm_corr) * np.sqrt(100/NC_model) * np.sqrt(100/NC_target)\n",
    "        "
   ]
  },
  {
   "cell_type": "code",
   "execution_count": null,
   "metadata": {},
   "outputs": [],
   "source": [
    "plt.imshow(mega_matrix)\n",
    "plt.clim(0,1)\n",
    "plt.colorbar(fraction=0.046, pad=0.04)"
   ]
  },
  {
   "cell_type": "code",
   "execution_count": null,
   "metadata": {},
   "outputs": [],
   "source": [
    "from sklearn.manifold import MDS\n",
    "x, y = MDS(dissimilarity='precomputed').fit_transform(1-mega_matrix).T"
   ]
  },
  {
   "cell_type": "code",
   "execution_count": null,
   "metadata": {},
   "outputs": [],
   "source": [
    "plt.scatter(x, y)"
   ]
  },
  {
   "cell_type": "code",
   "execution_count": null,
   "metadata": {},
   "outputs": [],
   "source": [
    "from scipy.cluster.hierarchy import dendrogram, linkage, set_link_color_palette\n",
    "from scipy.spatial.distance import squareform"
   ]
  },
  {
   "cell_type": "code",
   "execution_count": null,
   "metadata": {},
   "outputs": [],
   "source": [
    "sym_mm = np.around(mega_matrix, decimals = 5)"
   ]
  },
  {
   "cell_type": "code",
   "execution_count": null,
   "metadata": {},
   "outputs": [],
   "source": [
    "dists = squareform(1-sym_mm)"
   ]
  },
  {
   "cell_type": "code",
   "execution_count": null,
   "metadata": {},
   "outputs": [],
   "source": [
    "linkage_matrix = linkage(dists, \"complete\", optimal_ordering=True)\n"
   ]
  },
  {
   "cell_type": "code",
   "execution_count": null,
   "metadata": {},
   "outputs": [],
   "source": [
    "dn = dendrogram(linkage_matrix,\n",
    "                above_threshold_color='#bcbddc')"
   ]
  },
  {
   "cell_type": "code",
   "execution_count": null,
   "metadata": {},
   "outputs": [],
   "source": []
  }
 ],
 "metadata": {
  "kernelspec": {
   "display_name": "Python 3",
   "language": "python",
   "name": "python3"
  },
  "language_info": {
   "codemirror_mode": {
    "name": "ipython",
    "version": 3
   },
   "file_extension": ".py",
   "mimetype": "text/x-python",
   "name": "python",
   "nbconvert_exporter": "python",
   "pygments_lexer": "ipython3",
   "version": "3.7.9"
  }
 },
 "nbformat": 4,
 "nbformat_minor": 4
}
