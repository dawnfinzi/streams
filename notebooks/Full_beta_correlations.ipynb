{
 "cells": [
  {
   "cell_type": "code",
   "execution_count": 3,
   "metadata": {},
   "outputs": [],
   "source": [
    "%matplotlib inline\n",
    "\n",
    "import matplotlib\n",
    "import matplotlib.pyplot as plt"
   ]
  },
  {
   "cell_type": "code",
   "execution_count": 2,
   "metadata": {},
   "outputs": [],
   "source": [
    "#import packages\n",
    "import argparse\n",
    "import pandas as pd\n",
    "import h5py\n",
    "import numpy as np\n",
    "import scipy as sp\n",
    "import scipy.stats as stats\n",
    "import scipy.io\n",
    "import nibabel.freesurfer.mghformat as mgh\n",
    "import scipy.io\n",
    "import itertools \n",
    "import pickle\n",
    "import sys\n",
    "\n",
    "utils_dir = '/oak/stanford/groups/kalanit/biac2/kgs/projects/Dawn/NSD/code/streams/utils/'\n",
    "sys.path.append(utils_dir)\n",
    "\n",
    "from rsm_utils import get_flat_lower_tri, get_reliability_data \n",
    "\n",
    "data_dir = '/oak/stanford/groups/kalanit/biac2/kgs/projects/Dawn/NSD/data/'\n",
    "local_data_dir = '/oak/stanford/groups/kalanit/biac2/kgs/projects/Dawn/NSD/local_data/'\n",
    "\n",
    "def fast_pearson(x,y):\n",
    "    #faster, vectorized version\n",
    "    xz = x - x.mean(axis=0)\n",
    "    yz = y - y.mean(axis=0)\n",
    "    xzss = (xz * xz).sum(axis=0)\n",
    "    yzss = (yz * yz).sum(axis=0)\n",
    "    r = np.matmul(xz.transpose(), yz) / (np.sqrt(np.outer(xzss, yzss)) + np.finfo(float).eps) #precision issues\n",
    "    return np.maximum(np.minimum(r, 1.0), -1.0) #for precision issues"
   ]
  },
  {
   "cell_type": "code",
   "execution_count": 4,
   "metadata": {},
   "outputs": [],
   "source": [
    "subjid = '06'\n",
    "hemi = 'rh'"
   ]
  },
  {
   "cell_type": "code",
   "execution_count": 5,
   "metadata": {},
   "outputs": [
    {
     "name": "stdout",
     "output_type": "stream",
     "text": [
      "06\n"
     ]
    }
   ],
   "source": [
    "print(subjid)\n",
    "\n",
    "n_repeats = 3\n",
    "\n",
    "#get trial ids and mask        \n",
    "all_ids = []\n",
    "max_session = np.zeros(len([subjid]))\n",
    "for sidx, sid in enumerate([subjid]):\n",
    "\n",
    "    data = pd.read_csv(data_dir+'nsddata/ppdata/subj'+ sid +'/behav/responses.tsv', sep='\\t')\n",
    "\n",
    "    max_session[sidx] = np.max(np.array(data['SESSION'])) \n",
    "\n",
    "    all_ids.append(np.array(data['73KID']))\n",
    "\n",
    "which_reps = []\n",
    "for sidx, sid in enumerate([subjid]):\n",
    "    vals, idx_start, count = np.unique(all_ids[sidx], return_counts=True,\n",
    "                                    return_index=True)\n",
    "    which_reps.append(vals[count == n_repeats])\n",
    "\n",
    "least_trials = min(which_reps, key=len)\n",
    "\n",
    "id_nums_3reps = []\n",
    "mask_3reps = []\n",
    "for sidx, sid in enumerate([subjid]):\n",
    "\n",
    "    data = pd.read_csv(data_dir+'nsddata/ppdata/subj'+ sid +'/behav/responses.tsv', sep='\\t')\n",
    "\n",
    "    mask_3reps.append(np.isin(all_ids[sidx],which_reps[sidx]))\n",
    "    id_nums_3reps.append(np.array(data['73KID'])[mask_3reps[sidx]])\n",
    "\n",
    "arr1inds = id_nums_3reps[sidx].argsort()\n"
   ]
  },
  {
   "cell_type": "code",
   "execution_count": 6,
   "metadata": {},
   "outputs": [],
   "source": [
    "rh_streams = []\n",
    "for sidx, sid in enumerate([subjid]):\n",
    "    mgh_file = mgh.load(data_dir+'nsddata/freesurfer/subj'+ sid +'/label/rh.streams_shrink5.mgz')\n",
    "    rh_streams.append(mgh_file.get_fdata()[:,0,0])"
   ]
  },
  {
   "cell_type": "code",
   "execution_count": 7,
   "metadata": {},
   "outputs": [],
   "source": [
    "stream_idx = np.where(rh_streams[0] != 0)"
   ]
  },
  {
   "cell_type": "code",
   "execution_count": 8,
   "metadata": {},
   "outputs": [
    {
     "data": {
      "text/plain": [
       "50244"
      ]
     },
     "execution_count": 8,
     "metadata": {},
     "output_type": "execute_result"
    }
   ],
   "source": [
    "len(stream_idx[0])"
   ]
  },
  {
   "cell_type": "code",
   "execution_count": 9,
   "metadata": {},
   "outputs": [],
   "source": [
    "mask = mask_3reps[sidx]\n",
    "sess = 1\n",
    "idx = '0' + str(sess)\n",
    "\n",
    "raw_betas = h5py.File(local_data_dir+'freesurfer/subj'+sid+'/betas/'+ hemi +'.zscore_betas_session'+idx+'.hdf5','r')\n",
    "\n",
    "sess_betas = raw_betas['zscore_betas'][:][mask[(sess-1)*750:sess*750]]"
   ]
  },
  {
   "cell_type": "code",
   "execution_count": 10,
   "metadata": {},
   "outputs": [
    {
     "data": {
      "text/plain": [
       "259406"
      ]
     },
     "execution_count": 10,
     "metadata": {},
     "output_type": "execute_result"
    }
   ],
   "source": [
    "len(sess_betas[0])"
   ]
  },
  {
   "cell_type": "code",
   "execution_count": 11,
   "metadata": {},
   "outputs": [
    {
     "data": {
      "text/plain": [
       "50244"
      ]
     },
     "execution_count": 11,
     "metadata": {},
     "output_type": "execute_result"
    }
   ],
   "source": [
    "len(sess_betas[:,stream_idx[0]][0])"
   ]
  },
  {
   "cell_type": "code",
   "execution_count": 12,
   "metadata": {},
   "outputs": [
    {
     "name": "stdout",
     "output_type": "stream",
     "text": [
      "1\n",
      "2\n",
      "3\n",
      "4\n",
      "5\n",
      "6\n",
      "7\n",
      "8\n",
      "9\n",
      "10\n",
      "11\n",
      "12\n",
      "13\n",
      "14\n",
      "15\n",
      "16\n",
      "17\n",
      "18\n",
      "19\n",
      "20\n",
      "21\n",
      "22\n",
      "23\n",
      "24\n",
      "25\n",
      "26\n",
      "27\n",
      "28\n",
      "29\n",
      "30\n",
      "31\n",
      "32\n"
     ]
    }
   ],
   "source": [
    "for sidx, sid in enumerate([subjid]):\n",
    "        \n",
    "    mask = mask_3reps[sidx]\n",
    "    sorted_betas = []\n",
    "\n",
    "    #get all betas across all sessions\n",
    "    for sess in range(1,int(max_session[sidx])+1):\n",
    "        print(sess)\n",
    "\n",
    "        if(sess < 10):\n",
    "            idx = '0' + str(sess)\n",
    "        else:\n",
    "            idx = str(sess)\n",
    "\n",
    "        raw_betas = h5py.File(local_data_dir+'freesurfer/subj'+sid+'/betas/'+ hemi +'.zscore_betas_session'+idx+'.hdf5','r')\n",
    "\n",
    "        sess_betas = raw_betas['zscore_betas'][:][mask[(sess-1)*750:sess*750]]\n",
    "        del raw_betas\n",
    "\n",
    "        if(sess==1):\n",
    "            betas_trimmed = sess_betas[:,stream_idx[0]]\n",
    "        else:\n",
    "            betas_trimmed = np.append(betas_trimmed,sess_betas[:,stream_idx[0]],axis=0)\n",
    "\n",
    "        del sess_betas"
   ]
  },
  {
   "cell_type": "code",
   "execution_count": 13,
   "metadata": {},
   "outputs": [
    {
     "data": {
      "text/plain": [
       "(18702, 50244)"
      ]
     },
     "execution_count": 13,
     "metadata": {},
     "output_type": "execute_result"
    }
   ],
   "source": [
    "betas_trimmed.shape"
   ]
  },
  {
   "cell_type": "code",
   "execution_count": 14,
   "metadata": {},
   "outputs": [],
   "source": [
    "betas_by_repeat = []\n",
    "sorted_betas = betas_trimmed[arr1inds[::-1]]\n",
    "\n",
    "for r in range(n_repeats):\n",
    "    betas_by_repeat.insert(r,sorted_betas[r::3])"
   ]
  },
  {
   "cell_type": "code",
   "execution_count": 16,
   "metadata": {},
   "outputs": [],
   "source": [
    "del sorted_betas"
   ]
  },
  {
   "cell_type": "code",
   "execution_count": 17,
   "metadata": {},
   "outputs": [],
   "source": [
    "del betas_trimmed"
   ]
  },
  {
   "cell_type": "code",
   "execution_count": 102,
   "metadata": {},
   "outputs": [],
   "source": [
    "view = np.corrcoef(betas_by_repeat[0].T)"
   ]
  },
  {
   "cell_type": "code",
   "execution_count": 106,
   "metadata": {},
   "outputs": [],
   "source": [
    "corr_struct_r1 = view"
   ]
  },
  {
   "cell_type": "code",
   "execution_count": 114,
   "metadata": {},
   "outputs": [
    {
     "data": {
      "text/plain": [
       "(100, 39216)"
      ]
     },
     "execution_count": 114,
     "metadata": {},
     "output_type": "execute_result"
    }
   ],
   "source": [
    "corr_struct_r1[0:100,].shape"
   ]
  },
  {
   "cell_type": "code",
   "execution_count": 115,
   "metadata": {},
   "outputs": [],
   "source": [
    "#create dict for matlab\n",
    "corr_struct = {}\n",
    "corr_struct['matrix'] = corr_struct_r1[0:100,]\n",
    "corr_struct['idx'] = stream_idx[0:100]\n",
    "\n",
    "#save out\n",
    "save_dir = '../../../local_data/processed'\n",
    "scipy.io.savemat(save_dir + '/subj'+ sid+hemi+'_r1corrs.mat', corr_struct)"
   ]
  },
  {
   "cell_type": "code",
   "execution_count": 116,
   "metadata": {},
   "outputs": [
    {
     "data": {
      "text/plain": [
       "array([[ 0.52702347,  0.70148925,  0.67306408, ...,  0.93298385,\n",
       "         1.07363744,  1.27608775],\n",
       "       [-1.98816976, -2.06754873, -1.88364633, ..., -0.66691846,\n",
       "        -1.26206734, -1.34072658],\n",
       "       [ 0.49875258,  0.46666021,  1.58929746, ...,  0.66165018,\n",
       "         0.20301394,  1.51180731],\n",
       "       ...,\n",
       "       [-0.70195495, -0.98641107, -1.47951335, ..., -0.82946236,\n",
       "        -1.09007305, -0.81582154],\n",
       "       [-0.26479123,  0.10511252, -0.07815462, ...,  0.93139166,\n",
       "         0.84004851,  0.16542265],\n",
       "       [-0.09343259,  0.51011874,  0.49939994, ..., -0.13318631,\n",
       "         0.41293974, -0.18298244]])"
      ]
     },
     "execution_count": 116,
     "metadata": {},
     "output_type": "execute_result"
    }
   ],
   "source": [
    "betas_by_repeat[0][:,0:10]"
   ]
  },
  {
   "cell_type": "code",
   "execution_count": 19,
   "metadata": {},
   "outputs": [],
   "source": [
    "corr_struct_r1r2 = fast_pearson(betas_by_repeat[0][:,0:10],betas_by_repeat[1][:,0:10])"
   ]
  },
  {
   "cell_type": "code",
   "execution_count": 20,
   "metadata": {},
   "outputs": [
    {
     "data": {
      "text/plain": [
       "(10, 10)"
      ]
     },
     "execution_count": 20,
     "metadata": {},
     "output_type": "execute_result"
    }
   ],
   "source": [
    "corr_struct_r1r2.shape"
   ]
  },
  {
   "cell_type": "code",
   "execution_count": 24,
   "metadata": {},
   "outputs": [
    {
     "data": {
      "text/plain": [
       "array([[0.15029891, 0.14397391, 0.14819715, 0.13986979, 0.13127931,\n",
       "        0.14785045, 0.14286334, 0.12826263, 0.10408985, 0.13048967],\n",
       "       [0.14053085, 0.13575696, 0.13789429, 0.13048235, 0.12207548,\n",
       "        0.13652155, 0.13138594, 0.11743012, 0.09674538, 0.12172708],\n",
       "       [0.14896373, 0.14230913, 0.14718897, 0.13869753, 0.13056276,\n",
       "        0.14785949, 0.14299308, 0.12885751, 0.09993433, 0.12691131],\n",
       "       [0.13860143, 0.13285384, 0.13653666, 0.12852161, 0.12066293,\n",
       "        0.13695469, 0.13177063, 0.11823559, 0.0898978 , 0.11522504],\n",
       "       [0.13137341, 0.1258301 , 0.12934305, 0.12152518, 0.1141309 ,\n",
       "        0.13011574, 0.12501516, 0.11240704, 0.08101907, 0.10547761],\n",
       "       [0.15358181, 0.1461884 , 0.15245007, 0.14378683, 0.13596023,\n",
       "        0.15390347, 0.14964389, 0.13577908, 0.10247162, 0.13061936],\n",
       "       [0.14880044, 0.14151409, 0.14756428, 0.13877121, 0.13109962,\n",
       "        0.1493308 , 0.14471415, 0.13121741, 0.09450693, 0.12226211],\n",
       "       [0.13637677, 0.12957353, 0.13489701, 0.12648077, 0.11950547,\n",
       "        0.13678729, 0.13225195, 0.12051611, 0.08023453, 0.10606204],\n",
       "       [0.11179594, 0.10503734, 0.10698495, 0.09756199, 0.08824084,\n",
       "        0.10707959, 0.09918686, 0.08444552, 0.10283331, 0.11505045],\n",
       "       [0.13216342, 0.12669934, 0.12756341, 0.11872908, 0.10892231,\n",
       "        0.12635461, 0.11904454, 0.10378889, 0.11515694, 0.13305739]])"
      ]
     },
     "execution_count": 24,
     "metadata": {},
     "output_type": "execute_result"
    }
   ],
   "source": [
    "corr_struct_r1r2"
   ]
  },
  {
   "cell_type": "code",
   "execution_count": null,
   "metadata": {},
   "outputs": [],
   "source": []
  }
 ],
 "metadata": {
  "kernelspec": {
   "display_name": "Python 3",
   "language": "python",
   "name": "python3"
  },
  "language_info": {
   "codemirror_mode": {
    "name": "ipython",
    "version": 3
   },
   "file_extension": ".py",
   "mimetype": "text/x-python",
   "name": "python",
   "nbconvert_exporter": "python",
   "pygments_lexer": "ipython3",
   "version": "3.7.10"
  }
 },
 "nbformat": 4,
 "nbformat_minor": 4
}
