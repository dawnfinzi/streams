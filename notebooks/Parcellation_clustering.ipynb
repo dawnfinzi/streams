{
 "cells": [
  {
   "cell_type": "code",
   "execution_count": 1,
   "metadata": {},
   "outputs": [],
   "source": [
    "%matplotlib inline\n",
    "\n",
    "import matplotlib\n",
    "import matplotlib.pyplot as plt\n",
    "import h5py\n",
    "import numpy as np\n",
    "import scipy as sp\n",
    "import scipy.stats as stats\n",
    "import nibabel as nibabel\n",
    "import pandas as pd\n",
    "import nibabel.freesurfer.mghformat as mgh\n",
    "import scipy.io\n",
    "import itertools \n",
    "import pickle"
   ]
  },
  {
   "cell_type": "code",
   "execution_count": 2,
   "metadata": {},
   "outputs": [],
   "source": [
    "from scipy.cluster.hierarchy import dendrogram, linkage, set_link_color_palette\n",
    "from scipy.spatial.distance import squareform\n",
    "\n",
    "import sys\n",
    "utils_dir = '/oak/stanford/groups/kalanit/biac2/kgs/projects/Dawn/NSD/code/streams/utils/'\n",
    "sys.path.append(utils_dir)\n",
    "\n",
    "from rsm_utils import get_flat_lower_tri, make_flat_rsms"
   ]
  },
  {
   "cell_type": "code",
   "execution_count": 3,
   "metadata": {},
   "outputs": [],
   "source": [
    "##https://gmarti.gitlab.io/ml/2017/09/07/how-to-sort-distance-matrix.html\n",
    "    \n",
    "def seriation(Z,N,cur_index):\n",
    "    '''\n",
    "        input:\n",
    "            - Z is a hierarchical tree (dendrogram)\n",
    "            - N is the number of points given to the clustering process\n",
    "            - cur_index is the position in the tree for the recursive traversal\n",
    "        output:\n",
    "            - order implied by the hierarchical tree Z\n",
    "            \n",
    "        seriation computes the order implied by a hierarchical tree (dendrogram)\n",
    "    '''\n",
    "    if cur_index < N:\n",
    "        return [cur_index]\n",
    "    else:\n",
    "        left = int(Z[cur_index-N,0])\n",
    "        right = int(Z[cur_index-N,1])\n",
    "        return (seriation(Z,N,left) + seriation(Z,N,right))\n",
    "    \n",
    "def compute_serial_matrix(dist_mat,method=\"ward\"):\n",
    "    '''\n",
    "        input:\n",
    "            - dist_mat is a distance matrix\n",
    "            - method = [\"ward\",\"single\",\"average\",\"complete\"]\n",
    "        output:\n",
    "            - seriated_dist is the input dist_mat,\n",
    "              but with re-ordered rows and columns\n",
    "              according to the seriation, i.e. the\n",
    "              order implied by the hierarchical tree\n",
    "            - res_order is the order implied by\n",
    "              the hierarhical tree\n",
    "            - res_linkage is the hierarhical tree (dendrogram)\n",
    "        \n",
    "        compute_serial_matrix transforms a distance matrix into \n",
    "        a sorted distance matrix according to the order implied \n",
    "        by the hierarchical tree (dendrogram)\n",
    "    '''\n",
    "    N = len(dist_mat)\n",
    "    flat_dist_mat = squareform(dist_mat)\n",
    "    res_linkage = linkage(flat_dist_mat, method=method)\n",
    "    res_order = seriation(res_linkage, N, N + N-2)\n",
    "    seriated_dist = np.zeros((N,N))\n",
    "    a,b = np.triu_indices(N,k=1)\n",
    "    seriated_dist[a,b] = dist_mat[ [res_order[i] for i in a], [res_order[j] for j in b]]\n",
    "    seriated_dist[b,a] = seriated_dist[a,b]\n",
    "    \n",
    "    return seriated_dist, res_order, res_linkage"
   ]
  },
  {
   "cell_type": "code",
   "execution_count": 4,
   "metadata": {},
   "outputs": [],
   "source": [
    "data_dir = '../../../data/'\n",
    "local_data_dir = '../../../local_data/'\n",
    "\n",
    "subjid = ['06']\n",
    "n_repeats = 3\n",
    "\n",
    "#threshold for voxels (based on split-half reliability)\n",
    "thresh = 0.1 #0.1 #0.2"
   ]
  },
  {
   "cell_type": "code",
   "execution_count": 5,
   "metadata": {},
   "outputs": [],
   "source": [
    "with open(local_data_dir + 'processed/06_rh_tessellate_300.data', 'rb') as filehandle:\n",
    "    # read the data as binary data stream\n",
    "    mega_matrix = pickle.load(filehandle)"
   ]
  },
  {
   "cell_type": "code",
   "execution_count": null,
   "metadata": {},
   "outputs": [],
   "source": [
    "with open(local_data_dir + 'processed/06_rh_tessellate_300.data', 'rb') as filehandle:\n",
    "    # read the data as binary data stream\n",
    "    mega_matrix = pickle.load(filehandle)"
   ]
  },
  {
   "cell_type": "code",
   "execution_count": null,
   "metadata": {},
   "outputs": [],
   "source": [
    "test = mega_matrix[0]"
   ]
  },
  {
   "cell_type": "code",
   "execution_count": null,
   "metadata": {},
   "outputs": [],
   "source": [
    "#test[test>1] = 1\n",
    "#test[np.isnan(test)] = 0\n",
    "#test[np.diag_indices(len(test))] = 1 #fix diagonal"
   ]
  },
  {
   "cell_type": "code",
   "execution_count": null,
   "metadata": {},
   "outputs": [],
   "source": [
    "len(test)"
   ]
  },
  {
   "cell_type": "code",
   "execution_count": null,
   "metadata": {},
   "outputs": [],
   "source": [
    "plt.imshow(test)\n",
    "plt.clim(0,1)\n",
    "plt.colorbar(fraction=0.046, pad=0.04)"
   ]
  },
  {
   "cell_type": "code",
   "execution_count": null,
   "metadata": {},
   "outputs": [],
   "source": [
    "sym_mm = np.around(test, decimals = 5)\n",
    "dists = squareform(1-sym_mm)"
   ]
  },
  {
   "cell_type": "code",
   "execution_count": null,
   "metadata": {},
   "outputs": [],
   "source": [
    "methods = [\"ward\",\"single\",\"average\",\"complete\"]\n",
    "N = len(sym_mm)\n",
    "for method in methods:\n",
    "    print(\"Method:\\t\",method)\n",
    "    \n",
    "    ordered_dist_mat, res_order, res_linkage = compute_serial_matrix(1-sym_mm,method)\n",
    "    \n",
    "    plt.pcolormesh(ordered_dist_mat)\n",
    "    plt.xlim([0,N])\n",
    "    plt.ylim([0,N])\n",
    "    plt.clim(0,1)\n",
    "    plt.colorbar(fraction=0.046, pad=0.04)\n",
    "    plt.show()"
   ]
  },
  {
   "cell_type": "code",
   "execution_count": null,
   "metadata": {},
   "outputs": [],
   "source": [
    "linkage_matrix = linkage(dists, \"complete\", optimal_ordering=True) #complete\n"
   ]
  },
  {
   "cell_type": "code",
   "execution_count": null,
   "metadata": {},
   "outputs": [],
   "source": [
    "plt.figure(figsize=(20,10))\n",
    "\n",
    "dn = dendrogram(linkage_matrix, \n",
    "                above_threshold_color='#bcbddc',\n",
    "                leaf_rotation=90.,\n",
    "                leaf_font_size=12.)  \n",
    "plt.gca().yaxis.set_tick_params(labelsize='large')"
   ]
  },
  {
   "cell_type": "code",
   "execution_count": null,
   "metadata": {},
   "outputs": [],
   "source": [
    "roi_order = list(map(int, dn['ivl'])) #convert from strings to ints\n",
    "cluster_colors = np.zeros((4, len(roi_order)))"
   ]
  },
  {
   "cell_type": "code",
   "execution_count": null,
   "metadata": {},
   "outputs": [],
   "source": [
    "#convert the dendrogram colors to indices we can use for ROI coloring\n",
    "color_indices = np.zeros((len(dn['leaves_color_list'])))\n",
    "count = 1\n",
    "for c in range(len(dn['leaves_color_list'])):\n",
    "    if dn['leaves_color_list'][c] in \"#bcbddc\":\n",
    "        color_indices[c] = 0\n",
    "    else:\n",
    "        if c == 0:\n",
    "            color_indices[c] = count\n",
    "        else:\n",
    "            if dn['leaves_color_list'][c] == dn['leaves_color_list'][c-1] or dn['leaves_color_list'][c-1] in \"#bcbddc\":\n",
    "                color_indices[c] = count\n",
    "            else:\n",
    "                count += 1\n",
    "                color_indices[c] = count\n",
    "        "
   ]
  },
  {
   "cell_type": "code",
   "execution_count": null,
   "metadata": {},
   "outputs": [],
   "source": [
    "clusters_by_roi = [int(x) for _,x in sorted(zip(roi_order,color_indices))]"
   ]
  },
  {
   "cell_type": "code",
   "execution_count": null,
   "metadata": {},
   "outputs": [],
   "source": [
    "#create dict for matlab\n",
    "ordered_clusters = {}\n",
    "ordered_clusters['full'] = clusters_by_roi\n",
    "\n",
    "#save out\n",
    "save_dir = '../../../local_data/processed'\n",
    "scipy.io.savemat(save_dir + '/subj06_rh_1000_trim10_cluster_testing.mat', ordered_clusters)"
   ]
  },
  {
   "cell_type": "code",
   "execution_count": null,
   "metadata": {},
   "outputs": [],
   "source": [
    "first_half_split = dn['ivl'].index('120') +1\n",
    "q1_split = dn['ivl'].index('101') +1\n",
    "q3_split = dn['ivl'].index('123') +1"
   ]
  },
  {
   "cell_type": "code",
   "execution_count": null,
   "metadata": {},
   "outputs": [],
   "source": [
    "cluster_colors[0,:] = np.hstack((np.repeat(0,first_half_split), np.repeat(1,len(roi_order)-first_half_split)))"
   ]
  },
  {
   "cell_type": "code",
   "execution_count": null,
   "metadata": {},
   "outputs": [],
   "source": [
    "cluster_colors[1,:] = np.hstack((np.repeat(0,q1_split), np.repeat(1,first_half_split-q1_split),\n",
    "                                 np.repeat(2,q3_split-first_half_split),np.repeat(3,len(roi_order)-q3_split)))"
   ]
  },
  {
   "cell_type": "code",
   "execution_count": null,
   "metadata": {},
   "outputs": [],
   "source": [
    "cluster_splits = np.zeros_like((cluster_colors))\n",
    "for c in range(2):\n",
    "    cluster_splits[c,:] = [x for _,x in sorted(zip(roi_order,cluster_colors[c]))]\n",
    "\n",
    "#create dict for matlab\n",
    "ordered_clusters = {}\n",
    "ordered_clusters['split1'] = cluster_splits[0]\n",
    "ordered_clusters['split2'] = cluster_splits[1]\n",
    "\n",
    "#save out\n",
    "save_dir = '../../../local_data/processed'\n",
    "scipy.io.savemat(save_dir + '/subj06_rh_cluster_testing_750_trim10.mat', ordered_clusters)"
   ]
  },
  {
   "cell_type": "code",
   "execution_count": null,
   "metadata": {},
   "outputs": [],
   "source": [
    "#next split level\n",
    "#s1 = dn['ivl'].index('20') +1\n",
    "#s2 = dn['ivl'].index('63') +1\n",
    "#s3 = dn['ivl'].index('44') +1\n",
    "#s4 = dn['ivl'].index('0') +1\n",
    "#s5 = dn['ivl'].index('5') +1\n",
    "#s6 = dn['ivl'].index('28') +1\n",
    "#s7 = dn['ivl'].index('34') +1\n",
    "#s8 = end\n"
   ]
  },
  {
   "cell_type": "code",
   "execution_count": null,
   "metadata": {},
   "outputs": [],
   "source": [
    "#cluster_colors[2,:] = np.hstack((np.repeat(0,s1), np.repeat(1,s2-s1), np.repeat(2,s3-s2),\n",
    "#                                 np.repeat(3,s4-s3), np.repeat(4,s5-s4), np.repeat(5,s6-s5),\n",
    "#                                 np.repeat(6,s7-s6), np.repeat(7,len(roi_order)-s7)))"
   ]
  },
  {
   "cell_type": "code",
   "execution_count": null,
   "metadata": {},
   "outputs": [],
   "source": [
    "#all groups based on dendrogram coloring\n",
    "#g1 = s1 +1\n",
    "#g2 = s2 +1\n",
    "#g3 = s3 +1\n",
    "#g4 = s4 +1\n",
    "#g5 = s5 +1\n",
    "#g6 = dn['ivl'].index('25') +1\n",
    "#g7 = s6 +1\n",
    "#g8 = dn['ivl'].index('42') +1\n",
    "#g9 = dn['ivl'].index('34') +1\n"
   ]
  },
  {
   "cell_type": "code",
   "execution_count": null,
   "metadata": {},
   "outputs": [],
   "source": [
    "#cluster_colors[3,:] = np.hstack((np.repeat(1,g1), np.repeat(2,g2-g1), np.repeat(3,g3-g2),\n",
    "#                                np.repeat(4,g4-g3), np.repeat(5,g5-g4), np.repeat(6,g6-g5),\n",
    "#                                 np.repeat(7,g7-g6), np.repeat(8,g8-g7), np.repeat(9,g9-g8), \n",
    "#                                 np.repeat(10,len(roi_order)-g9)))\n",
    "#cluster_colors[3,dn['ivl'].index('24')] = 0 #no grouping"
   ]
  },
  {
   "cell_type": "code",
   "execution_count": null,
   "metadata": {},
   "outputs": [],
   "source": [
    "#cluster_colors"
   ]
  },
  {
   "cell_type": "code",
   "execution_count": null,
   "metadata": {},
   "outputs": [],
   "source": [
    "#clusters_by_roi = np.zeros_like((cluster_colors))"
   ]
  },
  {
   "cell_type": "code",
   "execution_count": null,
   "metadata": {},
   "outputs": [],
   "source": [
    "#for c in range(4):\n",
    "#    clusters_by_roi[c,:] = [x for _,x in sorted(zip(roi_order,cluster_colors[c]))]"
   ]
  },
  {
   "cell_type": "code",
   "execution_count": null,
   "metadata": {},
   "outputs": [],
   "source": [
    "#clusters_by_roi"
   ]
  },
  {
   "cell_type": "code",
   "execution_count": null,
   "metadata": {},
   "outputs": [],
   "source": [
    "#create dict for matlab\n",
    "#ordered_clusters = {}\n",
    "#ordered_clusters['split1'] = clusters_by_roi[0]\n",
    "#ordered_clusters['split2'] = clusters_by_roi[1]\n",
    "#ordered_clusters['split3'] = clusters_by_roi[2]\n",
    "#ordered_clusters['split4'] = clusters_by_roi[3]\n",
    "\n",
    "#save out\n",
    "#save_dir = '../../../local_data/processed'\n",
    "#scipy.io.savemat(save_dir + '/subj06_rh_cluster_testing.mat', ordered_clusters)"
   ]
  },
  {
   "cell_type": "code",
   "execution_count": null,
   "metadata": {},
   "outputs": [],
   "source": []
  },
  {
   "cell_type": "code",
   "execution_count": null,
   "metadata": {},
   "outputs": [],
   "source": [
    "from sklearn.manifold import MDS\n",
    "x, y = MDS(dissimilarity='precomputed').fit_transform(1-test).T"
   ]
  },
  {
   "cell_type": "code",
   "execution_count": null,
   "metadata": {},
   "outputs": [],
   "source": [
    "plt.scatter(x, y)"
   ]
  },
  {
   "cell_type": "code",
   "execution_count": null,
   "metadata": {},
   "outputs": [],
   "source": [
    "from sklearn.cluster import AffinityPropagation\n",
    "from sklearn.cluster import KMeans\n"
   ]
  },
  {
   "cell_type": "code",
   "execution_count": null,
   "metadata": {},
   "outputs": [],
   "source": [
    "clustering = AffinityPropagation(affinity='precomputed',random_state=5).fit_predict(test)"
   ]
  },
  {
   "cell_type": "code",
   "execution_count": null,
   "metadata": {},
   "outputs": [],
   "source": [
    "affinity_prop = {}\n",
    "affinity_prop['ap'] = clustering\n",
    "\n",
    "#save out\n",
    "save_dir = '../../../local_data/processed'\n",
    "scipy.io.savemat(save_dir + '/subj06_rh_1000_trim10_ap.mat', affinity_prop)"
   ]
  },
  {
   "cell_type": "code",
   "execution_count": null,
   "metadata": {},
   "outputs": [],
   "source": [
    "clustering"
   ]
  },
  {
   "cell_type": "code",
   "execution_count": null,
   "metadata": {},
   "outputs": [],
   "source": [
    "kmeans_s = KMeans(n_clusters=7, random_state=0).fit(test)"
   ]
  },
  {
   "cell_type": "code",
   "execution_count": null,
   "metadata": {},
   "outputs": [],
   "source": [
    "kmeans_s.labels_"
   ]
  },
  {
   "cell_type": "code",
   "execution_count": null,
   "metadata": {},
   "outputs": [],
   "source": [
    "kmeans_match = KMeans(n_clusters=14, random_state=0).fit(test)"
   ]
  },
  {
   "cell_type": "code",
   "execution_count": null,
   "metadata": {},
   "outputs": [],
   "source": [
    "kmeans_match.labels_"
   ]
  },
  {
   "cell_type": "code",
   "execution_count": null,
   "metadata": {},
   "outputs": [],
   "source": [
    "kmeans = {}\n",
    "kmeans['k7'] = kmeans_s.labels_\n",
    "kmeans['k14'] = kmeans_match.labels_\n",
    "\n",
    "#save out\n",
    "save_dir = '../../../local_data/processed'\n",
    "scipy.io.savemat(save_dir + '/subj06_rh_kmeans_testing.mat', kmeans)"
   ]
  },
  {
   "cell_type": "code",
   "execution_count": null,
   "metadata": {},
   "outputs": [],
   "source": []
  }
 ],
 "metadata": {
  "kernelspec": {
   "display_name": "Python 3",
   "language": "python",
   "name": "python3"
  },
  "language_info": {
   "codemirror_mode": {
    "name": "ipython",
    "version": 3
   },
   "file_extension": ".py",
   "mimetype": "text/x-python",
   "name": "python",
   "nbconvert_exporter": "python",
   "pygments_lexer": "ipython3",
   "version": "3.7.9"
  }
 },
 "nbformat": 4,
 "nbformat_minor": 4
}
