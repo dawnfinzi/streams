{
 "cells": [
  {
   "cell_type": "code",
   "execution_count": 2,
   "metadata": {},
   "outputs": [],
   "source": [
    "#import packages\n",
    "import argparse\n",
    "import pandas as pd\n",
    "import h5py\n",
    "import numpy as np\n",
    "import scipy as sp\n",
    "import scipy.stats as stats\n",
    "import scipy.io\n",
    "import nibabel.freesurfer.mghformat as mgh\n",
    "import scipy.io\n",
    "import itertools \n",
    "import pickle\n",
    "import sys\n",
    "\n",
    "utils_dir = '/oak/stanford/groups/kalanit/biac2/kgs/projects/Dawn/NSD/code/streams/utils/'\n",
    "sys.path.append(utils_dir)\n",
    "\n",
    "from rsm_utils import get_flat_lower_tri, get_reliability_data \n",
    "\n",
    "data_dir = '/oak/stanford/groups/kalanit/biac2/kgs/projects/Dawn/NSD/data/'\n",
    "local_data_dir = '/oak/stanford/groups/kalanit/biac2/kgs/projects/Dawn/NSD/local_data/'\n",
    "\n",
    "def fast_pearson(x,y):\n",
    "    #faster, vectorized version\n",
    "    xz = x - x.mean(axis=0)\n",
    "    yz = y - y.mean(axis=0)\n",
    "    xzss = (xz * xz).sum(axis=0)\n",
    "    yzss = (yz * yz).sum(axis=0)\n",
    "    r = np.matmul(xz.transpose(), yz) / (np.sqrt(np.outer(xzss, yzss)) + np.finfo(float).eps) #precision issues\n",
    "    return np.maximum(np.minimum(r, 1.0), -1.0) #for precision issues"
   ]
  },
  {
   "cell_type": "code",
   "execution_count": 1,
   "metadata": {},
   "outputs": [],
   "source": [
    "subjid = '05'\n",
    "hemi = 'rh'\n",
    "roi_name = 'tessellate_10vox_shrink5'\n",
    "min_idx = 5\n",
    "max_idx = 6"
   ]
  },
  {
   "cell_type": "code",
   "execution_count": 3,
   "metadata": {},
   "outputs": [
    {
     "name": "stdout",
     "output_type": "stream",
     "text": [
      "[5]\n"
     ]
    }
   ],
   "source": [
    "chunks = list(range(min_idx,max_idx))\n",
    "\n",
    "print(chunks)"
   ]
  },
  {
   "cell_type": "code",
   "execution_count": 4,
   "metadata": {},
   "outputs": [
    {
     "name": "stdout",
     "output_type": "stream",
     "text": [
      "05\n"
     ]
    }
   ],
   "source": [
    "\n",
    "print(subjid)\n",
    "\n",
    "n_repeats = 3\n",
    "convert_to_int = 10000\n",
    "\n",
    "#get ROI data\n",
    "parcels = []\n",
    "mgh_file = mgh.load(local_data_dir+'freesurfer/subj'+ subjid +'/' + hemi + '.' + roi_name + '.mgz')\n",
    "parcels.append(mgh_file.get_fdata()[:,0,0])\n",
    "\n",
    "num_rois = int(np.max(parcels))\n",
    "\n",
    "#get trial ids and mask        \n",
    "all_ids = []\n",
    "max_session = np.zeros(len([subjid]))\n",
    "for sidx, sid in enumerate([subjid]):\n",
    "\n",
    "    data = pd.read_csv(data_dir+'nsddata/ppdata/subj'+ sid +'/behav/responses.tsv', sep='\\t')\n",
    "\n",
    "    max_session[sidx] = np.max(np.array(data['SESSION'])) \n",
    "\n",
    "    all_ids.append(np.array(data['73KID']))\n",
    "\n",
    "which_reps = []\n",
    "for sidx, sid in enumerate([subjid]):\n",
    "    vals, idx_start, count = np.unique(all_ids[sidx], return_counts=True,\n",
    "                                    return_index=True)\n",
    "    which_reps.append(vals[count == n_repeats])\n",
    "\n",
    "least_trials = min(which_reps, key=len)\n",
    "\n",
    "id_nums_3reps = []\n",
    "mask_3reps = []\n",
    "for sidx, sid in enumerate([subjid]):\n",
    "\n",
    "    data = pd.read_csv(data_dir+'nsddata/ppdata/subj'+ sid +'/behav/responses.tsv', sep='\\t')\n",
    "\n",
    "    mask_3reps.append(np.isin(all_ids[sidx],which_reps[sidx]))\n",
    "    id_nums_3reps.append(np.array(data['73KID'])[mask_3reps[sidx]])\n",
    "\n",
    "arr1inds = id_nums_3reps[sidx].argsort()\n",
    "\n",
    "#get and sort z-scored betas\n",
    "betas_by_ROI = [[] for j in range(num_rois)]"
   ]
  },
  {
   "cell_type": "code",
   "execution_count": 5,
   "metadata": {},
   "outputs": [
    {
     "data": {
      "text/plain": [
       "3821"
      ]
     },
     "execution_count": 5,
     "metadata": {},
     "output_type": "execute_result"
    }
   ],
   "source": [
    "num_rois"
   ]
  },
  {
   "cell_type": "code",
   "execution_count": 6,
   "metadata": {},
   "outputs": [
    {
     "data": {
      "text/plain": [
       "198908"
      ]
     },
     "execution_count": 6,
     "metadata": {},
     "output_type": "execute_result"
    }
   ],
   "source": [
    "len(parcels[0])"
   ]
  },
  {
   "cell_type": "code",
   "execution_count": 7,
   "metadata": {},
   "outputs": [
    {
     "data": {
      "text/plain": [
       "array([40.])"
      ]
     },
     "execution_count": 7,
     "metadata": {},
     "output_type": "execute_result"
    }
   ],
   "source": [
    "max_session"
   ]
  },
  {
   "cell_type": "code",
   "execution_count": 8,
   "metadata": {},
   "outputs": [
    {
     "name": "stdout",
     "output_type": "stream",
     "text": [
      "05\n"
     ]
    }
   ],
   "source": [
    "for sidx, sid in enumerate([subjid]):\n",
    "    print(sid)"
   ]
  },
  {
   "cell_type": "code",
   "execution_count": 9,
   "metadata": {},
   "outputs": [
    {
     "name": "stdout",
     "output_type": "stream",
     "text": [
      "1\n",
      "2\n",
      "3\n",
      "4\n",
      "5\n",
      "6\n",
      "7\n",
      "8\n",
      "9\n",
      "10\n",
      "11\n",
      "12\n",
      "13\n",
      "14\n",
      "15\n",
      "16\n",
      "17\n",
      "18\n",
      "19\n",
      "20\n",
      "21\n",
      "22\n",
      "23\n",
      "24\n",
      "25\n",
      "26\n",
      "27\n",
      "28\n",
      "29\n",
      "30\n",
      "31\n",
      "32\n",
      "33\n",
      "34\n",
      "35\n",
      "36\n",
      "37\n",
      "38\n",
      "39\n",
      "40\n"
     ]
    }
   ],
   "source": [
    "for sidx, sid in enumerate([subjid]):\n",
    "        \n",
    "    mask = mask_3reps[sidx]\n",
    "    sorted_betas = []\n",
    "\n",
    "    #get all betas across all sessions\n",
    "    for sess in range(1,int(max_session[sidx])+1):\n",
    "        print(sess)\n",
    "\n",
    "        if(sess < 10):\n",
    "            idx = '0' + str(sess)\n",
    "        else:\n",
    "            idx = str(sess)\n",
    "\n",
    "        raw_betas = h5py.File(local_data_dir+'freesurfer/subj'+sid+'/betas/'+ hemi +'.zscore_betas_session'+idx+'.hdf5','r')\n",
    "\n",
    "        sess_betas = raw_betas['zscore_betas'][:][mask[(sess-1)*750:sess*750]]\n",
    "        del raw_betas\n",
    "\n",
    "        if(sess==1):\n",
    "            for roi_idx in range(num_rois):\n",
    "                betas_by_ROI[roi_idx] = sess_betas[:,parcels[sidx] == roi_idx+1]\n",
    "        else:\n",
    "            for roi_idx in range(num_rois):\n",
    "                betas_by_ROI[roi_idx] = np.append(betas_by_ROI[roi_idx],sess_betas[:,parcels[sidx] == roi_idx+1],axis=0)\n",
    "\n",
    "        del sess_betas"
   ]
  },
  {
   "cell_type": "code",
   "execution_count": 10,
   "metadata": {},
   "outputs": [],
   "source": [
    "betas_by_repeat_by_ROI = [[[] for j in range(num_rois)] for i in range(len([subjid]))]\n",
    "for sidx, sid in enumerate([subjid]):\n",
    "    for roi_idx in range(num_rois):  \n",
    "\n",
    "        sorted_betas = betas_by_ROI[roi_idx][arr1inds[::-1]]\n",
    "\n",
    "        for r in range(n_repeats):\n",
    "            betas_by_repeat_by_ROI[sidx][roi_idx].insert(r,sorted_betas[r::3])"
   ]
  },
  {
   "cell_type": "code",
   "execution_count": 11,
   "metadata": {},
   "outputs": [],
   "source": [
    "sorted_betas = betas_by_ROI[11][arr1inds[::-1]]\n",
    "if sorted_betas.size == 0:\n",
    "    sorted_betas = np.zeros_like(betas_by_ROI[roi_idx-1][arr1inds[::-1]])"
   ]
  },
  {
   "cell_type": "code",
   "execution_count": null,
   "metadata": {},
   "outputs": [],
   "source": [
    "for roi_idx in range(num_rois):  \n",
    "    if betas_by_repeat_by_ROI[sidx][roi_idx][0].size == 0:\n",
    "        print(roi_idx)"
   ]
  },
  {
   "cell_type": "code",
   "execution_count": null,
   "metadata": {},
   "outputs": [
    {
     "name": "stdout",
     "output_type": "stream",
     "text": [
      "starting mega matrix\n",
      "11\n",
      "149\n",
      "550\n",
      "557\n",
      "573\n",
      "870\n",
      "899\n"
     ]
    },
    {
     "name": "stderr",
     "output_type": "stream",
     "text": [
      "/oak/stanford/groups/kalanit/biac2/kgs/projects/Dawn/NSD_venv/lib/python3.7/site-packages/ipykernel_launcher.py:50: RuntimeWarning: divide by zero encountered in double_scalars\n",
      "/oak/stanford/groups/kalanit/biac2/kgs/projects/Dawn/NSD_venv/lib/python3.7/site-packages/ipykernel_launcher.py:50: RuntimeWarning: invalid value encountered in double_scalars\n"
     ]
    }
   ],
   "source": [
    "#Create RSMS for all the ROIs, repeats and subjects (moved to within mega matrix loop for mem efficiency)\n",
    "tril_flat_shape = int((betas_by_repeat_by_ROI[0][0][0].shape[0]**2/2) - (betas_by_repeat_by_ROI[0][0][0].shape[0]/2))\n",
    "sidx = 0 #currently doing one subject at a time\n",
    "\n",
    "r1_trial_order = [0, 0, 1, 1, 2, 2]\n",
    "r2_trial_order = [1, 2, 0, 2, 0, 1]\n",
    "\n",
    "print('starting mega matrix')\n",
    "#make the mega matrix!\n",
    "mega_matrix = np.zeros((len(chunks),num_rois))\n",
    "m_idx = 0 #allow for chunks not starting at 0\n",
    "\n",
    "for cidx, roi_idx1 in enumerate(chunks): #rows - i.e. model candidate\n",
    "        \n",
    "    flat_rsm_roi1 = np.zeros((tril_flat_shape, n_repeats))\n",
    "    for r in range(n_repeats):\n",
    "        flip = betas_by_repeat_by_ROI[sidx][roi_idx1][r].T\n",
    "        rsm = fast_pearson(flip,flip)\n",
    "        flat_rsm_roi1[:, r] = get_flat_lower_tri(rsm,diagonal=False)\n",
    "\n",
    "    split_half = np.zeros((3))\n",
    "    split_half = [fast_pearson(flat_rsm_roi1[:,0],flat_rsm_roi1[:,1])[0][0],\n",
    "                fast_pearson(flat_rsm_roi1[:,0],flat_rsm_roi1[:,2])[0][0],\n",
    "                fast_pearson(flat_rsm_roi1[:,1],flat_rsm_roi1[:,2])[0][0]]\n",
    "    NC_model = np.abs(np.mean(split_half) * 100) #can't have neg NC\n",
    "\n",
    "    flat_rsm_roi2 = np.zeros((tril_flat_shape, n_repeats)) #initialize once then rewrite for time\n",
    "    rsm_corr = np.zeros((6))\n",
    "    for roi_idx2 in range(num_rois): #columns - i.e. target data\n",
    "\n",
    "        \n",
    "        if betas_by_repeat_by_ROI[sidx][roi_idx2][0].size == 0: #no betas\n",
    "            print(roi_idx2)\n",
    "            mega_matrix[m_idx,roi_idx2] = 0\n",
    "        else:\n",
    "            for r in range(n_repeats):\n",
    "                flip = betas_by_repeat_by_ROI[sidx][roi_idx2][r].T\n",
    "                rsm = fast_pearson(flip,flip)\n",
    "                flat_rsm_roi2[:, r] = get_flat_lower_tri(rsm,diagonal=False)\n",
    "\n",
    "            split_half = [fast_pearson(flat_rsm_roi2[:,0],flat_rsm_roi2[:,1])[0][0],\n",
    "                        fast_pearson(flat_rsm_roi2[:,0],flat_rsm_roi2[:,2])[0][0],\n",
    "                        fast_pearson(flat_rsm_roi2[:,1],flat_rsm_roi2[:,2])[0][0]]\n",
    "            NC_target = np.abs(np.mean(split_half) * 100) #can't have neg NC\n",
    "\n",
    "            for r in range(6):\n",
    "                rsm_corr[r] = fast_pearson(flat_rsm_roi2[:, r1_trial_order[r]],\n",
    "                                            flat_rsm_roi2[:, r2_trial_order[r]])[0][0]\n",
    "\n",
    "            mega_matrix[m_idx,roi_idx2] = np.mean(rsm_corr) * np.sqrt(100/NC_model) * np.sqrt(100/NC_target)\n",
    "    \n",
    "    m_idx += 1"
   ]
  },
  {
   "cell_type": "code",
   "execution_count": null,
   "metadata": {},
   "outputs": [],
   "source": [
    "#save to local data folder\n",
    "save_file = local_data_dir + 'processed/' + subjid + '/' + hemi + '_' + roi_name + '_' + str(min_idx) + 'to' + str(max_idx) + '.data'\n",
    "\n",
    "with open(save_file, 'wb') as filehandle:\n",
    "    # store the data as binary data stream\n",
    "    pickle.dump([mega_matrix], filehandle)"
   ]
  },
  {
   "cell_type": "code",
   "execution_count": null,
   "metadata": {},
   "outputs": [],
   "source": [
    "roi_idx2=11\n",
    "\n",
    "\n",
    "for r in range(n_repeats):\n",
    "    print(r)\n",
    "    flip = betas_by_repeat_by_ROI[sidx][roi_idx2][r].T\n",
    "    rsm = fast_pearson(flip,flip)\n",
    "    flat_rsm_roi2[:, r] = get_flat_lower_tri(rsm,diagonal=False)\n",
    "\n",
    "        "
   ]
  },
  {
   "cell_type": "code",
   "execution_count": null,
   "metadata": {},
   "outputs": [],
   "source": [
    "r = 0\n",
    "flip = betas_by_repeat_by_ROI[sidx][roi_idx2][r].T"
   ]
  },
  {
   "cell_type": "code",
   "execution_count": null,
   "metadata": {},
   "outputs": [],
   "source": [
    "betas_by_repeat_by_ROI[0][11]"
   ]
  },
  {
   "cell_type": "code",
   "execution_count": null,
   "metadata": {},
   "outputs": [],
   "source": [
    "mega_matrix"
   ]
  },
  {
   "cell_type": "code",
   "execution_count": null,
   "metadata": {},
   "outputs": [],
   "source": [
    "print(roi_idx1)\n",
    "flat_rsm_roi1 = np.zeros((tril_flat_shape, n_repeats))\n",
    "for r in range(n_repeats):\n",
    "    flip = betas_by_repeat_by_ROI[sidx][roi_idx1][r].T\n",
    "    rsm = fast_pearson(flip,flip)\n",
    "    flat_rsm_roi1[:, r] = get_flat_lower_tri(rsm,diagonal=False)\n",
    "\n",
    "split_half = np.zeros((3))\n",
    "split_half = [fast_pearson(flat_rsm_roi1[:,0],flat_rsm_roi1[:,1])[0][0],\n",
    "            fast_pearson(flat_rsm_roi1[:,0],flat_rsm_roi1[:,2])[0][0],\n",
    "            fast_pearson(flat_rsm_roi1[:,1],flat_rsm_roi1[:,2])[0][0]]\n",
    "NC_model = np.mean(split_half) * 100"
   ]
  },
  {
   "cell_type": "code",
   "execution_count": null,
   "metadata": {},
   "outputs": [],
   "source": [
    "NC_model"
   ]
  },
  {
   "cell_type": "code",
   "execution_count": null,
   "metadata": {},
   "outputs": [],
   "source": [
    "np.sqrt(100/NC_model)"
   ]
  },
  {
   "cell_type": "code",
   "execution_count": null,
   "metadata": {},
   "outputs": [],
   "source": [
    "roi_idx2 = 180"
   ]
  },
  {
   "cell_type": "code",
   "execution_count": null,
   "metadata": {},
   "outputs": [],
   "source": [
    "r=0"
   ]
  },
  {
   "cell_type": "code",
   "execution_count": null,
   "metadata": {},
   "outputs": [],
   "source": [
    "betas_by_repeat_by_ROI[sidx][roi_idx2][r].T "
   ]
  },
  {
   "cell_type": "code",
   "execution_count": null,
   "metadata": {},
   "outputs": [],
   "source": [
    "flip = betas_by_repeat_by_ROI[sidx][roi_idx2][r].T \n",
    "rsm = fast_pearson(flip,flip)\n"
   ]
  },
  {
   "cell_type": "code",
   "execution_count": null,
   "metadata": {},
   "outputs": [],
   "source": [
    "x= flip\n",
    "y = flip"
   ]
  },
  {
   "cell_type": "code",
   "execution_count": null,
   "metadata": {},
   "outputs": [],
   "source": [
    "#faster, vectorized version\n",
    "xz = x - x.mean(axis=0)\n",
    "yz = y - y.mean(axis=0)\n"
   ]
  },
  {
   "cell_type": "code",
   "execution_count": null,
   "metadata": {},
   "outputs": [],
   "source": [
    "\n",
    "xzss = (xz * xz).sum(axis=0)\n",
    "yzss = (yz * yz).sum(axis=0)"
   ]
  },
  {
   "cell_type": "code",
   "execution_count": null,
   "metadata": {},
   "outputs": [],
   "source": [
    "np.sqrt(np.min(np.outer(xzss, yzss)))"
   ]
  },
  {
   "cell_type": "code",
   "execution_count": null,
   "metadata": {},
   "outputs": [],
   "source": [
    "r = np.matmul(xz.transpose(), yz) / np.sqrt(np.outer(xzss, yzss))\n",
    "    "
   ]
  },
  {
   "cell_type": "code",
   "execution_count": null,
   "metadata": {},
   "outputs": [],
   "source": [
    "flip.shape"
   ]
  },
  {
   "cell_type": "code",
   "execution_count": null,
   "metadata": {},
   "outputs": [],
   "source": [
    "flat_rsm_roi2 = np.zeros((tril_flat_shape, n_repeats))\n",
    "for r in range(n_repeats):\n",
    "    flip = betas_by_repeat_by_ROI[sidx][roi_idx2][r].T\n",
    "    rsm = fast_pearson(flip,flip)\n",
    "    flat_rsm_roi2[:, r] = get_flat_lower_tri(rsm,diagonal=False)\n"
   ]
  },
  {
   "cell_type": "code",
   "execution_count": null,
   "metadata": {},
   "outputs": [],
   "source": [
    "split_half = np.zeros((3))\n",
    "split_half = [fast_pearson(flat_rsm_roi2[:,0],flat_rsm_roi2[:,1])[0][0],\n",
    "            fast_pearson(flat_rsm_roi2[:,0],flat_rsm_roi2[:,2])[0][0],\n",
    "            fast_pearson(flat_rsm_roi2[:,1],flat_rsm_roi2[:,2])[0][0]]\n",
    "NC_target = np.abs(np.mean(split_half) * 100)\n"
   ]
  },
  {
   "cell_type": "code",
   "execution_count": null,
   "metadata": {},
   "outputs": [],
   "source": [
    "np.mean(split_half)"
   ]
  },
  {
   "cell_type": "code",
   "execution_count": null,
   "metadata": {},
   "outputs": [],
   "source": [
    "100/NC_target"
   ]
  },
  {
   "cell_type": "code",
   "execution_count": null,
   "metadata": {},
   "outputs": [],
   "source": [
    "fast_pearson(flat_rsm_roi2[:,0],flat_rsm_roi2[:,1])[0][0]"
   ]
  },
  {
   "cell_type": "code",
   "execution_count": null,
   "metadata": {},
   "outputs": [],
   "source": [
    "stats.pearsonr(flat_rsm_roi2[:,1],flat_rsm_roi2[:,2])[0]"
   ]
  },
  {
   "cell_type": "code",
   "execution_count": null,
   "metadata": {},
   "outputs": [],
   "source": [
    "rsm_corr = np.zeros((6))\n",
    "for r in range(6):\n",
    "    rsm_corr[r] = fast_pearson(flat_rsm_roi2[:, r1_trial_order[r]],\n",
    "                                flat_rsm_roi2[:, r2_trial_order[r]])[0][0]"
   ]
  },
  {
   "cell_type": "code",
   "execution_count": null,
   "metadata": {},
   "outputs": [],
   "source": [
    "rsm_corr"
   ]
  },
  {
   "cell_type": "code",
   "execution_count": null,
   "metadata": {},
   "outputs": [],
   "source": [
    "np.mean(rsm_corr) * np.sqrt(100/NC_model) * np.sqrt(100/NC_target)"
   ]
  },
  {
   "cell_type": "code",
   "execution_count": null,
   "metadata": {},
   "outputs": [],
   "source": [
    "np.sqrt(100/NC_model)"
   ]
  },
  {
   "cell_type": "code",
   "execution_count": null,
   "metadata": {},
   "outputs": [],
   "source": [
    "np.sqrt(100/NC_target)"
   ]
  },
  {
   "cell_type": "code",
   "execution_count": null,
   "metadata": {},
   "outputs": [],
   "source": []
  }
 ],
 "metadata": {
  "kernelspec": {
   "display_name": "Python 3",
   "language": "python",
   "name": "python3"
  },
  "language_info": {
   "codemirror_mode": {
    "name": "ipython",
    "version": 3
   },
   "file_extension": ".py",
   "mimetype": "text/x-python",
   "name": "python",
   "nbconvert_exporter": "python",
   "pygments_lexer": "ipython3",
   "version": "3.7.10"
  }
 },
 "nbformat": 4,
 "nbformat_minor": 4
}
