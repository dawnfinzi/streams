{
 "cells": [
  {
   "cell_type": "code",
   "execution_count": 1,
   "metadata": {},
   "outputs": [],
   "source": [
    "#import packages\n",
    "import argparse\n",
    "import pandas as pd\n",
    "import h5py\n",
    "import numpy as np\n",
    "import scipy as sp\n",
    "import scipy.stats as stats\n",
    "import scipy.io\n",
    "import nibabel.freesurfer.mghformat as mgh\n",
    "import scipy.io\n",
    "import itertools \n",
    "import pickle\n",
    "import sys\n",
    "\n",
    "utils_dir = '/oak/stanford/groups/kalanit/biac2/kgs/projects/Dawn/NSD/code/streams/utils/'\n",
    "sys.path.append(utils_dir)\n",
    "\n",
    "from rsm_utils import get_flat_lower_tri, get_reliability_data \n",
    "\n",
    "data_dir = '/oak/stanford/groups/kalanit/biac2/kgs/projects/Dawn/NSD/data/'\n",
    "local_data_dir = '/oak/stanford/groups/kalanit/biac2/kgs/projects/Dawn/NSD/local_data/'\n",
    "\n",
    "def fast_pearson(x,y):\n",
    "    #faster, vectorized version\n",
    "    xz = x - x.mean(axis=0)\n",
    "    yz = y - y.mean(axis=0)\n",
    "    xzss = (xz * xz).sum(axis=0)\n",
    "    yzss = (yz * yz).sum(axis=0)\n",
    "    r = np.matmul(xz.transpose(), yz) / (np.sqrt(np.outer(xzss, yzss)) + np.finfo(float).eps) #precision issues\n",
    "    return np.maximum(np.minimum(r, 1.0), -1.0) #for precision issues"
   ]
  },
  {
   "cell_type": "code",
   "execution_count": 2,
   "metadata": {},
   "outputs": [],
   "source": [
    "subjid = '05'\n",
    "hemi = 'rh'\n",
    "roi_name = 'tessellate_10vox_shrink5'\n",
    "min_idx = 5\n",
    "max_idx = 6"
   ]
  },
  {
   "cell_type": "code",
   "execution_count": 3,
   "metadata": {},
   "outputs": [
    {
     "name": "stdout",
     "output_type": "stream",
     "text": [
      "[5]\n"
     ]
    }
   ],
   "source": [
    "chunks = list(range(min_idx,max_idx))\n",
    "\n",
    "print(chunks)"
   ]
  },
  {
   "cell_type": "code",
   "execution_count": 4,
   "metadata": {},
   "outputs": [
    {
     "name": "stdout",
     "output_type": "stream",
     "text": [
      "05\n"
     ]
    }
   ],
   "source": [
    "\n",
    "print(subjid)\n",
    "\n",
    "n_repeats = 3\n",
    "convert_to_int = 10000\n",
    "\n",
    "#get ROI data\n",
    "parcels = []\n",
    "mgh_file = mgh.load(local_data_dir+'freesurfer/subj'+ subjid +'/' + hemi + '.' + roi_name + '.mgz')\n",
    "parcels.append(mgh_file.get_fdata()[:,0,0])\n",
    "\n",
    "num_rois = int(np.max(parcels))\n",
    "\n",
    "#get trial ids and mask        \n",
    "all_ids = []\n",
    "max_session = np.zeros(len([subjid]))\n",
    "for sidx, sid in enumerate([subjid]):\n",
    "\n",
    "    data = pd.read_csv(data_dir+'nsddata/ppdata/subj'+ sid +'/behav/responses.tsv', sep='\\t')\n",
    "\n",
    "    max_session[sidx] = np.max(np.array(data['SESSION'])) \n",
    "\n",
    "    all_ids.append(np.array(data['73KID']))\n",
    "\n",
    "which_reps = []\n",
    "for sidx, sid in enumerate([subjid]):\n",
    "    vals, idx_start, count = np.unique(all_ids[sidx], return_counts=True,\n",
    "                                    return_index=True)\n",
    "    which_reps.append(vals[count == n_repeats])\n",
    "\n",
    "least_trials = min(which_reps, key=len)\n",
    "\n",
    "id_nums_3reps = []\n",
    "mask_3reps = []\n",
    "for sidx, sid in enumerate([subjid]):\n",
    "\n",
    "    data = pd.read_csv(data_dir+'nsddata/ppdata/subj'+ sid +'/behav/responses.tsv', sep='\\t')\n",
    "\n",
    "    mask_3reps.append(np.isin(all_ids[sidx],which_reps[sidx]))\n",
    "    id_nums_3reps.append(np.array(data['73KID'])[mask_3reps[sidx]])\n",
    "\n",
    "arr1inds = id_nums_3reps[sidx].argsort()\n",
    "\n",
    "#get and sort z-scored betas\n",
    "betas_by_ROI = [[] for j in range(num_rois)]"
   ]
  },
  {
   "cell_type": "code",
   "execution_count": 5,
   "metadata": {},
   "outputs": [
    {
     "data": {
      "text/plain": [
       "3821"
      ]
     },
     "execution_count": 5,
     "metadata": {},
     "output_type": "execute_result"
    }
   ],
   "source": [
    "num_rois"
   ]
  },
  {
   "cell_type": "code",
   "execution_count": 6,
   "metadata": {},
   "outputs": [
    {
     "data": {
      "text/plain": [
       "198908"
      ]
     },
     "execution_count": 6,
     "metadata": {},
     "output_type": "execute_result"
    }
   ],
   "source": [
    "len(parcels[0])"
   ]
  },
  {
   "cell_type": "code",
   "execution_count": 7,
   "metadata": {},
   "outputs": [
    {
     "data": {
      "text/plain": [
       "array([40.])"
      ]
     },
     "execution_count": 7,
     "metadata": {},
     "output_type": "execute_result"
    }
   ],
   "source": [
    "max_session"
   ]
  },
  {
   "cell_type": "code",
   "execution_count": 8,
   "metadata": {},
   "outputs": [
    {
     "name": "stdout",
     "output_type": "stream",
     "text": [
      "05\n"
     ]
    }
   ],
   "source": [
    "for sidx, sid in enumerate([subjid]):\n",
    "    print(sid)"
   ]
  },
  {
   "cell_type": "code",
   "execution_count": 9,
   "metadata": {},
   "outputs": [
    {
     "name": "stdout",
     "output_type": "stream",
     "text": [
      "1\n",
      "2\n",
      "3\n",
      "4\n",
      "5\n",
      "6\n",
      "7\n",
      "8\n",
      "9\n",
      "10\n",
      "11\n",
      "12\n",
      "13\n",
      "14\n",
      "15\n",
      "16\n",
      "17\n",
      "18\n",
      "19\n",
      "20\n",
      "21\n",
      "22\n",
      "23\n",
      "24\n",
      "25\n",
      "26\n",
      "27\n",
      "28\n",
      "29\n",
      "30\n",
      "31\n",
      "32\n",
      "33\n",
      "34\n",
      "35\n",
      "36\n",
      "37\n",
      "38\n",
      "39\n",
      "40\n"
     ]
    }
   ],
   "source": [
    "for sidx, sid in enumerate([subjid]):\n",
    "        \n",
    "    mask = mask_3reps[sidx]\n",
    "    sorted_betas = []\n",
    "\n",
    "    #get all betas across all sessions\n",
    "    for sess in range(1,int(max_session[sidx])+1):\n",
    "        print(sess)\n",
    "\n",
    "        if(sess < 10):\n",
    "            idx = '0' + str(sess)\n",
    "        else:\n",
    "            idx = str(sess)\n",
    "\n",
    "        raw_betas = h5py.File(local_data_dir+'freesurfer/subj'+sid+'/betas/'+ hemi +'.zscore_betas_session'+idx+'.hdf5','r')\n",
    "\n",
    "        sess_betas = raw_betas['zscore_betas'][:][mask[(sess-1)*750:sess*750]]\n",
    "        del raw_betas\n",
    "\n",
    "        if(sess==1):\n",
    "            for roi_idx in range(num_rois):\n",
    "                betas_by_ROI[roi_idx] = sess_betas[:,parcels[sidx] == roi_idx+1]\n",
    "        else:\n",
    "            for roi_idx in range(num_rois):\n",
    "                betas_by_ROI[roi_idx] = np.append(betas_by_ROI[roi_idx],sess_betas[:,parcels[sidx] == roi_idx+1],axis=0)\n",
    "\n",
    "        del sess_betas"
   ]
  },
  {
   "cell_type": "code",
   "execution_count": 10,
   "metadata": {},
   "outputs": [],
   "source": [
    "betas_by_repeat_by_ROI = [[[] for j in range(num_rois)] for i in range(len([subjid]))]\n",
    "for sidx, sid in enumerate([subjid]):\n",
    "    for roi_idx in range(num_rois):  \n",
    "\n",
    "        sorted_betas = betas_by_ROI[roi_idx][arr1inds[::-1]]\n",
    "\n",
    "        for r in range(n_repeats):\n",
    "            betas_by_repeat_by_ROI[sidx][roi_idx].insert(r,sorted_betas[r::3])"
   ]
  },
  {
   "cell_type": "code",
   "execution_count": 11,
   "metadata": {},
   "outputs": [],
   "source": [
    "sorted_betas = betas_by_ROI[11][arr1inds[::-1]]\n",
    "if sorted_betas.size == 0:\n",
    "    sorted_betas = np.zeros_like(betas_by_ROI[roi_idx-1][arr1inds[::-1]])"
   ]
  },
  {
   "cell_type": "code",
   "execution_count": null,
   "metadata": {},
   "outputs": [],
   "source": [
    "for roi_idx in range(num_rois):  \n",
    "    if betas_by_repeat_by_ROI[sidx][roi_idx][0].size == 0:\n",
    "        print(roi_idx)"
   ]
  },
  {
   "cell_type": "code",
   "execution_count": 12,
   "metadata": {},
   "outputs": [
    {
     "name": "stdout",
     "output_type": "stream",
     "text": [
      "starting mega matrix\n",
      "11\n",
      "149\n",
      "550\n",
      "557\n",
      "573\n",
      "870\n",
      "899\n"
     ]
    },
    {
     "name": "stderr",
     "output_type": "stream",
     "text": [
      "/oak/stanford/groups/kalanit/biac2/kgs/projects/Dawn/NSD_venv/lib/python3.7/site-packages/ipykernel_launcher.py:50: RuntimeWarning: divide by zero encountered in double_scalars\n",
      "/oak/stanford/groups/kalanit/biac2/kgs/projects/Dawn/NSD_venv/lib/python3.7/site-packages/ipykernel_launcher.py:50: RuntimeWarning: invalid value encountered in double_scalars\n"
     ]
    },
    {
     "ename": "MemoryError",
     "evalue": "",
     "output_type": "error",
     "traceback": [
      "\u001b[0;31m---------------------------------------------------------------\u001b[0m",
      "\u001b[0;31mMemoryError\u001b[0m                   Traceback (most recent call last)",
      "\u001b[0;32m<ipython-input-12-d5fce5ea09d6>\u001b[0m in \u001b[0;36m<module>\u001b[0;34m\u001b[0m\n\u001b[1;32m     36\u001b[0m             \u001b[0;32mfor\u001b[0m \u001b[0mr\u001b[0m \u001b[0;32min\u001b[0m \u001b[0mrange\u001b[0m\u001b[0;34m(\u001b[0m\u001b[0mn_repeats\u001b[0m\u001b[0;34m)\u001b[0m\u001b[0;34m:\u001b[0m\u001b[0;34m\u001b[0m\u001b[0;34m\u001b[0m\u001b[0m\n\u001b[1;32m     37\u001b[0m                 \u001b[0mflip\u001b[0m \u001b[0;34m=\u001b[0m \u001b[0mbetas_by_repeat_by_ROI\u001b[0m\u001b[0;34m[\u001b[0m\u001b[0msidx\u001b[0m\u001b[0;34m]\u001b[0m\u001b[0;34m[\u001b[0m\u001b[0mroi_idx2\u001b[0m\u001b[0;34m]\u001b[0m\u001b[0;34m[\u001b[0m\u001b[0mr\u001b[0m\u001b[0;34m]\u001b[0m\u001b[0;34m.\u001b[0m\u001b[0mT\u001b[0m\u001b[0;34m\u001b[0m\u001b[0;34m\u001b[0m\u001b[0m\n\u001b[0;32m---> 38\u001b[0;31m                 \u001b[0mrsm\u001b[0m \u001b[0;34m=\u001b[0m \u001b[0mfast_pearson\u001b[0m\u001b[0;34m(\u001b[0m\u001b[0mflip\u001b[0m\u001b[0;34m,\u001b[0m\u001b[0mflip\u001b[0m\u001b[0;34m)\u001b[0m\u001b[0;34m\u001b[0m\u001b[0;34m\u001b[0m\u001b[0m\n\u001b[0m\u001b[1;32m     39\u001b[0m                 \u001b[0mflat_rsm_roi2\u001b[0m\u001b[0;34m[\u001b[0m\u001b[0;34m:\u001b[0m\u001b[0;34m,\u001b[0m \u001b[0mr\u001b[0m\u001b[0;34m]\u001b[0m \u001b[0;34m=\u001b[0m \u001b[0mget_flat_lower_tri\u001b[0m\u001b[0;34m(\u001b[0m\u001b[0mrsm\u001b[0m\u001b[0;34m,\u001b[0m\u001b[0mdiagonal\u001b[0m\u001b[0;34m=\u001b[0m\u001b[0;32mFalse\u001b[0m\u001b[0;34m)\u001b[0m\u001b[0;34m\u001b[0m\u001b[0;34m\u001b[0m\u001b[0m\n\u001b[1;32m     40\u001b[0m \u001b[0;34m\u001b[0m\u001b[0m\n",
      "\u001b[0;32m<ipython-input-1-50373b6f41ab>\u001b[0m in \u001b[0;36mfast_pearson\u001b[0;34m(x, y)\u001b[0m\n\u001b[1;32m     28\u001b[0m     \u001b[0myzss\u001b[0m \u001b[0;34m=\u001b[0m \u001b[0;34m(\u001b[0m\u001b[0myz\u001b[0m \u001b[0;34m*\u001b[0m \u001b[0myz\u001b[0m\u001b[0;34m)\u001b[0m\u001b[0;34m.\u001b[0m\u001b[0msum\u001b[0m\u001b[0;34m(\u001b[0m\u001b[0maxis\u001b[0m\u001b[0;34m=\u001b[0m\u001b[0;36m0\u001b[0m\u001b[0;34m)\u001b[0m\u001b[0;34m\u001b[0m\u001b[0;34m\u001b[0m\u001b[0m\n\u001b[1;32m     29\u001b[0m     \u001b[0mr\u001b[0m \u001b[0;34m=\u001b[0m \u001b[0mnp\u001b[0m\u001b[0;34m.\u001b[0m\u001b[0mmatmul\u001b[0m\u001b[0;34m(\u001b[0m\u001b[0mxz\u001b[0m\u001b[0;34m.\u001b[0m\u001b[0mtranspose\u001b[0m\u001b[0;34m(\u001b[0m\u001b[0;34m)\u001b[0m\u001b[0;34m,\u001b[0m \u001b[0myz\u001b[0m\u001b[0;34m)\u001b[0m \u001b[0;34m/\u001b[0m \u001b[0;34m(\u001b[0m\u001b[0mnp\u001b[0m\u001b[0;34m.\u001b[0m\u001b[0msqrt\u001b[0m\u001b[0;34m(\u001b[0m\u001b[0mnp\u001b[0m\u001b[0;34m.\u001b[0m\u001b[0mouter\u001b[0m\u001b[0;34m(\u001b[0m\u001b[0mxzss\u001b[0m\u001b[0;34m,\u001b[0m \u001b[0myzss\u001b[0m\u001b[0;34m)\u001b[0m\u001b[0;34m)\u001b[0m \u001b[0;34m+\u001b[0m \u001b[0mnp\u001b[0m\u001b[0;34m.\u001b[0m\u001b[0mfinfo\u001b[0m\u001b[0;34m(\u001b[0m\u001b[0mfloat\u001b[0m\u001b[0;34m)\u001b[0m\u001b[0;34m.\u001b[0m\u001b[0meps\u001b[0m\u001b[0;34m)\u001b[0m \u001b[0;31m#precision issues\u001b[0m\u001b[0;34m\u001b[0m\u001b[0;34m\u001b[0m\u001b[0m\n\u001b[0;32m---> 30\u001b[0;31m     \u001b[0;32mreturn\u001b[0m \u001b[0mnp\u001b[0m\u001b[0;34m.\u001b[0m\u001b[0mmaximum\u001b[0m\u001b[0;34m(\u001b[0m\u001b[0mnp\u001b[0m\u001b[0;34m.\u001b[0m\u001b[0mminimum\u001b[0m\u001b[0;34m(\u001b[0m\u001b[0mr\u001b[0m\u001b[0;34m,\u001b[0m \u001b[0;36m1.0\u001b[0m\u001b[0;34m)\u001b[0m\u001b[0;34m,\u001b[0m \u001b[0;34m-\u001b[0m\u001b[0;36m1.0\u001b[0m\u001b[0;34m)\u001b[0m \u001b[0;31m#for precision issues\u001b[0m\u001b[0;34m\u001b[0m\u001b[0;34m\u001b[0m\u001b[0m\n\u001b[0m",
      "\u001b[0;31mMemoryError\u001b[0m: "
     ]
    }
   ],
   "source": [
    "#Create RSMS for all the ROIs, repeats and subjects (moved to within mega matrix loop for mem efficiency)\n",
    "tril_flat_shape = int((betas_by_repeat_by_ROI[0][0][0].shape[0]**2/2) - (betas_by_repeat_by_ROI[0][0][0].shape[0]/2))\n",
    "sidx = 0 #currently doing one subject at a time\n",
    "\n",
    "r1_trial_order = [0, 0, 1, 1, 2, 2]\n",
    "r2_trial_order = [1, 2, 0, 2, 0, 1]\n",
    "\n",
    "print('starting mega matrix')\n",
    "#make the mega matrix!\n",
    "mega_matrix = np.zeros((len(chunks),num_rois))\n",
    "m_idx = 0 #allow for chunks not starting at 0\n",
    "\n",
    "for cidx, roi_idx1 in enumerate(chunks): #rows - i.e. model candidate\n",
    "        \n",
    "    flat_rsm_roi1 = np.zeros((tril_flat_shape, n_repeats))\n",
    "    for r in range(n_repeats):\n",
    "        flip = betas_by_repeat_by_ROI[sidx][roi_idx1][r].T\n",
    "        rsm = fast_pearson(flip,flip)\n",
    "        flat_rsm_roi1[:, r] = get_flat_lower_tri(rsm,diagonal=False)\n",
    "\n",
    "    split_half = np.zeros((3))\n",
    "    split_half = [fast_pearson(flat_rsm_roi1[:,0],flat_rsm_roi1[:,1])[0][0],\n",
    "                fast_pearson(flat_rsm_roi1[:,0],flat_rsm_roi1[:,2])[0][0],\n",
    "                fast_pearson(flat_rsm_roi1[:,1],flat_rsm_roi1[:,2])[0][0]]\n",
    "    NC_model = np.abs(np.mean(split_half) * 100) #can't have neg NC\n",
    "\n",
    "    flat_rsm_roi2 = np.zeros((tril_flat_shape, n_repeats)) #initialize once then rewrite for time\n",
    "    rsm_corr = np.zeros((6))\n",
    "    for roi_idx2 in range(num_rois): #columns - i.e. target data\n",
    "\n",
    "        \n",
    "        if betas_by_repeat_by_ROI[sidx][roi_idx2][0].size == 0: #no betas\n",
    "            print(roi_idx2)\n",
    "            mega_matrix[m_idx,roi_idx2] = 0\n",
    "        else:\n",
    "            for r in range(n_repeats):\n",
    "                flip = betas_by_repeat_by_ROI[sidx][roi_idx2][r].T\n",
    "                rsm = fast_pearson(flip,flip)\n",
    "                flat_rsm_roi2[:, r] = get_flat_lower_tri(rsm,diagonal=False)\n",
    "\n",
    "            split_half = [fast_pearson(flat_rsm_roi2[:,0],flat_rsm_roi2[:,1])[0][0],\n",
    "                        fast_pearson(flat_rsm_roi2[:,0],flat_rsm_roi2[:,2])[0][0],\n",
    "                        fast_pearson(flat_rsm_roi2[:,1],flat_rsm_roi2[:,2])[0][0]]\n",
    "            NC_target = np.abs(np.mean(split_half) * 100) #can't have neg NC\n",
    "\n",
    "            for r in range(6):\n",
    "                rsm_corr[r] = fast_pearson(flat_rsm_roi1[:, r1_trial_order[r]],\n",
    "                                            flat_rsm_roi2[:, r2_trial_order[r]])[0][0]\n",
    "\n",
    "            mega_matrix[m_idx,roi_idx2] = np.mean(rsm_corr) * np.sqrt(100/NC_model) * np.sqrt(100/NC_target)\n",
    "    \n",
    "    m_idx += 1"
   ]
  },
  {
   "cell_type": "code",
   "execution_count": 14,
   "metadata": {},
   "outputs": [],
   "source": [
    "#save to local data folder\n",
    "save_file = local_data_dir + 'processed/' + subjid + '/' + hemi + '_' + roi_name + '_' + str(min_idx) + 'to' + str(max_idx) + '.data'\n",
    "\n",
    "with open(save_file, 'wb') as filehandle:\n",
    "    # store the data as binary data stream\n",
    "    pickle.dump([mega_matrix], filehandle)"
   ]
  },
  {
   "cell_type": "code",
   "execution_count": 25,
   "metadata": {},
   "outputs": [],
   "source": [
    "#create dict for matlab\n",
    "mega = {}\n",
    "mega['matrix'] = mega_matrix\n",
    "\n",
    "#save out\n",
    "save_dir = '../../../local_data/processed/05/'\n",
    "scipy.io.savemat(save_dir + 'mini_mega_matrix_test.mat', mega)"
   ]
  },
  {
   "cell_type": "code",
   "execution_count": 24,
   "metadata": {},
   "outputs": [
    {
     "data": {
      "text/plain": [
       "array([[0.78276327, 0.1319154 , 0.24245643, 0.32910832, 1.        ,\n",
       "        0.43822863, 0.54136625, 1.72473914, 0.4641829 , 0.39717587,\n",
       "        0.        , 0.32662149, 0.55592295, 0.25917313, 0.07195813,\n",
       "        0.6317329 , 0.22365853, 1.07973325, 1.03415343, 0.92562987,\n",
       "        0.17400215, 1.4700777 , 0.31547172, 0.59961129, 0.47497642,\n",
       "        0.61607588, 0.52775124, 0.70041034, 0.7082862 , 0.75574959,\n",
       "        0.54726757, 1.51934379, 0.64505235, 1.38263533, 0.5996143 ,\n",
       "        1.09816195, 0.70842489, 0.73371855, 0.51799534, 0.3184456 ,\n",
       "        0.29570623, 0.93151471, 0.52432008, 0.65859358, 0.4611988 ,\n",
       "        0.39735979, 0.2853493 , 0.43300947, 2.69952252, 0.95343596,\n",
       "        0.18428668, 0.25825342, 1.08537695, 0.51484987, 0.2258343 ,\n",
       "        0.25630684, 0.39281718, 0.55847079, 0.37048169, 0.44761169,\n",
       "        0.32723569, 0.14796506, 0.50760079, 0.35074033, 1.26141468,\n",
       "        0.731573  , 0.10375012, 0.5275556 , 0.13902882, 0.44284359,\n",
       "        0.44000027, 0.55890355, 0.23712322, 0.73494733, 0.29119784,\n",
       "        0.39415556, 0.3471558 , 1.10483609, 0.38548861, 0.76306187,\n",
       "        0.57197758, 0.32604264, 0.31487549, 0.62937862, 0.11538339,\n",
       "        0.60674013, 1.39825705, 0.31930186, 0.68487926, 1.22686186,\n",
       "        0.67106897, 0.70673741, 1.23704132, 1.21469146, 0.80077564,\n",
       "        0.41384186, 0.41800984, 0.07929682, 0.5370915 ]])"
      ]
     },
     "execution_count": 24,
     "metadata": {},
     "output_type": "execute_result"
    }
   ],
   "source": [
    "mega_matrix[:,1:100]"
   ]
  },
  {
   "cell_type": "code",
   "execution_count": null,
   "metadata": {},
   "outputs": [],
   "source": [
    "roi_idx2=11\n",
    "\n",
    "\n",
    "for r in range(n_repeats):\n",
    "    print(r)\n",
    "    flip = betas_by_repeat_by_ROI[sidx][roi_idx2][r].T\n",
    "    rsm = fast_pearson(flip,flip)\n",
    "    flat_rsm_roi2[:, r] = get_flat_lower_tri(rsm,diagonal=False)\n",
    "\n",
    "        "
   ]
  },
  {
   "cell_type": "code",
   "execution_count": null,
   "metadata": {},
   "outputs": [],
   "source": [
    "r = 0\n",
    "flip = betas_by_repeat_by_ROI[sidx][roi_idx2][r].T"
   ]
  },
  {
   "cell_type": "code",
   "execution_count": null,
   "metadata": {},
   "outputs": [],
   "source": [
    "betas_by_repeat_by_ROI[0][11]"
   ]
  },
  {
   "cell_type": "code",
   "execution_count": null,
   "metadata": {},
   "outputs": [],
   "source": [
    "mega_matrix"
   ]
  },
  {
   "cell_type": "code",
   "execution_count": null,
   "metadata": {},
   "outputs": [],
   "source": [
    "print(roi_idx1)\n",
    "flat_rsm_roi1 = np.zeros((tril_flat_shape, n_repeats))\n",
    "for r in range(n_repeats):\n",
    "    flip = betas_by_repeat_by_ROI[sidx][roi_idx1][r].T\n",
    "    rsm = fast_pearson(flip,flip)\n",
    "    flat_rsm_roi1[:, r] = get_flat_lower_tri(rsm,diagonal=False)\n",
    "\n",
    "split_half = np.zeros((3))\n",
    "split_half = [fast_pearson(flat_rsm_roi1[:,0],flat_rsm_roi1[:,1])[0][0],\n",
    "            fast_pearson(flat_rsm_roi1[:,0],flat_rsm_roi1[:,2])[0][0],\n",
    "            fast_pearson(flat_rsm_roi1[:,1],flat_rsm_roi1[:,2])[0][0]]\n",
    "NC_model = np.mean(split_half) * 100"
   ]
  },
  {
   "cell_type": "code",
   "execution_count": null,
   "metadata": {},
   "outputs": [],
   "source": [
    "NC_model"
   ]
  },
  {
   "cell_type": "code",
   "execution_count": null,
   "metadata": {},
   "outputs": [],
   "source": [
    "np.sqrt(100/NC_model)"
   ]
  },
  {
   "cell_type": "code",
   "execution_count": null,
   "metadata": {},
   "outputs": [],
   "source": [
    "roi_idx2 = 180"
   ]
  },
  {
   "cell_type": "code",
   "execution_count": null,
   "metadata": {},
   "outputs": [],
   "source": [
    "r=0"
   ]
  },
  {
   "cell_type": "code",
   "execution_count": null,
   "metadata": {},
   "outputs": [],
   "source": [
    "betas_by_repeat_by_ROI[sidx][roi_idx2][r].T "
   ]
  },
  {
   "cell_type": "code",
   "execution_count": null,
   "metadata": {},
   "outputs": [],
   "source": [
    "flip = betas_by_repeat_by_ROI[sidx][roi_idx2][r].T \n",
    "rsm = fast_pearson(flip,flip)\n"
   ]
  },
  {
   "cell_type": "code",
   "execution_count": null,
   "metadata": {},
   "outputs": [],
   "source": [
    "x= flip\n",
    "y = flip"
   ]
  },
  {
   "cell_type": "code",
   "execution_count": null,
   "metadata": {},
   "outputs": [],
   "source": [
    "#faster, vectorized version\n",
    "xz = x - x.mean(axis=0)\n",
    "yz = y - y.mean(axis=0)\n"
   ]
  },
  {
   "cell_type": "code",
   "execution_count": null,
   "metadata": {},
   "outputs": [],
   "source": [
    "\n",
    "xzss = (xz * xz).sum(axis=0)\n",
    "yzss = (yz * yz).sum(axis=0)"
   ]
  },
  {
   "cell_type": "code",
   "execution_count": null,
   "metadata": {},
   "outputs": [],
   "source": [
    "np.sqrt(np.min(np.outer(xzss, yzss)))"
   ]
  },
  {
   "cell_type": "code",
   "execution_count": null,
   "metadata": {},
   "outputs": [],
   "source": [
    "r = np.matmul(xz.transpose(), yz) / np.sqrt(np.outer(xzss, yzss))\n",
    "    "
   ]
  },
  {
   "cell_type": "code",
   "execution_count": null,
   "metadata": {},
   "outputs": [],
   "source": [
    "flip.shape"
   ]
  },
  {
   "cell_type": "code",
   "execution_count": null,
   "metadata": {},
   "outputs": [],
   "source": [
    "flat_rsm_roi2 = np.zeros((tril_flat_shape, n_repeats))\n",
    "for r in range(n_repeats):\n",
    "    flip = betas_by_repeat_by_ROI[sidx][roi_idx2][r].T\n",
    "    rsm = fast_pearson(flip,flip)\n",
    "    flat_rsm_roi2[:, r] = get_flat_lower_tri(rsm,diagonal=False)\n"
   ]
  },
  {
   "cell_type": "code",
   "execution_count": null,
   "metadata": {},
   "outputs": [],
   "source": [
    "split_half = np.zeros((3))\n",
    "split_half = [fast_pearson(flat_rsm_roi2[:,0],flat_rsm_roi2[:,1])[0][0],\n",
    "            fast_pearson(flat_rsm_roi2[:,0],flat_rsm_roi2[:,2])[0][0],\n",
    "            fast_pearson(flat_rsm_roi2[:,1],flat_rsm_roi2[:,2])[0][0]]\n",
    "NC_target = np.abs(np.mean(split_half) * 100)\n"
   ]
  },
  {
   "cell_type": "code",
   "execution_count": null,
   "metadata": {},
   "outputs": [],
   "source": [
    "np.mean(split_half)"
   ]
  },
  {
   "cell_type": "code",
   "execution_count": null,
   "metadata": {},
   "outputs": [],
   "source": [
    "100/NC_target"
   ]
  },
  {
   "cell_type": "code",
   "execution_count": null,
   "metadata": {},
   "outputs": [],
   "source": [
    "fast_pearson(flat_rsm_roi2[:,0],flat_rsm_roi2[:,1])[0][0]"
   ]
  },
  {
   "cell_type": "code",
   "execution_count": null,
   "metadata": {},
   "outputs": [],
   "source": [
    "stats.pearsonr(flat_rsm_roi2[:,1],flat_rsm_roi2[:,2])[0]"
   ]
  },
  {
   "cell_type": "code",
   "execution_count": null,
   "metadata": {},
   "outputs": [],
   "source": [
    "rsm_corr = np.zeros((6))\n",
    "for r in range(6):\n",
    "    rsm_corr[r] = fast_pearson(flat_rsm_roi2[:, r1_trial_order[r]],\n",
    "                                flat_rsm_roi2[:, r2_trial_order[r]])[0][0]"
   ]
  },
  {
   "cell_type": "code",
   "execution_count": null,
   "metadata": {},
   "outputs": [],
   "source": [
    "rsm_corr"
   ]
  },
  {
   "cell_type": "code",
   "execution_count": null,
   "metadata": {},
   "outputs": [],
   "source": [
    "np.mean(rsm_corr) * np.sqrt(100/NC_model) * np.sqrt(100/NC_target)"
   ]
  },
  {
   "cell_type": "code",
   "execution_count": null,
   "metadata": {},
   "outputs": [],
   "source": [
    "np.sqrt(100/NC_model)"
   ]
  },
  {
   "cell_type": "code",
   "execution_count": null,
   "metadata": {},
   "outputs": [],
   "source": [
    "np.sqrt(100/NC_target)"
   ]
  },
  {
   "cell_type": "code",
   "execution_count": null,
   "metadata": {},
   "outputs": [],
   "source": []
  }
 ],
 "metadata": {
  "kernelspec": {
   "display_name": "Python 3",
   "language": "python",
   "name": "python3"
  },
  "language_info": {
   "codemirror_mode": {
    "name": "ipython",
    "version": 3
   },
   "file_extension": ".py",
   "mimetype": "text/x-python",
   "name": "python",
   "nbconvert_exporter": "python",
   "pygments_lexer": "ipython3",
   "version": "3.7.10"
  }
 },
 "nbformat": 4,
 "nbformat_minor": 4
}
