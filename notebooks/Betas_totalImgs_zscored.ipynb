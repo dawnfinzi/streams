{
 "cells": [
  {
   "cell_type": "code",
   "execution_count": 1,
   "metadata": {},
   "outputs": [],
   "source": [
    "%matplotlib inline\n",
    "\n",
    "import matplotlib\n",
    "import matplotlib.pyplot as plt"
   ]
  },
  {
   "cell_type": "code",
   "execution_count": 2,
   "metadata": {},
   "outputs": [],
   "source": [
    "import h5py\n",
    "import numpy as np\n",
    "import scipy as sp\n",
    "import scipy.stats as stats\n",
    "import nibabel as nibabel\n",
    "import pandas as pd\n",
    "import nibabel.freesurfer.mghformat as mgh\n",
    "import scipy.io\n",
    "from itertools import combinations \n",
    "import pickle"
   ]
  },
  {
   "cell_type": "code",
   "execution_count": 3,
   "metadata": {},
   "outputs": [],
   "source": [
    "data_dir = '../../../data/'\n",
    "local_dir = '../../../local_data/freesurfer/'"
   ]
  },
  {
   "cell_type": "code",
   "execution_count": 4,
   "metadata": {},
   "outputs": [],
   "source": [
    "subjid = ['01', '02', '03', '04', '05', '06', '07', '08']\n",
    "ROI_names = ['Unknown', 'Early', 'Midventral', 'Midlateral', 'Midparietal', 'Ventral', 'Lateral', 'Parietal']\n",
    "n_repeats = 3"
   ]
  },
  {
   "cell_type": "code",
   "execution_count": 5,
   "metadata": {},
   "outputs": [],
   "source": [
    "all_ids = []\n",
    "max_session = np.zeros(len(subjid))\n",
    "for sidx, sid in enumerate(subjid):\n",
    "    \n",
    "    data = pd.read_csv('../../../data/nsddata/ppdata/subj'+ sid +'/behav/responses.tsv', sep='\\t')\n",
    "    \n",
    "    max_session[sidx] = np.max(np.array(data['SESSION'])) \n",
    "    \n",
    "    all_ids.append(np.array(data['73KID']))\n",
    "    \n",
    "    #shared_mask.append(np.isin(all_ids[sidx],sharedix))"
   ]
  },
  {
   "cell_type": "code",
   "execution_count": 6,
   "metadata": {},
   "outputs": [
    {
     "data": {
      "text/plain": [
       "[array([46003, 61883,   829, ..., 53168,  1944,  5034]),\n",
       " array([46003, 42020, 22500, ..., 61376, 42648, 69768]),\n",
       " array([46003, 19257, 36386, ..., 56937, 28438, 42959]),\n",
       " array([46003, 23082,  8031, ..., 67073, 12918,  3388]),\n",
       " array([46003,  5737,  9204, ..., 44063, 53238, 54913]),\n",
       " array([46003, 21397, 18925, ..., 58176, 18756, 46521]),\n",
       " array([46003, 16507,  9387, ..., 34541, 31244, 55231]),\n",
       " array([46003, 57484, 41828, ..., 54394,    30, 23135])]"
      ]
     },
     "execution_count": 6,
     "metadata": {},
     "output_type": "execute_result"
    }
   ],
   "source": [
    "all_ids"
   ]
  },
  {
   "cell_type": "code",
   "execution_count": 7,
   "metadata": {},
   "outputs": [],
   "source": [
    "which_reps = []\n",
    "for sidx, sid in enumerate(subjid):\n",
    "    vals, idx_start, count = np.unique(all_ids[sidx], return_counts=True,\n",
    "                                    return_index=True)\n",
    "    which_reps.append(vals[count == n_repeats])\n",
    "    \n",
    "least_trials = min(which_reps, key=len)"
   ]
  },
  {
   "cell_type": "code",
   "execution_count": 8,
   "metadata": {},
   "outputs": [],
   "source": [
    "id_nums_3reps = []\n",
    "mask_3reps = []\n",
    "for sidx, sid in enumerate(subjid):\n",
    "    \n",
    "    data = pd.read_csv('../../../data/nsddata/ppdata/subj'+ sid +'/behav/responses.tsv', sep='\\t')\n",
    "    \n",
    "    mask_3reps.append(np.isin(all_ids[sidx],which_reps[sidx]))\n",
    "    id_nums_3reps.append(np.array(data['73KID'])[mask_3reps[sidx]])\n"
   ]
  },
  {
   "cell_type": "code",
   "execution_count": 9,
   "metadata": {},
   "outputs": [
    {
     "data": {
      "text/plain": [
       "[array([46003, 61883,   829, ..., 53168,  1944,  5034]),\n",
       " array([46003, 42020, 22500, ..., 61376, 42648, 69768]),\n",
       " array([19257, 36386, 44343, ..., 66372, 56937, 42959]),\n",
       " array([23082,  8031, 36381, ..., 67739, 67073,  3388]),\n",
       " array([46003,  5737,  9204, ..., 44063, 53238, 54913]),\n",
       " array([21397, 18925, 27158, ..., 13035, 58176, 46521]),\n",
       " array([46003, 16507,  9387, ..., 34541, 31244, 55231]),\n",
       " array([57484, 41828, 69686, ..., 57428, 54394, 23135])]"
      ]
     },
     "execution_count": 9,
     "metadata": {},
     "output_type": "execute_result"
    }
   ],
   "source": [
    "id_nums_3reps"
   ]
  },
  {
   "cell_type": "code",
   "execution_count": 10,
   "metadata": {},
   "outputs": [],
   "source": [
    "rh_streams = []\n",
    "for sidx, sid in enumerate(subjid):\n",
    "    mgh_file = mgh.load(data_dir+'nsddata/freesurfer/subj'+ sid +'/label/rh.streams.mgz')\n",
    "    rh_streams.append(mgh_file.get_fdata()[:,0,0])"
   ]
  },
  {
   "cell_type": "code",
   "execution_count": 12,
   "metadata": {},
   "outputs": [
    {
     "name": "stdout",
     "output_type": "stream",
     "text": [
      "0\n",
      "1\n",
      "2\n",
      "3\n",
      "4\n",
      "5\n",
      "6\n",
      "7\n"
     ]
    }
   ],
   "source": [
    "#right hemisphere\n",
    "for sidx, sid in enumerate(subjid):\n",
    "    \n",
    "    print(sidx)\n",
    "    mask = mask_3reps[sidx]\n",
    "    betas_by_ROI = []\n",
    "    \n",
    "    #get all betas across all sessions\n",
    "    for sess in range(1,int(max_session[sidx])+1):\n",
    "                \n",
    "        if(sess < 10):\n",
    "            idx = '0' + str(sess)\n",
    "        else:\n",
    "            idx = str(sess)\n",
    "\n",
    "        raw_betas = h5py.File(local_dir+'subj'+sid+'/betas/rh.zscore_betas_session'+idx+'.hdf5','r')\n",
    "        #betas = raw_betas['zscore_betas'][:]\n",
    "\n",
    "        sess_betas = raw_betas['zscore_betas'][:][mask[(sess-1)*750:sess*750]]\n",
    "        del raw_betas\n",
    "\n",
    "        if(sess==1):\n",
    "            ventral_betas = sess_betas[:,rh_streams[sidx] == 5]\n",
    "            lateral_betas = sess_betas[:,rh_streams[sidx] == 6]\n",
    "            parietal_betas = sess_betas[:,rh_streams[sidx] == 7]\n",
    "        else:\n",
    "            ventral_betas = np.concatenate((ventral_betas, sess_betas[:,rh_streams[sidx] == 5]))\n",
    "            lateral_betas = np.concatenate((lateral_betas, sess_betas[:,rh_streams[sidx] == 6]))\n",
    "            parietal_betas = np.concatenate((parietal_betas, sess_betas[:,rh_streams[sidx] == 7]))\n",
    "\n",
    "        del sess_betas\n",
    "    \n",
    "    arr1inds = id_nums_3reps[sidx].argsort()\n",
    "    \n",
    "    sorted_subj_betas_ventral = []\n",
    "    sorted_subj_betas_ventral.append(ventral_betas[arr1inds[::-1]])\n",
    "    del ventral_betas\n",
    "    sorted_subj_betas_lateral = []\n",
    "    sorted_subj_betas_lateral.append(lateral_betas[arr1inds[::-1]])\n",
    "    del lateral_betas\n",
    "    sorted_subj_betas_parietal = []\n",
    "    sorted_subj_betas_parietal.append(parietal_betas[arr1inds[::-1]])\n",
    "    del parietal_betas\n",
    "\n",
    "    betas_by_repeat_ventral = []\n",
    "    betas_by_repeat_lateral = []\n",
    "    betas_by_repeat_parietal = []\n",
    "    for r in range(n_repeats):\n",
    "        betas_by_repeat_ventral.insert(r,sorted_subj_betas_ventral[0][r::3])\n",
    "        betas_by_repeat_lateral.insert(r,sorted_subj_betas_lateral[0][r::3])\n",
    "        betas_by_repeat_parietal.insert(r,sorted_subj_betas_parietal[0][r::3])\n",
    "\n",
    "    #save out\n",
    "    save_file = '../../../local_data/processed/subj' + sid +'_all_HVA_zscored_betas.data'\n",
    "\n",
    "    with open(save_file, 'wb') as filehandle:\n",
    "        # store the data as binary data stream\n",
    "        pickle.dump([betas_by_repeat_ventral,\n",
    "                     betas_by_repeat_lateral,\n",
    "                     betas_by_repeat_parietal], filehandle)\n",
    "    \n",
    "    del betas_by_repeat_ventral, betas_by_repeat_lateral, betas_by_repeat_parietal\n"
   ]
  },
  {
   "cell_type": "code",
   "execution_count": null,
   "metadata": {},
   "outputs": [],
   "source": [
    "max_session"
   ]
  }
 ],
 "metadata": {
  "kernelspec": {
   "display_name": "Python 3",
   "language": "python",
   "name": "python3"
  },
  "language_info": {
   "codemirror_mode": {
    "name": "ipython",
    "version": 3
   },
   "file_extension": ".py",
   "mimetype": "text/x-python",
   "name": "python",
   "nbconvert_exporter": "python",
   "pygments_lexer": "ipython3",
   "version": "3.7.9"
  }
 },
 "nbformat": 4,
 "nbformat_minor": 4
}
