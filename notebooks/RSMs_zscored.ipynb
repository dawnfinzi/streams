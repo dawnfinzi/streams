{
 "cells": [
  {
   "cell_type": "code",
   "execution_count": 1,
   "metadata": {},
   "outputs": [],
   "source": [
    "%matplotlib inline\n",
    "\n",
    "import matplotlib\n",
    "import matplotlib.pyplot as plt"
   ]
  },
  {
   "cell_type": "code",
   "execution_count": 2,
   "metadata": {},
   "outputs": [],
   "source": [
    "import h5py\n",
    "import numpy as np\n",
    "import scipy as sp\n",
    "import scipy.stats as stats\n",
    "import nibabel as nibabel\n",
    "import pandas as pd\n",
    "import nibabel.freesurfer.mghformat as mgh\n",
    "import scipy.io\n",
    "from itertools import combinations \n",
    "import pickle"
   ]
  },
  {
   "cell_type": "code",
   "execution_count": 3,
   "metadata": {},
   "outputs": [],
   "source": [
    "data_dir = '../../../data/'\n",
    "local_dir = '../../../local_data/freesurfer/'"
   ]
  },
  {
   "cell_type": "code",
   "execution_count": 4,
   "metadata": {},
   "outputs": [],
   "source": [
    "subjid = ['01', '02', '03', '04', '05', '06', '07', '08']\n",
    "ROI_names = ['Unknown', 'Early', 'Midventral', 'Midlateral', 'Midparietal', 'Ventral', 'Lateral', 'Parietal']\n",
    "n_repeats = 3"
   ]
  },
  {
   "cell_type": "code",
   "execution_count": 5,
   "metadata": {},
   "outputs": [],
   "source": [
    "expdesign = scipy.io.loadmat(data_dir+'nsddata/experiments/nsd/nsd_expdesign.mat')\n",
    "sharedix = expdesign['sharedix']\n",
    "\n",
    "all_ids = []\n",
    "shared_mask = []\n",
    "shared_id_nums = []\n",
    "max_session = np.zeros(len(subjid))\n",
    "for sidx, sid in enumerate(subjid):\n",
    "    \n",
    "    data = pd.read_csv('../../../data/nsddata/ppdata/subj'+ sid +'/behav/responses.tsv', sep='\\t')\n",
    "    \n",
    "    max_session[sidx] = np.max(np.array(data['SESSION'])) \n",
    "    \n",
    "    all_ids.append(np.array(data['73KID']))\n",
    "    \n",
    "    shared_mask.append(np.isin(all_ids[sidx],sharedix))\n",
    "    shared_id_nums.append(np.array(data['73KID'])[shared_mask[sidx]])"
   ]
  },
  {
   "cell_type": "code",
   "execution_count": 6,
   "metadata": {},
   "outputs": [],
   "source": [
    "shared_3_reps = []\n",
    "for sidx, sid in enumerate(subjid):\n",
    "    vals, idx_start, count = np.unique(shared_id_nums[sidx], return_counts=True,\n",
    "                                    return_index=True)\n",
    "    shared_3_reps.append(vals[count == n_repeats])\n",
    "    \n",
    "least_trials = min(shared_3_reps, key=len)\n"
   ]
  },
  {
   "cell_type": "code",
   "execution_count": 7,
   "metadata": {},
   "outputs": [],
   "source": [
    "#okay let's find the shared id numbers again, but this time for the set of images \n",
    "#that was actually shown 3 times to each subject\n",
    "\n",
    "shared_id_nums_3reps = []\n",
    "shared_mask_3reps = []\n",
    "for sidx, sid in enumerate(subjid):\n",
    "    \n",
    "    data = pd.read_csv('../../../data/nsddata/ppdata/subj'+ sid +'/behav/responses.tsv', sep='\\t')\n",
    "    \n",
    "    shared_mask_3reps.append(np.isin(all_ids[sidx],least_trials))\n",
    "    \n",
    "    shared_id_nums_3reps.append(np.array(data['73KID'])[shared_mask_3reps[sidx]])\n",
    "    \n",
    "#these id numbers are actually the same for each subject \n",
    "#(subjs were purposefully shown shared images at same trial nums)\n",
    "#but b/c lengths are diff just kept it like this for ease"
   ]
  },
  {
   "cell_type": "code",
   "execution_count": 8,
   "metadata": {},
   "outputs": [
    {
     "name": "stdout",
     "output_type": "stream",
     "text": [
      "01\n",
      "02\n",
      "03\n",
      "04\n",
      "05\n",
      "06\n",
      "07\n",
      "08\n"
     ]
    }
   ],
   "source": [
    "shared_betas_3reps = []\n",
    "for sidx, sid in enumerate(subjid):\n",
    "    \n",
    "    print(sid)\n",
    "    mask = shared_mask_3reps[sidx]\n",
    "    \n",
    "    for sess in range(1,int(max_session[sidx])+1):\n",
    "        \n",
    "        if(sess < 10):\n",
    "            idx = '0' + str(sess)\n",
    "        else:\n",
    "            idx = str(sess)\n",
    "\n",
    "        raw_betas = h5py.File(local_dir+'subj'+sid+'/betas/lh.zscore_betas_session'+idx+'.hdf5','r')\n",
    "        betas = raw_betas['zscore_betas'][:]\n",
    "        \n",
    "        sess_shared_betas = betas[mask[(sess-1)*750:sess*750]]\n",
    "\n",
    "        if(sess==1):\n",
    "            subj_shared_betas = sess_shared_betas\n",
    "        else:\n",
    "            subj_shared_betas = np.concatenate((subj_shared_betas, sess_shared_betas))\n",
    "    \n",
    "    \n",
    "    shared_betas_3reps.append(subj_shared_betas)\n",
    "    del subj_shared_betas"
   ]
  },
  {
   "cell_type": "code",
   "execution_count": 9,
   "metadata": {},
   "outputs": [],
   "source": [
    "lh_streams = []\n",
    "for sidx, sid in enumerate(subjid):\n",
    "    mgh_file = mgh.load(data_dir+'nsddata/freesurfer/subj'+ sid +'/label/lh.streams.mgz')\n",
    "    lh_streams.append(mgh_file.get_fdata()[:,0,0])"
   ]
  },
  {
   "cell_type": "code",
   "execution_count": 10,
   "metadata": {},
   "outputs": [],
   "source": [
    "sorted_shared_betas = []\n",
    "for sidx, sid in enumerate(subjid):\n",
    "    arr1inds = shared_id_nums_3reps[sidx].argsort()\n",
    "    sorted_shared_betas.append(shared_betas_3reps[sidx][arr1inds[::-1]])"
   ]
  },
  {
   "cell_type": "code",
   "execution_count": 11,
   "metadata": {},
   "outputs": [],
   "source": [
    "del shared_betas_3reps #to help with memory probs"
   ]
  },
  {
   "cell_type": "code",
   "execution_count": 12,
   "metadata": {},
   "outputs": [],
   "source": [
    "betas_by_repeat = [[] for _ in range(len(subjid))]\n",
    "for sidx, sid in enumerate(subjid):\n",
    "    for r in range(n_repeats):\n",
    "        betas_by_repeat[sidx].insert(r,sorted_shared_betas[sidx][r::3])\n",
    "        \n",
    "# let's organize by ROI and get rid of vox outside of our ROIs to save space\n",
    "betas_by_repeat_by_ROI = [[[] for j in range(len(ROI_names)-1)] for i in range(len(subjid))]\n",
    "repeat_mean_by_ROI = [[[] for j in range(len(ROI_names)-1)] for i in range(len(subjid))]\n",
    "\n",
    "#two loops because otherwise we run out of mems\n",
    "for sidx, sid in enumerate(subjid):  \n",
    "    for roi_idx in range(len(ROI_names)-1):       \n",
    "        for r in range(n_repeats):       \n",
    "            betas_by_repeat_by_ROI[sidx][roi_idx].insert(r,betas_by_repeat[sidx][r][:,lh_streams[sidx] == roi_idx+1])\n",
    "\n",
    "del betas_by_repeat"
   ]
  },
  {
   "cell_type": "code",
   "execution_count": 13,
   "metadata": {},
   "outputs": [],
   "source": [
    "# save for future use\n",
    "with open('lh_betas_by_repeat_by_ROI_zscore.data', 'wb') as filehandle:\n",
    "    # store the data as binary data stream\n",
    "    pickle.dump(betas_by_repeat_by_ROI, filehandle)"
   ]
  },
  {
   "cell_type": "markdown",
   "metadata": {},
   "source": [
    "## RSMS"
   ]
  },
  {
   "cell_type": "code",
   "execution_count": null,
   "metadata": {},
   "outputs": [],
   "source": [
    "#Create RSMS\n",
    "\n",
    "tril_flat_shape = int((betas_by_repeat_by_ROI[0][0][0].shape[0]**2/2) - (betas_by_repeat_by_ROI[0][0][0].shape[0]/2))\n",
    "flat_rsm = np.zeros((len(subjid),len(ROI_names)-1, tril_flat_shape, n_repeats))\n",
    "rsm = np.zeros((len(subjid),len(ROI_names)-1,n_repeats,betas_by_repeat_by_ROI[0][0][0].shape[0],betas_by_repeat_by_ROI[0][0][0].shape[0]))\n",
    "\n",
    "for sidx, sid in enumerate(subjid):\n",
    "    \n",
    "    for roi_idx in range(len(ROI_names)-1):\n",
    "\n",
    "        for r in range(n_repeats):\n",
    "\n",
    "            rsm[sidx,roi_idx,r,:,:] = np.corrcoef(betas_by_repeat_by_ROI[sidx][roi_idx][r])\n",
    "\n",
    "            lower = np.tril(rsm[sidx,roi_idx,r,:,:], -1).T.ravel()\n",
    "\n",
    "            flat_rsm[sidx, roi_idx, :,r] = lower[lower != 0]\n"
   ]
  },
  {
   "cell_type": "code",
   "execution_count": null,
   "metadata": {},
   "outputs": [],
   "source": [
    "rsm_corr_within_subj_within_ROI = np.zeros((len(subjid),len(ROI_names)-1,3))\n",
    "\n",
    "#within subj & ROI\n",
    "for sidx, sid in enumerate(subjid):\n",
    "    for roi_idx in range(len(ROI_names)-1):\n",
    "\n",
    "        rsm_corr = [stats.pearsonr(flat_rsm[sidx,roi_idx,:,0],flat_rsm[sidx,roi_idx,:,1])[0],\n",
    "                    stats.pearsonr(flat_rsm[sidx,roi_idx,:,0],flat_rsm[sidx,roi_idx,:,2])[0],\n",
    "                    stats.pearsonr(flat_rsm[sidx,roi_idx,:,1],flat_rsm[sidx,roi_idx,:,2])[0]]\n",
    "\n",
    "        rsm_corr_within_subj_within_ROI[sidx,roi_idx,:] = rsm_corr\n"
   ]
  },
  {
   "cell_type": "code",
   "execution_count": null,
   "metadata": {},
   "outputs": [],
   "source": [
    "mean_rsm_corr_within_subj_within_ROI = np.mean(rsm_corr_within_subj_within_ROI,axis=2) #mean across repeats"
   ]
  },
  {
   "cell_type": "code",
   "execution_count": null,
   "metadata": {},
   "outputs": [],
   "source": [
    "mean_rsm_corr_within_subj_within_ROI.shape"
   ]
  },
  {
   "cell_type": "code",
   "execution_count": null,
   "metadata": {},
   "outputs": [],
   "source": [
    "data = mean_rsm_corr_within_subj_within_ROI\n",
    "error = stats.sem(mean_rsm_corr_within_subj_within_ROI, axis=0)\n",
    "\n",
    "plt.figure(figsize=(10, 5))\n",
    "xlocations = np.array(range(data.shape[1]))+.1\n",
    "width = 0.5\n",
    "plt.bar(xlocations, np.mean(mean_rsm_corr_within_subj_within_ROI, axis=0), \n",
    "        yerr=error, width=width, color = ['m','r','r','r','y','y','y'], alpha = .6)\n",
    "plt.xticks(xlocations, ROI_names[1:])\n",
    "plt.xlim(-0.5, xlocations[-1]+width)\n",
    "plt.title(\"Average RSM correlation by area\")\n",
    "plt.gca().get_yaxis().tick_left()\n",
    "plt.gca().get_xaxis().tick_bottom()\n",
    "plt.show()"
   ]
  },
  {
   "cell_type": "code",
   "execution_count": null,
   "metadata": {},
   "outputs": [],
   "source": [
    "roi_idx = np.arange(0,len(ROI_names)-1)\n",
    "roi_combs = list(combinations(roi_idx, 2))\n",
    "\n",
    "r1_trial_order = [0, 0, 1, 1, 2, 2]\n",
    "r2_trial_order = [1, 2, 0, 2, 0, 1]\n",
    "\n",
    "print(roi_combs)"
   ]
  },
  {
   "cell_type": "code",
   "execution_count": null,
   "metadata": {},
   "outputs": [],
   "source": [
    "rsm_corr_within_subj_between_ROI = np.zeros((len(subjid),len(list(roi_combs)),6))\n",
    "rsm_corr_w_subj_b_ROI_same_trials = np.zeros((len(subjid),len(list(roi_combs)),3))\n",
    "\n",
    "\n",
    "#within subj & between ROI\n",
    "for sidx, sid in enumerate(subjid):\n",
    "    \n",
    "    c = 0\n",
    "    for comb in roi_combs:\n",
    "        \n",
    "        roi_1 = comb[0]\n",
    "        roi_2 = comb[1]\n",
    "        \n",
    "        for r in range(6):\n",
    "            rsm_corr_within_subj_between_ROI[sidx,c,r] = stats.pearsonr(flat_rsm[sidx,roi_1,:,r1_trial_order[r]],\n",
    "                                                                        flat_rsm[sidx,roi_2,:,r2_trial_order[r]])[0]\n",
    "        \n",
    "        for same in range(3):\n",
    "            rsm_corr_w_subj_b_ROI_same_trials[sidx,c,same] = stats.pearsonr(flat_rsm[sidx,roi_1,:,same],\n",
    "                                                                         flat_rsm[sidx,roi_2,:,same])[0]\n",
    "        \n",
    "        c += 1"
   ]
  },
  {
   "cell_type": "code",
   "execution_count": null,
   "metadata": {},
   "outputs": [],
   "source": [
    "x = np.array(list(map(lambda x: x== (4,5), roi_combs)))\n",
    "comb_idx = np.where(x)[0][0] #get idx for lateral vs ventral combination\n",
    "\n",
    "plt.figure(figsize=(40, 20))\n",
    "\n",
    "for sidx, sid in enumerate(subjid):\n",
    "\n",
    "    plt.subplot(2, 4, sidx+1)\n",
    "        \n",
    "    data = [np.mean(rsm_corr_within_subj_within_ROI[sidx,4,:]), \n",
    "            np.mean(rsm_corr_within_subj_within_ROI[sidx,5,:]),\n",
    "            np.mean(rsm_corr_within_subj_between_ROI[sidx,comb_idx,:])]\n",
    "    \n",
    "    error = [stats.sem(rsm_corr_within_subj_within_ROI[sidx,4,:]), \n",
    "             stats.sem(rsm_corr_within_subj_within_ROI[sidx,5,:]),\n",
    "             stats.sem(rsm_corr_within_subj_between_ROI[sidx,comb_idx,:])]\n",
    "    \n",
    "    \n",
    "    xlocations = np.array(range(3))+.1\n",
    "    width = 0.75\n",
    "    plt.bar(xlocations, data, yerr=error, width=width, alpha = 0.7, color = ['r', 'r', 'b'])\n",
    "        \n",
    "    #plt.hist(avg_corrvals[np.where(rh_streams == r)[0]],bins=50,alpha=0.7, rwidth=1, color = c[r])\n",
    "    \n",
    "    #plt.xlim(-0.1,1)\n",
    "    #plt.xticks([fontsize=20])\n",
    "    plt.xticks(np.arange(0, 3), ['Ventral', 'Lateral', 'V vs. L'], rotation=30, fontsize=35);\n",
    "    \n",
    "    plt.ylim(-0.1,0.4)\n",
    "    plt.yticks(fontsize=30)\n",
    "    \n",
    "    plt.ylabel('RSM correlation',size = 30)\n",
    "    \n",
    "    title_string = \"Subj. \"\n",
    "    title_string += sid\n",
    "    plt.title(title_string,size = 45)\n",
    "    \n",
    "    plt.style.use(\"bmh\")\n",
    "    plt.grid(False)\n",
    "    \n",
    "    plt.tight_layout(pad=5)"
   ]
  },
  {
   "cell_type": "code",
   "execution_count": null,
   "metadata": {},
   "outputs": [],
   "source": [
    "rsm_corr_w_subj_b_ROI_same_trials[:,comb_idx,:]"
   ]
  },
  {
   "cell_type": "code",
   "execution_count": null,
   "metadata": {},
   "outputs": [],
   "source": [
    "rsm_corr_w_subj_b_ROI_same_trials[:,comb_idx,:].shape"
   ]
  },
  {
   "cell_type": "code",
   "execution_count": null,
   "metadata": {},
   "outputs": [],
   "source": [
    "rsm_corr_within_subj_within_ROI[:,4,:]"
   ]
  },
  {
   "cell_type": "code",
   "execution_count": null,
   "metadata": {},
   "outputs": [],
   "source": [
    "rsm_corr_within_subj_within_ROI[:,5,:]"
   ]
  },
  {
   "cell_type": "code",
   "execution_count": null,
   "metadata": {},
   "outputs": [],
   "source": [
    "rsm.shape"
   ]
  },
  {
   "cell_type": "code",
   "execution_count": null,
   "metadata": {},
   "outputs": [],
   "source": [
    "betas_by_repeat_by_ROI[0][0][0].shape[0]"
   ]
  },
  {
   "cell_type": "code",
   "execution_count": null,
   "metadata": {},
   "outputs": [],
   "source": [
    "plt.figure(figsize=(12, 5))\n",
    "for r in range(3):\n",
    "    plt.subplot(1, 3, r+1)\n",
    "    \n",
    "    rsm_disp = rsm[0,4,r,:,:]\n",
    "    plt.imshow(\n",
    "        rsm_disp, \n",
    "        cmap='jet', \n",
    "    )\n",
    "    plt.colorbar()\n",
    "    plt.clim(0,1)"
   ]
  },
  {
   "cell_type": "code",
   "execution_count": null,
   "metadata": {},
   "outputs": [],
   "source": []
  }
 ],
 "metadata": {
  "kernelspec": {
   "display_name": "Python 3",
   "language": "python",
   "name": "python3"
  },
  "language_info": {
   "codemirror_mode": {
    "name": "ipython",
    "version": 3
   },
   "file_extension": ".py",
   "mimetype": "text/x-python",
   "name": "python",
   "nbconvert_exporter": "python",
   "pygments_lexer": "ipython3",
   "version": "3.7.9"
  }
 },
 "nbformat": 4,
 "nbformat_minor": 4
}
