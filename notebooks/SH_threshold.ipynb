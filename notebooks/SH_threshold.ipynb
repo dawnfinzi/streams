{
 "cells": [
  {
   "cell_type": "code",
   "execution_count": 1,
   "metadata": {},
   "outputs": [],
   "source": [
    "%matplotlib inline\n",
    "\n",
    "import matplotlib\n",
    "import matplotlib.pyplot as plt"
   ]
  },
  {
   "cell_type": "code",
   "execution_count": 2,
   "metadata": {},
   "outputs": [],
   "source": [
    "import h5py\n",
    "import numpy as np\n",
    "import scipy as sp\n",
    "import scipy.stats as stats\n",
    "import nibabel as nibabel\n",
    "import pandas as pd\n",
    "import nibabel.freesurfer.mghformat as mgh\n",
    "import scipy.io\n",
    "from itertools import combinations \n"
   ]
  },
  {
   "cell_type": "code",
   "execution_count": 3,
   "metadata": {},
   "outputs": [],
   "source": [
    "data_dir = '../../../data/'\n",
    "local_dir = '../../../local_data/freesurfer/'"
   ]
  },
  {
   "cell_type": "code",
   "execution_count": 4,
   "metadata": {},
   "outputs": [],
   "source": [
    "subjid = ['01', '02', '03', '04', '05', '06', '07', '08']\n",
    "ROI_names = ['Unknown', 'Early', 'Midventral', 'Midlateral', 'Midparietal', 'Ventral', 'Lateral', 'Parietal']\n",
    "n_repeats = 3"
   ]
  },
  {
   "cell_type": "code",
   "execution_count": 5,
   "metadata": {},
   "outputs": [],
   "source": [
    "reliability = []\n",
    "for sidx, sid in enumerate(subjid):\n",
    "    \n",
    "    sh_dir = '../../../local_data/freesurfer/subj' + sid + '/rh_split_half.mat'\n",
    "    sh = scipy.io.loadmat(sh_dir)\n",
    "    \n",
    "    reliability.append(sh['mean'])"
   ]
  },
  {
   "cell_type": "code",
   "execution_count": 6,
   "metadata": {},
   "outputs": [
    {
     "data": {
      "text/plain": [
       "[array([[ 0.08296778,  0.15602   ,  0.16638921, ..., -0.00197444,\n",
       "          0.00946118, -0.00438717]]),\n",
       " array([[0.01330934, 0.01319605, 0.01885947, ..., 0.0116634 , 0.01088442,\n",
       "         0.00911053]]),\n",
       " array([[0.07221462, 0.07480367, 0.09221073, ..., 0.00876003, 0.00621437,\n",
       "         0.01137557]]),\n",
       " array([[0.02645888, 0.02933486, 0.03641784, ..., 0.01105041, 0.00321272,\n",
       "         0.01014825]]),\n",
       " array([[0.07173622, 0.07028862, 0.06334433, ..., 0.01576245, 0.01342667,\n",
       "         0.02555644]]),\n",
       " array([[ 0.15084097,  0.14241943,  0.14715413, ..., -0.00667892,\n",
       "          0.02098664, -0.00076862]]),\n",
       " array([[0.0392299 , 0.04579045, 0.07073367, ..., 0.00340336, 0.00745458,\n",
       "         0.00408894]]),\n",
       " array([[0.1195646 , 0.09954478, 0.08262978, ..., 0.00937776, 0.00667692,\n",
       "         0.01400038]])]"
      ]
     },
     "execution_count": 6,
     "metadata": {},
     "output_type": "execute_result"
    }
   ],
   "source": [
    "reliability"
   ]
  },
  {
   "cell_type": "code",
   "execution_count": 7,
   "metadata": {},
   "outputs": [],
   "source": [
    "rh_streams = []\n",
    "for sidx, sid in enumerate(subjid):\n",
    "    mgh_file = mgh.load(data_dir+'nsddata/freesurfer/subj'+ sid +'/label/rh.streams.mgz')\n",
    "    rh_streams.append(mgh_file.get_fdata()[:,0,0])"
   ]
  },
  {
   "cell_type": "code",
   "execution_count": 8,
   "metadata": {},
   "outputs": [],
   "source": [
    "# let's organize by ROI \n",
    "sh_by_ROI = [[[] for j in range(len(ROI_names)-1)] for i in range(len(subjid))]\n",
    "\n",
    "for sidx, sid in enumerate(subjid):  \n",
    "    for roi_idx in range(len(ROI_names)-1):       \n",
    "        sh_by_ROI[sidx][roi_idx]=reliability[sidx][:,rh_streams[sidx] == roi_idx+1]\n"
   ]
  },
  {
   "cell_type": "code",
   "execution_count": 9,
   "metadata": {},
   "outputs": [
    {
     "name": "stdout",
     "output_type": "stream",
     "text": [
      "8\n",
      "7\n"
     ]
    }
   ],
   "source": [
    "print(len(sh_by_ROI))\n",
    "print(len(sh_by_ROI[0]))"
   ]
  },
  {
   "cell_type": "code",
   "execution_count": 10,
   "metadata": {},
   "outputs": [],
   "source": [
    "sh_means_by_subj_by_ROI = np.zeros((len(subjid),len(ROI_names)-1))\n",
    "for sidx, sid in enumerate(subjid):  \n",
    "    for roi_idx in range(len(ROI_names)-1):       \n",
    "        sh_means_by_subj_by_ROI[sidx,roi_idx] = np.mean(sh_by_ROI[sidx][roi_idx])"
   ]
  },
  {
   "cell_type": "code",
   "execution_count": 11,
   "metadata": {},
   "outputs": [
    {
     "data": {
      "text/plain": [
       "array([0.18755356, 0.18968718, 0.17920933, 0.16097065, 0.11075655,\n",
       "       0.1191075 , 0.11530881])"
      ]
     },
     "execution_count": 11,
     "metadata": {},
     "output_type": "execute_result"
    }
   ],
   "source": [
    "np.mean(sh_means_by_subj_by_ROI,axis=0)"
   ]
  },
  {
   "cell_type": "code",
   "execution_count": 12,
   "metadata": {},
   "outputs": [
    {
     "data": {
      "image/png": "[encoded data removed]",
      "text/plain": [
       "<Figure size 720x360 with 1 Axes>"
      ]
     },
     "metadata": {
      "needs_background": "light"
     },
     "output_type": "display_data"
    }
   ],
   "source": [
    "data = np.mean(sh_means_by_subj_by_ROI,axis=0)\n",
    "error = stats.sem(sh_means_by_subj_by_ROI,axis=0)\n",
    "\n",
    "plt.figure(figsize=(10, 5))\n",
    "xlocations = np.array(range(data.shape[0]))+.1\n",
    "width = 0.5\n",
    "plt.bar(xlocations, data, \n",
    "        yerr=error, width=width, color = ['m','r','r','r','y','y','y'], alpha = .6)\n",
    "plt.xticks(xlocations, ROI_names[1:])\n",
    "plt.xlim(-0.5, xlocations[-1]+width)\n",
    "plt.title(\"Average split-half reliability by area\")\n",
    "plt.gca().get_yaxis().tick_left()\n",
    "plt.gca().get_xaxis().tick_bottom()\n",
    "plt.show()"
   ]
  },
  {
   "cell_type": "code",
   "execution_count": 13,
   "metadata": {},
   "outputs": [],
   "source": [
    "#proportion of total vox with nc > .1\n",
    "thresh = .1\n",
    "sh_prop_by_subj_by_ROI = np.zeros((len(subjid),len(ROI_names)-1))\n",
    "\n",
    "for sidx, sid in enumerate(subjid):  \n",
    "    for roi_idx in range(len(ROI_names)-1): \n",
    "        \n",
    "        total_vox = len(sh_by_ROI[sidx][roi_idx][0])\n",
    "        above_thresh = sum(sh_by_ROI[sidx][roi_idx][0]>thresh)\n",
    "        \n",
    "        sh_prop_by_subj_by_ROI[sidx][roi_idx] = above_thresh/total_vox"
   ]
  },
  {
   "cell_type": "code",
   "execution_count": 14,
   "metadata": {},
   "outputs": [
    {
     "data": {
      "image/png": "[encoded data removed]",
      "text/plain": [
       "<Figure size 720x360 with 1 Axes>"
      ]
     },
     "metadata": {
      "needs_background": "light"
     },
     "output_type": "display_data"
    }
   ],
   "source": [
    "data = np.mean(sh_prop_by_subj_by_ROI,axis=0)\n",
    "error = stats.sem(sh_prop_by_subj_by_ROI,axis=0)\n",
    "\n",
    "plt.figure(figsize=(10, 5))\n",
    "xlocations = np.array(range(data.shape[0]))+.25\n",
    "width = 0.5\n",
    "plt.bar(xlocations, data, \n",
    "        yerr=error, width=width, color = ['m','r','r','r','y','y','y'], alpha = .6)\n",
    "plt.xticks(xlocations, ROI_names[1:])\n",
    "plt.xlim(-0.5, xlocations[-1]+width)\n",
    "plt.title(\"Prop. voxels above .1 split-half reliability by area\")\n",
    "plt.gca().get_yaxis().tick_left()\n",
    "plt.gca().get_xaxis().tick_bottom()\n",
    "plt.show()"
   ]
  },
  {
   "cell_type": "code",
   "execution_count": 15,
   "metadata": {},
   "outputs": [
    {
     "data": {
      "text/plain": [
       "array([0.0320133 , 0.03157351, 0.03905496, 0.08072153, 0.02068682,\n",
       "       0.03768463, 0.06317346])"
      ]
     },
     "execution_count": 15,
     "metadata": {},
     "output_type": "execute_result"
    }
   ],
   "source": [
    "error"
   ]
  },
  {
   "cell_type": "code",
   "execution_count": 16,
   "metadata": {},
   "outputs": [
    {
     "data": {
      "text/plain": [
       "array([0.1, 1.1, 2.1, 3.1, 4.1, 5.1, 6.1])"
      ]
     },
     "execution_count": 16,
     "metadata": {},
     "output_type": "execute_result"
    }
   ],
   "source": [
    "np.array(range(data.shape[0]))+.1"
   ]
  },
  {
   "cell_type": "code",
   "execution_count": 17,
   "metadata": {},
   "outputs": [
    {
     "data": {
      "text/plain": [
       "(7,)"
      ]
     },
     "execution_count": 17,
     "metadata": {},
     "output_type": "execute_result"
    }
   ],
   "source": [
    "data.shape"
   ]
  },
  {
   "cell_type": "code",
   "execution_count": 18,
   "metadata": {},
   "outputs": [
    {
     "data": {
      "text/plain": [
       "7581"
      ]
     },
     "execution_count": 18,
     "metadata": {},
     "output_type": "execute_result"
    }
   ],
   "source": [
    "len(sh_by_ROI[sidx][roi_idx][0])"
   ]
  },
  {
   "cell_type": "code",
   "execution_count": 19,
   "metadata": {},
   "outputs": [
    {
     "data": {
      "text/plain": [
       "2160"
      ]
     },
     "execution_count": 19,
     "metadata": {},
     "output_type": "execute_result"
    }
   ],
   "source": [
    "sum(sh_by_ROI[sidx][roi_idx][0]>.1)"
   ]
  },
  {
   "cell_type": "code",
   "execution_count": 20,
   "metadata": {},
   "outputs": [
    {
     "data": {
      "text/plain": [
       "(array([1.700e+01, 4.950e+02, 2.381e+03, 4.275e+03, 2.864e+03, 1.243e+03,\n",
       "        8.490e+02, 7.070e+02, 6.000e+02, 6.110e+02, 5.940e+02, 5.360e+02,\n",
       "        5.150e+02, 4.920e+02, 3.940e+02, 2.600e+02, 2.490e+02, 1.710e+02,\n",
       "        1.550e+02, 1.290e+02, 1.320e+02, 9.500e+01, 7.700e+01, 7.100e+01,\n",
       "        7.400e+01, 5.900e+01, 5.300e+01, 5.100e+01, 3.900e+01, 4.500e+01,\n",
       "        3.700e+01, 1.500e+01, 3.100e+01, 2.700e+01, 1.600e+01, 1.500e+01,\n",
       "        1.300e+01, 4.000e+00, 6.000e+00, 6.000e+00, 4.000e+00, 5.000e+00,\n",
       "        5.000e+00, 4.000e+00, 2.000e+00, 3.000e+00, 3.000e+00, 2.000e+00,\n",
       "        1.000e+00, 2.000e+00]),\n",
       " array([-2.18753727e-02, -1.08783321e-02,  1.18708489e-04,  1.11157491e-02,\n",
       "         2.21127897e-02,  3.31098303e-02,  4.41068708e-02,  5.51039114e-02,\n",
       "         6.61009520e-02,  7.70979926e-02,  8.80950332e-02,  9.90920738e-02,\n",
       "         1.10089114e-01,  1.21086155e-01,  1.32083196e-01,  1.43080236e-01,\n",
       "         1.54077277e-01,  1.65074317e-01,  1.76071358e-01,  1.87068399e-01,\n",
       "         1.98065439e-01,  2.09062480e-01,  2.20059520e-01,  2.31056561e-01,\n",
       "         2.42053601e-01,  2.53050642e-01,  2.64047683e-01,  2.75044723e-01,\n",
       "         2.86041764e-01,  2.97038804e-01,  3.08035845e-01,  3.19032886e-01,\n",
       "         3.30029926e-01,  3.41026967e-01,  3.52024007e-01,  3.63021048e-01,\n",
       "         3.74018089e-01,  3.85015129e-01,  3.96012170e-01,  4.07009210e-01,\n",
       "         4.18006251e-01,  4.29003291e-01,  4.40000332e-01,  4.50997373e-01,\n",
       "         4.61994413e-01,  4.72991454e-01,  4.83988494e-01,  4.94985535e-01,\n",
       "         5.05982576e-01,  5.16979616e-01,  5.27976657e-01]),\n",
       " <a list of 50 Patch objects>)"
      ]
     },
     "execution_count": 20,
     "metadata": {},
     "output_type": "execute_result"
    },
    {
     "data": {
      "image/png": "[encoded data removed]",
      "text/plain": [
       "<Figure size 432x288 with 1 Axes>"
      ]
     },
     "metadata": {
      "needs_background": "light"
     },
     "output_type": "display_data"
    }
   ],
   "source": [
    "plt.hist(sh_by_ROI[sidx][5][0],bins=50)"
   ]
  },
  {
   "cell_type": "code",
   "execution_count": null,
   "metadata": {},
   "outputs": [],
   "source": []
  }
 ],
 "metadata": {
  "kernelspec": {
   "display_name": "Python 3",
   "language": "python",
   "name": "python3"
  },
  "language_info": {
   "codemirror_mode": {
    "name": "ipython",
    "version": 3
   },
   "file_extension": ".py",
   "mimetype": "text/x-python",
   "name": "python",
   "nbconvert_exporter": "python",
   "pygments_lexer": "ipython3",
   "version": "3.7.9"
  }
 },
 "nbformat": 4,
 "nbformat_minor": 4
}
