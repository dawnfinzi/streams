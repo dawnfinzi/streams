{
 "cells": [
  {
   "cell_type": "code",
   "execution_count": 1,
   "metadata": {},
   "outputs": [],
   "source": [
    "%matplotlib inline\n",
    "\n",
    "import matplotlib\n",
    "import matplotlib.pyplot as plt"
   ]
  },
  {
   "cell_type": "code",
   "execution_count": 2,
   "metadata": {},
   "outputs": [],
   "source": [
    "import h5py\n",
    "import numpy as np\n",
    "import scipy as sp\n",
    "import scipy.stats as stats\n",
    "import nibabel as nibabel\n",
    "import pandas as pd\n",
    "import nibabel.freesurfer.mghformat as mgh\n",
    "import scipy.io"
   ]
  },
  {
   "cell_type": "code",
   "execution_count": 3,
   "metadata": {},
   "outputs": [],
   "source": [
    "data_dir = '../../../data/'"
   ]
  },
  {
   "cell_type": "code",
   "execution_count": 4,
   "metadata": {},
   "outputs": [],
   "source": [
    "subjid = ['01', '02', '03', '04', '05', '06', '07', '08']\n",
    "ROI_names = ['Unknown', 'Early', 'Midventral', 'Midlateral', 'Midparietal', 'Ventral', 'Lateral', 'Parietal']"
   ]
  },
  {
   "cell_type": "code",
   "execution_count": 5,
   "metadata": {},
   "outputs": [],
   "source": [
    "expdesign = scipy.io.loadmat(data_dir+'nsddata/experiments/nsd/nsd_expdesign.mat')\n",
    "sharedix = expdesign['sharedix']\n",
    "\n",
    "all_ids = []\n",
    "shared_mask = []\n",
    "shared_id_nums = []\n",
    "max_session = np.zeros(len(subjid))\n",
    "for sidx, sid in enumerate(subjid):\n",
    "    \n",
    "    data = pd.read_csv('../../../data/nsddata/ppdata/subj'+ sid +'/behav/responses.tsv', sep='\\t')\n",
    "    \n",
    "    max_session[sidx] = np.max(np.array(data['SESSION'])) \n",
    "    \n",
    "    all_ids.append(np.array(data['73KID']))\n",
    "    \n",
    "    shared_mask.append(np.isin(all_ids[sidx],sharedix))\n",
    "    shared_id_nums.append(np.array(data['73KID'])[shared_mask[sidx]])"
   ]
  },
  {
   "cell_type": "code",
   "execution_count": 6,
   "metadata": {},
   "outputs": [],
   "source": [
    "shared_3_reps = []\n",
    "for sidx, sid in enumerate(subjid):\n",
    "    vals, idx_start, count = np.unique(shared_id_nums[sidx], return_counts=True,\n",
    "                                    return_index=True)\n",
    "    shared_3_reps.append(vals[count == 3])\n",
    "    \n",
    "least_trials = min(shared_3_reps, key=len)\n"
   ]
  },
  {
   "cell_type": "code",
   "execution_count": 7,
   "metadata": {
    "scrolled": true
   },
   "outputs": [],
   "source": [
    "#okay let's find the shared id numbers again, but this time for the set of images \n",
    "#that was actually shown 3 times to each subject\n",
    "\n",
    "shared_id_nums_3reps = []\n",
    "shared_mask_3reps = []\n",
    "for sidx, sid in enumerate(subjid):\n",
    "    \n",
    "    data = pd.read_csv('../../../data/nsddata/ppdata/subj'+ sid +'/behav/responses.tsv', sep='\\t')\n",
    "    \n",
    "    shared_mask_3reps.append(np.isin(all_ids[sidx],least_trials))\n",
    "    \n",
    "    shared_id_nums_3reps.append(np.array(data['73KID'])[shared_mask_3reps[sidx]])\n",
    "    \n",
    "#these id numbers are actually the same for each subject \n",
    "#(subjs were purposefully shown shared images at same trial nums)\n",
    "#but b/c lengths are diff just kept it like this for ease"
   ]
  },
  {
   "cell_type": "code",
   "execution_count": 8,
   "metadata": {},
   "outputs": [
    {
     "name": "stdout",
     "output_type": "stream",
     "text": [
      "01\n",
      "02\n",
      "03\n",
      "04\n",
      "05\n",
      "06\n",
      "07\n",
      "08\n"
     ]
    }
   ],
   "source": [
    "shared_betas_3reps = []\n",
    "for sidx, sid in enumerate(subjid):\n",
    "    \n",
    "    print(sid)\n",
    "    mask = shared_mask_3reps[sidx]\n",
    "    \n",
    "    for sess in range(1,int(max_session[sidx])+1):\n",
    "        \n",
    "        if(sess < 10):\n",
    "            idx = '0' + str(sess)\n",
    "        else:\n",
    "            idx = str(sess)\n",
    "\n",
    "        raw_betas = h5py.File(data_dir+'nsddata_betas/ppdata/subj'+ sid +'/nativesurface/betas_fithrf_GLMdenoise_RR/rh.betas_session'+idx+'.hdf5', 'r')\n",
    "        betas = raw_betas['betas'][:]/300\n",
    "        \n",
    "        sess_shared_betas = betas[mask[(sess-1)*750:sess*750]]\n",
    "\n",
    "        if(sess==1):\n",
    "            subj_shared_betas = sess_shared_betas\n",
    "        else:\n",
    "            subj_shared_betas = np.concatenate((subj_shared_betas, sess_shared_betas))\n",
    "    \n",
    "    shared_betas_3reps.append(subj_shared_betas)"
   ]
  },
  {
   "cell_type": "code",
   "execution_count": 9,
   "metadata": {},
   "outputs": [],
   "source": [
    "rh_streams = []\n",
    "for sidx, sid in enumerate(subjid):\n",
    "    mgh_file = mgh.load(data_dir+'nsddata/freesurfer/subj'+ sid +'/label/rh.streams.mgz')\n",
    "    rh_streams.append(mgh_file.get_fdata()[:,0,0])"
   ]
  },
  {
   "cell_type": "code",
   "execution_count": 10,
   "metadata": {},
   "outputs": [],
   "source": [
    "sorted_shared_betas = []\n",
    "for sidx, sid in enumerate(subjid):\n",
    "    arr1inds = shared_id_nums_3reps[sidx].argsort()\n",
    "    sorted_shared_betas.append(shared_betas_3reps[sidx][arr1inds[::-1]])"
   ]
  },
  {
   "cell_type": "code",
   "execution_count": 11,
   "metadata": {},
   "outputs": [],
   "source": [
    "del shared_betas_3reps #to help with memory probs"
   ]
  },
  {
   "cell_type": "code",
   "execution_count": 12,
   "metadata": {},
   "outputs": [
    {
     "data": {
      "text/plain": [
       "(515, 226601)"
      ]
     },
     "execution_count": 12,
     "metadata": {},
     "output_type": "execute_result"
    }
   ],
   "source": [
    "sorted_shared_betas[0][0::3].shape"
   ]
  },
  {
   "cell_type": "code",
   "execution_count": 13,
   "metadata": {},
   "outputs": [],
   "source": [
    "betas_by_repeat = [[] for _ in range(len(subjid))]\n",
    "for sidx, sid in enumerate(subjid):\n",
    "    for r in range(3):\n",
    "        betas_by_repeat[sidx].insert(r,sorted_shared_betas[sidx][r::3])"
   ]
  },
  {
   "cell_type": "code",
   "execution_count": 14,
   "metadata": {},
   "outputs": [
    {
     "data": {
      "text/plain": [
       "(515, 226601)"
      ]
     },
     "execution_count": 14,
     "metadata": {},
     "output_type": "execute_result"
    }
   ],
   "source": [
    "betas_by_repeat[0][0].shape #subj 01, first stim presentation - images x voxels"
   ]
  },
  {
   "cell_type": "code",
   "execution_count": 15,
   "metadata": {},
   "outputs": [
    {
     "data": {
      "text/plain": [
       "(515, 9)"
      ]
     },
     "execution_count": 15,
     "metadata": {},
     "output_type": "execute_result"
    }
   ],
   "source": [
    "betas_by_repeat[0][0][:,1:10].shape"
   ]
  },
  {
   "cell_type": "code",
   "execution_count": 16,
   "metadata": {},
   "outputs": [],
   "source": [
    "#3 possible combos (trial 1 vs mean 2 & 3; trial 2 vs mean 1 & 3; trial 3 vs mean 1 & 2)\n",
    "\n",
    "repeat_mean = [[] for _ in range(len(subjid))]\n",
    "\n",
    "for sidx, sid in enumerate(subjid):\n",
    "    \n",
    "    repeat_mean[sidx].insert(0,np.mean([betas_by_repeat[sidx][1],betas_by_repeat[sidx][2]],\n",
    "                                       axis=0)) #mean 2 & 3\n",
    "    repeat_mean[sidx].insert(1,np.mean([betas_by_repeat[sidx][0],betas_by_repeat[sidx][2]],\n",
    "                                       axis=0)) #mean 1 & 3\n",
    "    repeat_mean[sidx].insert(2,np.mean([betas_by_repeat[sidx][0],betas_by_repeat[sidx][1]],\n",
    "                                       axis=0)) #mean 1 & 2"
   ]
  },
  {
   "cell_type": "code",
   "execution_count": 17,
   "metadata": {},
   "outputs": [],
   "source": [
    "# let's organize by ROI and get rid of vox outside of our ROIs to save space\n",
    "betas_by_repeat_by_ROI = [[[] for j in range(len(ROI_names)-1)] for i in range(len(subjid))]\n",
    "repeat_mean_by_ROI = [[[] for j in range(len(ROI_names)-1)] for i in range(len(subjid))]\n",
    "\n",
    "#two loops because otherwise we run out of mems\n",
    "for sidx, sid in enumerate(subjid):  \n",
    "    for roi_idx in range(len(ROI_names)-1):       \n",
    "        for r in range(3):       \n",
    "            betas_by_repeat_by_ROI[sidx][roi_idx].insert(r,betas_by_repeat[sidx][r][:,rh_streams[sidx] == roi_idx+1])\n",
    "\n",
    "del betas_by_repeat\n",
    "\n",
    "for sidx, sid in enumerate(subjid):    \n",
    "    for roi_idx in range(len(ROI_names)-1):           \n",
    "        for r in range(3):           \n",
    "            repeat_mean_by_ROI[sidx][roi_idx].insert(r,repeat_mean[sidx][r][:,rh_streams[sidx] == roi_idx+1])\n",
    "\n",
    "del repeat_mean"
   ]
  },
  {
   "cell_type": "code",
   "execution_count": 19,
   "metadata": {},
   "outputs": [
    {
     "data": {
      "text/plain": [
       "(515, 13399)"
      ]
     },
     "execution_count": 19,
     "metadata": {},
     "output_type": "execute_result"
    }
   ],
   "source": [
    "betas_by_repeat_by_ROI[0][0][2].shape"
   ]
  },
  {
   "cell_type": "markdown",
   "metadata": {},
   "source": [
    "## RSMS"
   ]
  },
  {
   "cell_type": "code",
   "execution_count": 20,
   "metadata": {},
   "outputs": [],
   "source": [
    "#TO DO: PUT THIS IN UTILS\n",
    "\n",
    "# credit to https://stackoverflow.com/questions/30143417/computing-the-correlation-coefficient-between-two-multi-dimensional-arrays\n",
    "def corr2_coeff(A, B):\n",
    "    # Rowwise mean of input arrays & subtract from input arrays themeselves\n",
    "    A_mA = A - A.mean(1)[:, None]\n",
    "    B_mB = B - B.mean(1)[:, None]\n",
    "\n",
    "    # Sum of squares across rows\n",
    "    ssA = (A_mA**2).sum(1)\n",
    "    ssB = (B_mB**2).sum(1)\n",
    "\n",
    "    # Finally get corr coeff\n",
    "    return np.dot(A_mA, B_mB.T) / np.sqrt(np.dot(ssA[:, None],ssB[None]))\n",
    "\n",
    "### THIS IS ACTUALLY EQUIVALENT TO (TESTED) \n",
    "#full = np.corrcoef(x,y)\n",
    "#full[:1000,1000:]"
   ]
  },
  {
   "cell_type": "code",
   "execution_count": 23,
   "metadata": {},
   "outputs": [],
   "source": [
    "#Create RSMS\n",
    "\n",
    "flat_rsm = np.zeros((len(subjid),len(ROI_names)-1, (betas_by_repeat_by_ROI[0][0][0].shape[0])**2,3))\n",
    "\n",
    "for sidx, sid in enumerate(subjid):\n",
    "    \n",
    "    for roi_idx in range(len(ROI_names)-1):\n",
    "\n",
    "        for r in range(3):\n",
    "\n",
    "            rsm = corr2_coeff(betas_by_repeat_by_ROI[sidx][roi_idx][r], repeat_mean_by_ROI[sidx][roi_idx][r])\n",
    "\n",
    "            lower = np.tril(rsm, -1).T.ravel()\n",
    "            diag = np.diag(rsm)\n",
    "            upper = np.triu(rsm, 1).T.ravel()\n",
    "\n",
    "            flat_rsm[sidx, roi_idx, :,r] = np.concatenate([lower[lower != 0], diag, upper[upper != 0]])\n"
   ]
  },
  {
   "cell_type": "code",
   "execution_count": 24,
   "metadata": {},
   "outputs": [
    {
     "data": {
      "text/plain": [
       "(8, 7, 265225, 3)"
      ]
     },
     "execution_count": 24,
     "metadata": {},
     "output_type": "execute_result"
    }
   ],
   "source": [
    "flat_rsm.shape #subj x ROI x flattened rsm vals x combo"
   ]
  },
  {
   "cell_type": "code",
   "execution_count": 26,
   "metadata": {},
   "outputs": [],
   "source": [
    "rsm_corr_within_subj_within_ROI = np.zeros((len(subjid),len(ROI_names)-1,3))\n",
    "\n",
    "#within subj & ROI\n",
    "for sidx, sid in enumerate(subjid):\n",
    "    for roi_idx in range(len(ROI_names)-1):\n",
    "\n",
    "        rsm_corr = [stats.pearsonr(flat_rsm[sidx,roi_idx,:,0],flat_rsm[sidx,roi_idx,:,1])[0],\n",
    "                    stats.pearsonr(flat_rsm[sidx,roi_idx,:,0],flat_rsm[sidx,roi_idx,:,2])[0],\n",
    "                    stats.pearsonr(flat_rsm[sidx,roi_idx,:,1],flat_rsm[sidx,roi_idx,:,2])[0]]\n",
    "\n",
    "        rsm_corr_within_subj_within_ROI[sidx,roi_idx,:] = rsm_corr"
   ]
  },
  {
   "cell_type": "code",
   "execution_count": 32,
   "metadata": {},
   "outputs": [],
   "source": [
    "mean_rsm_corr_within_subj_within_ROI = np.mean(rsm_corr_within_subj_within_ROI,axis=2) #mean across repeats"
   ]
  },
  {
   "cell_type": "code",
   "execution_count": 33,
   "metadata": {},
   "outputs": [
    {
     "data": {
      "text/plain": [
       "(8, 7)"
      ]
     },
     "execution_count": 33,
     "metadata": {},
     "output_type": "execute_result"
    }
   ],
   "source": [
    "mean_rsm_corr_within_subj_within_ROI.shape"
   ]
  },
  {
   "cell_type": "code",
   "execution_count": 35,
   "metadata": {},
   "outputs": [
    {
     "data": {
      "text/plain": [
       "7"
      ]
     },
     "execution_count": 35,
     "metadata": {},
     "output_type": "execute_result"
    }
   ],
   "source": [
    "len(np.mean(mean_rsm_corr_within_subj_within_ROI, axis=0))"
   ]
  },
  {
   "cell_type": "code",
   "execution_count": 53,
   "metadata": {},
   "outputs": [
    {
     "data": {
      "image/png": "[encoded data removed]",
      "text/plain": [
       "<Figure size 720x360 with 1 Axes>"
      ]
     },
     "metadata": {
      "needs_background": "light"
     },
     "output_type": "display_data"
    }
   ],
   "source": [
    "data = mean_rsm_corr_within_subj_within_ROI\n",
    "error = stats.sem(mean_rsm_corr_within_subj_within_ROI, axis=0)\n",
    "\n",
    "plt.figure(figsize=(10, 5))\n",
    "xlocations = np.array(range(data.shape[1]))+.1\n",
    "width = 0.5\n",
    "plt.bar(xlocations, np.mean(mean_rsm_corr_within_subj_within_ROI, axis=0), \n",
    "        yerr=error, width=width, color = ['m','r','r','r','y','y','y'], alpha = .6)\n",
    "plt.xticks(xlocations, ROI_names[1:])\n",
    "plt.xlim(-0.5, xlocations[-1]+width)\n",
    "plt.title(\"Average RSM correlation by area\")\n",
    "plt.gca().get_yaxis().tick_left()\n",
    "plt.gca().get_xaxis().tick_bottom()\n",
    "plt.show()"
   ]
  },
  {
   "cell_type": "code",
   "execution_count": null,
   "metadata": {},
   "outputs": [],
   "source": [
    "#within\n",
    "for sidx, sid in enumerate(subjid):\n",
    "    print(sid)\n",
    "    print(stats.pearsonr(flat_rsm_VENTRAL[sidx,:,0],flat_rsm_VENTRAL[sidx,:,1])[0])\n",
    "    print(stats.pearsonr(flat_rsm_VENTRAL[sidx,:,0],flat_rsm_VENTRAL[sidx,:,2])[0])\n",
    "    print(stats.pearsonr(flat_rsm_VENTRAL[sidx,:,1],flat_rsm_VENTRAL[sidx,:,2])[0])"
   ]
  },
  {
   "cell_type": "code",
   "execution_count": null,
   "metadata": {},
   "outputs": [],
   "source": [
    "#within\n",
    "for sidx, sid in enumerate(subjid):\n",
    "    print(sid)\n",
    "    print(stats.pearsonr(flat_rsm_LATERAL[sidx,:,0],flat_rsm_LATERAL[sidx,:,1])[0])\n",
    "    print(stats.pearsonr(flat_rsm_LATERAL[sidx,:,0],flat_rsm_LATERAL[sidx,:,2])[0])\n",
    "    print(stats.pearsonr(flat_rsm_LATERAL[sidx,:,1],flat_rsm_LATERAL[sidx,:,2])[0])"
   ]
  },
  {
   "cell_type": "code",
   "execution_count": null,
   "metadata": {},
   "outputs": [],
   "source": [
    "for sidx, sid in enumerate(subjid):\n",
    "    print(sid)\n",
    "    alt_combos = [stats.pearsonr(flat_rsm_LATERAL[sidx,:,0],flat_rsm_VENTRAL[sidx,:,1])[0],\n",
    "              stats.pearsonr(flat_rsm_LATERAL[sidx,:,0],flat_rsm_VENTRAL[sidx,:,2])[0],\n",
    "              stats.pearsonr(flat_rsm_LATERAL[sidx,:,1],flat_rsm_VENTRAL[sidx,:,0])[0],\n",
    "              stats.pearsonr(flat_rsm_LATERAL[sidx,:,1],flat_rsm_VENTRAL[sidx,:,2])[0],\n",
    "              stats.pearsonr(flat_rsm_LATERAL[sidx,:,2],flat_rsm_VENTRAL[sidx,:,0])[0],\n",
    "              stats.pearsonr(flat_rsm_LATERAL[sidx,:,2],flat_rsm_VENTRAL[sidx,:,1])[0]]\n",
    "    \n",
    "    same_pres = [stats.pearsonr(flat_rsm_LATERAL[sidx,:,0],flat_rsm_VENTRAL[sidx,:,0])[0],\n",
    "                stats.pearsonr(flat_rsm_LATERAL[sidx,:,1],flat_rsm_VENTRAL[sidx,:,1])[0],\n",
    "                stats.pearsonr(flat_rsm_LATERAL[sidx,:,2],flat_rsm_VENTRAL[sidx,:,2])[0]]\n",
    "    \n",
    "    print(np.mean(alt_combos))\n",
    "    print(np.mean(same_pres))"
   ]
  },
  {
   "cell_type": "code",
   "execution_count": null,
   "metadata": {},
   "outputs": [],
   "source": []
  }
 ],
 "metadata": {
  "kernelspec": {
   "display_name": "Python 3",
   "language": "python",
   "name": "python3"
  },
  "language_info": {
   "codemirror_mode": {
    "name": "ipython",
    "version": 3
   },
   "file_extension": ".py",
   "mimetype": "text/x-python",
   "name": "python",
   "nbconvert_exporter": "python",
   "pygments_lexer": "ipython3",
   "version": "3.7.9"
  }
 },
 "nbformat": 4,
 "nbformat_minor": 4
}
