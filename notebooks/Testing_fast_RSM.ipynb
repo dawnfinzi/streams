{
 "cells": [
  {
   "cell_type": "code",
   "execution_count": 1,
   "metadata": {},
   "outputs": [],
   "source": [
    "#import packages\n",
    "import argparse\n",
    "import pandas as pd\n",
    "import h5py\n",
    "import numpy as np\n",
    "import scipy as sp\n",
    "import scipy.stats as stats\n",
    "import scipy.io\n",
    "import nibabel.freesurfer.mghformat as mgh\n",
    "import scipy.io\n",
    "import itertools \n",
    "import pickle\n",
    "import sys\n",
    "\n",
    "utils_dir = '/oak/stanford/groups/kalanit/biac2/kgs/projects/Dawn/NSD/code/streams/utils/'\n",
    "sys.path.append(utils_dir)\n",
    "\n",
    "from rsm_utils import get_flat_lower_tri, get_reliability_data \n",
    "\n",
    "data_dir = '/oak/stanford/groups/kalanit/biac2/kgs/projects/Dawn/NSD/data/'\n",
    "local_data_dir = '/oak/stanford/groups/kalanit/biac2/kgs/projects/Dawn/NSD/local_data/'\n"
   ]
  },
  {
   "cell_type": "code",
   "execution_count": 2,
   "metadata": {},
   "outputs": [],
   "source": [
    "def vcorrcoef(X,y):\n",
    "    Xm = np.reshape(np.mean(X,axis=1),(X.shape[0],1))\n",
    "    ym = np.mean(y)\n",
    "    r_num = np.sum((X-Xm)*(y-ym),axis=1)\n",
    "    r_den = np.sqrt(np.sum((X-Xm)**2,axis=1)*np.sum((y-ym)**2))\n",
    "    r = r_num/r_den\n",
    "    return r"
   ]
  },
  {
   "cell_type": "code",
   "execution_count": 3,
   "metadata": {},
   "outputs": [],
   "source": [
    "subjid = '06'\n",
    "hemi = 'rh'\n",
    "roi_name = 'tessellate_300'"
   ]
  },
  {
   "cell_type": "code",
   "execution_count": 4,
   "metadata": {},
   "outputs": [],
   "source": [
    "n_repeats = 3\n",
    "\n",
    "#get ROI data\n",
    "parcels = []\n",
    "mgh_file = mgh.load(local_data_dir+'freesurfer/subj'+ subjid +'/' + hemi + '.' + roi_name + '.mgz')\n",
    "parcels.append(mgh_file.get_fdata()[:,0,0])\n",
    "\n",
    "num_rois = int(np.max(parcels))\n",
    "\n",
    "#get trial ids and mask        \n",
    "all_ids = []\n",
    "max_session = np.zeros(len([subjid]))\n",
    "for sidx, sid in enumerate([subjid]):\n",
    "\n",
    "    data = pd.read_csv(data_dir+'nsddata/ppdata/subj'+ sid +'/behav/responses.tsv', sep='\\t')\n",
    "\n",
    "    max_session[sidx] = np.max(np.array(data['SESSION'])) \n",
    "\n",
    "    all_ids.append(np.array(data['73KID']))\n",
    "\n",
    "which_reps = []\n",
    "for sidx, sid in enumerate([subjid]):\n",
    "    vals, idx_start, count = np.unique(all_ids[sidx], return_counts=True,\n",
    "                                    return_index=True)\n",
    "    which_reps.append(vals[count == n_repeats])\n",
    "\n",
    "least_trials = min(which_reps, key=len)\n",
    "\n",
    "id_nums_3reps = []\n",
    "mask_3reps = []\n",
    "for sidx, sid in enumerate([subjid]):\n",
    "\n",
    "    data = pd.read_csv(data_dir+'nsddata/ppdata/subj'+ sid +'/behav/responses.tsv', sep='\\t')\n",
    "\n",
    "    mask_3reps.append(np.isin(all_ids[sidx],which_reps[sidx]))\n",
    "    id_nums_3reps.append(np.array(data['73KID'])[mask_3reps[sidx]])\n",
    "\n",
    "arr1inds = id_nums_3reps[sidx].argsort()\n",
    "\n",
    "#get and sort z-scored betas\n",
    "betas_by_ROI = [[] for j in range(num_rois)]"
   ]
  },
  {
   "cell_type": "code",
   "execution_count": 5,
   "metadata": {},
   "outputs": [
    {
     "name": "stdout",
     "output_type": "stream",
     "text": [
      "1\n",
      "2\n",
      "3\n",
      "4\n",
      "5\n",
      "6\n",
      "7\n",
      "8\n",
      "9\n",
      "10\n",
      "11\n",
      "12\n",
      "13\n",
      "14\n",
      "15\n",
      "16\n",
      "17\n",
      "18\n",
      "19\n",
      "20\n",
      "21\n",
      "22\n",
      "23\n",
      "24\n",
      "25\n",
      "26\n",
      "27\n",
      "28\n",
      "29\n",
      "30\n",
      "31\n",
      "32\n"
     ]
    }
   ],
   "source": [
    "for sidx, sid in enumerate([subjid]):\n",
    "        \n",
    "    mask = mask_3reps[sidx]\n",
    "    sorted_betas = []\n",
    "\n",
    "    #get all betas across all sessions\n",
    "    for sess in range(1,int(max_session[sidx])+1):\n",
    "        print(sess)\n",
    "\n",
    "        if(sess < 10):\n",
    "            idx = '0' + str(sess)\n",
    "        else:\n",
    "            idx = str(sess)\n",
    "\n",
    "        raw_betas = h5py.File(local_data_dir+'freesurfer/subj'+sid+'/betas/'+ hemi +'.zscore_betas_session'+idx+'.hdf5','r')\n",
    "\n",
    "        sess_betas = raw_betas['zscore_betas'][:][mask[(sess-1)*750:sess*750]]\n",
    "        del raw_betas\n",
    "\n",
    "        if(sess==1):\n",
    "            for roi_idx in range(num_rois):\n",
    "                betas_by_ROI[roi_idx] = sess_betas[:,parcels[sidx] == roi_idx+1]\n",
    "        else:\n",
    "            for roi_idx in range(num_rois):\n",
    "                betas_by_ROI[roi_idx] = np.append(betas_by_ROI[roi_idx],sess_betas[:,parcels[sidx] == roi_idx+1],axis=0)\n",
    "\n",
    "        del sess_betas"
   ]
  },
  {
   "cell_type": "code",
   "execution_count": 6,
   "metadata": {},
   "outputs": [],
   "source": [
    "betas_by_repeat_by_ROI = [[[] for j in range(num_rois)] for i in range(len([subjid]))]\n",
    "for sidx, sid in enumerate([subjid]):\n",
    "    for roi_idx in range(num_rois):  \n",
    "\n",
    "        sorted_betas = betas_by_ROI[roi_idx][arr1inds[::-1]]\n",
    "\n",
    "        for r in range(n_repeats):\n",
    "            betas_by_repeat_by_ROI[sidx][roi_idx].insert(r,sorted_betas[r::3])"
   ]
  },
  {
   "cell_type": "code",
   "execution_count": 7,
   "metadata": {},
   "outputs": [],
   "source": [
    "del betas_by_ROI"
   ]
  },
  {
   "cell_type": "code",
   "execution_count": 9,
   "metadata": {},
   "outputs": [],
   "source": [
    "num_rois = 15 #for testing"
   ]
  },
  {
   "cell_type": "code",
   "execution_count": 42,
   "metadata": {},
   "outputs": [
    {
     "name": "stdout",
     "output_type": "stream",
     "text": [
      "0\n",
      "1\n",
      "2\n",
      "0\n",
      "1\n",
      "2\n",
      "0\n",
      "1\n",
      "2\n",
      "0\n",
      "1\n",
      "2\n",
      "0\n",
      "1\n",
      "2\n",
      "0\n",
      "1\n",
      "2\n",
      "0\n",
      "1\n",
      "2\n",
      "0\n",
      "1\n",
      "2\n",
      "0\n",
      "1\n",
      "2\n",
      "0\n",
      "1\n",
      "2\n",
      "0\n",
      "1\n",
      "2\n",
      "0\n",
      "1\n",
      "2\n",
      "0\n",
      "1\n",
      "2\n",
      "0\n",
      "1\n",
      "2\n",
      "0\n",
      "1\n",
      "2\n"
     ]
    }
   ],
   "source": [
    "#Create RSMS for all the ROIs, repeats and subjects\n",
    "tril_flat_shape = int((betas_by_repeat_by_ROI[0][0][0].shape[0]**2/2) - (betas_by_repeat_by_ROI[0][0][0].shape[0]/2))\n",
    "flat_rsm0 = np.zeros((num_rois, tril_flat_shape))\n",
    "flat_rsm1 = np.zeros((num_rois, tril_flat_shape))\n",
    "flat_rsm2 = np.zeros((num_rois, tril_flat_shape))\n",
    "\n",
    "sidx = 0 #currently doing one subject at a time\n",
    "for roi_idx in range(num_rois):\n",
    "    for r in range(n_repeats):\n",
    "        rsm = np.corrcoef(betas_by_repeat_by_ROI[sidx][roi_idx][r])\n",
    "        if r == 0:        \n",
    "            flat_rsm0[roi_idx, :] = get_flat_lower_tri(rsm,diagonal=False)\n",
    "        elif r == 1:\n",
    "            flat_rsm1[roi_idx, :] = get_flat_lower_tri(rsm,diagonal=False)\n",
    "        elif r == 2:\n",
    "            flat_rsm2[roi_idx, :] = get_flat_lower_tri(rsm,diagonal=False)\n",
    "            \n",
    "r1_trial_order = [0, 0, 1, 1, 2, 2]\n",
    "r2_trial_order = [1, 2, 0, 2, 0, 1]"
   ]
  },
  {
   "cell_type": "code",
   "execution_count": 43,
   "metadata": {},
   "outputs": [],
   "source": [
    "# get NC for each ROI\n",
    "NC = np.zeros((num_rois))\n",
    "for ridx in range(num_rois):\n",
    "    split_half = np.zeros((3))\n",
    "    split_half = [stats.pearsonr(flat_rsm0[ridx,:],flat_rsm1[ridx,:])[0],\n",
    "                stats.pearsonr(flat_rsm0[ridx,:],flat_rsm2[ridx,:])[0],\n",
    "                stats.pearsonr(flat_rsm1[ridx,:],flat_rsm2[ridx,:])[0]]\n",
    "    NC[ridx] = np.mean(split_half) * 100"
   ]
  },
  {
   "cell_type": "code",
   "execution_count": 44,
   "metadata": {},
   "outputs": [],
   "source": [
    "roi_idx1 = 1\n",
    "y = flat_rsm1[roi_idx1,:] # 1 x k\n",
    "X = flat_rsm2 # N x k"
   ]
  },
  {
   "cell_type": "code",
   "execution_count": 50,
   "metadata": {},
   "outputs": [
    {
     "data": {
      "text/plain": [
       "array([0.39446071, 0.86874811, 0.26051064, 0.54842676, 0.46707846,\n",
       "       0.14025861, 0.33491857, 0.18437761, 0.36558708, 0.14414396,\n",
       "       0.25078876, 0.27746219, 0.14799633, 0.30996067, 0.25932387])"
      ]
     },
     "execution_count": 50,
     "metadata": {},
     "output_type": "execute_result"
    }
   ],
   "source": [
    "row * np.sqrt(100/NC[roi_idx]) * np.sqrt(100/NC)"
   ]
  },
  {
   "cell_type": "code",
   "execution_count": 23,
   "metadata": {},
   "outputs": [
    {
     "data": {
      "text/plain": [
       "0.8650302397575693"
      ]
     },
     "execution_count": 23,
     "metadata": {},
     "output_type": "execute_result"
    }
   ],
   "source": [
    "row[0] * np.sqrt(100/NC[0]) * np.sqrt(100/NC[0]) "
   ]
  },
  {
   "cell_type": "code",
   "execution_count": 68,
   "metadata": {},
   "outputs": [
    {
     "name": "stdout",
     "output_type": "stream",
     "text": [
      "starting mega matrix\n"
     ]
    }
   ],
   "source": [
    "print('starting mega matrix')\n",
    "#make the mega matrix!\n",
    "mega_matrix = np.zeros((num_rois,num_rois))\n",
    "\n",
    "for roi_idx1 in range(num_rois): #rows - i.e. model candidate\n",
    "    \n",
    "    row = np.zeros((6,num_rois))\n",
    "    for r in range(6): #loop through combos\n",
    "        \n",
    "        if r == 0:\n",
    "            y = flat_rsm0[roi_idx1,:] # 1 x k\n",
    "            X = flat_rsm1 # N x k\n",
    "        elif r == 1:\n",
    "            y = flat_rsm0[roi_idx1,:] # 1 x k\n",
    "            X = flat_rsm2 # N x k\n",
    "        elif r == 2:\n",
    "            y = flat_rsm1[roi_idx1,:] # 1 x k\n",
    "            X = flat_rsm0 # N x k\n",
    "        elif r == 3:\n",
    "            y = flat_rsm1[roi_idx1,:] # 1 x k\n",
    "            X = flat_rsm2 # N x k\n",
    "        elif r == 4:\n",
    "            y = flat_rsm2[roi_idx1,:] # 1 x k\n",
    "            X = flat_rsm0 # N x k\n",
    "        elif r == 5:\n",
    "            y = flat_rsm2[roi_idx1,:] # 1 x k\n",
    "            X = flat_rsm1 # N x k\n",
    "        \n",
    "        row[r,:] = vcorrcoef(X,y)\n",
    "    \n",
    "    mega_matrix[roi_idx1,:] = np.mean(row, axis = 0) * np.sqrt(100/NC[roi_idx1]) * np.sqrt(100/NC)\n"
   ]
  },
  {
   "cell_type": "code",
   "execution_count": 55,
   "metadata": {},
   "outputs": [],
   "source": [
    "%matplotlib inline\n",
    "\n",
    "import matplotlib\n",
    "import matplotlib.pyplot as plt"
   ]
  },
  {
   "cell_type": "code",
   "execution_count": 69,
   "metadata": {},
   "outputs": [
    {
     "data": {
      "text/plain": [
       "<matplotlib.image.AxesImage at 0x7f9b563af9d0>"
      ]
     },
     "execution_count": 69,
     "metadata": {},
     "output_type": "execute_result"
    },
    {
     "data": {
      "image/png": "[encoded data removed]",
      "text/plain": [
       "<Figure size 432x288 with 1 Axes>"
      ]
     },
     "metadata": {
      "needs_background": "light"
     },
     "output_type": "display_data"
    }
   ],
   "source": [
    "plt.imshow(mega_matrix)"
   ]
  },
  {
   "cell_type": "code",
   "execution_count": 70,
   "metadata": {},
   "outputs": [
    {
     "data": {
      "text/plain": [
       "array([[1.        , 0.442854  , 0.33201329, 0.54844006, 0.46990526,\n",
       "        0.23145292, 0.35318032, 0.08962871, 0.42661122, 0.14802905,\n",
       "        0.24209202, 0.20334039, 0.20892263, 0.36818587, 0.30156304],\n",
       "       [0.442854  , 1.        , 0.30759358, 0.62676796, 0.51486538,\n",
       "        0.12798377, 0.374009  , 0.14843781, 0.43579779, 0.19279006,\n",
       "        0.26273667, 0.31499662, 0.19564988, 0.36641088, 0.31653134],\n",
       "       [0.33201329, 0.30759358, 1.        , 0.50085859, 0.33430029,\n",
       "        0.14695183, 0.28521205, 0.12025234, 0.49418966, 0.15198305,\n",
       "        0.17769607, 0.59041161, 0.15168635, 0.52937325, 0.35148496],\n",
       "       [0.54844006, 0.62676796, 0.50085859, 1.        , 0.66093279,\n",
       "        0.16203361, 0.42323574, 0.14095323, 0.36461237, 0.11303817,\n",
       "        0.22811622, 0.36482146, 0.14369826, 0.37208479, 0.25303753],\n",
       "       [0.46990526, 0.51486538, 0.33430029, 0.66093279, 1.        ,\n",
       "        0.41249281, 0.71572042, 0.23711467, 0.3041826 , 0.16379174,\n",
       "        0.41194391, 0.28101883, 0.18117278, 0.57343471, 0.13703745],\n",
       "       [0.23145292, 0.12798377, 0.14695183, 0.16203361, 0.41249281,\n",
       "        1.        , 0.60214138, 0.46061991, 0.24899578, 0.23150205,\n",
       "        0.54894153, 0.19670564, 0.46150493, 0.40899755, 0.07997248],\n",
       "       [0.35318032, 0.374009  , 0.28521205, 0.42323574, 0.71572042,\n",
       "        0.60214138, 1.        , 0.56007939, 0.31436491, 0.39356343,\n",
       "        0.79997018, 0.31308173, 0.43940279, 0.61023803, 0.15382191],\n",
       "       [0.08962871, 0.14843781, 0.12025234, 0.14095323, 0.23711467,\n",
       "        0.46061991, 0.56007939, 1.        , 0.14661738, 0.47198726,\n",
       "        0.69469748, 0.16947738, 0.56581731, 0.22021   , 0.14752531],\n",
       "       [0.42661122, 0.43579779, 0.49418966, 0.36461237, 0.3041826 ,\n",
       "        0.24899578, 0.31436491, 0.14661738, 1.        , 0.28914765,\n",
       "        0.31717042, 0.47849451, 0.29841001, 0.50184984, 0.55709746],\n",
       "       [0.14802905, 0.19279006, 0.15198305, 0.11303817, 0.16379174,\n",
       "        0.23150205, 0.39356343, 0.47198726, 0.28914765, 1.        ,\n",
       "        0.62672228, 0.19946676, 0.79350831, 0.31172655, 0.32443633],\n",
       "       [0.24209202, 0.26273667, 0.17769607, 0.22811622, 0.41194391,\n",
       "        0.54894153, 0.79997018, 0.69469748, 0.31717042, 0.62672228,\n",
       "        1.        , 0.2190366 , 0.78181933, 0.47632949, 0.28868509],\n",
       "       [0.20334039, 0.31499662, 0.59041161, 0.36482146, 0.28101883,\n",
       "        0.19670564, 0.31308173, 0.16947738, 0.47849451, 0.19946676,\n",
       "        0.2190366 , 1.        , 0.20125759, 0.55271719, 0.34075299],\n",
       "       [0.20892263, 0.19564988, 0.15168635, 0.14369826, 0.18117278,\n",
       "        0.46150493, 0.43940279, 0.56581731, 0.29841001, 0.79350831,\n",
       "        0.78181933, 0.20125759, 1.        , 0.3433473 , 0.36374301],\n",
       "       [0.36818587, 0.36641088, 0.52937325, 0.37208479, 0.57343471,\n",
       "        0.40899755, 0.61023803, 0.22021   , 0.50184984, 0.31172655,\n",
       "        0.47632949, 0.55271719, 0.3433473 , 1.        , 0.30057622],\n",
       "       [0.30156304, 0.31653134, 0.35148496, 0.25303753, 0.13703745,\n",
       "        0.07997248, 0.15382191, 0.14752531, 0.55709746, 0.32443633,\n",
       "        0.28868509, 0.34075299, 0.36374301, 0.30057622, 1.        ]])"
      ]
     },
     "execution_count": 70,
     "metadata": {},
     "output_type": "execute_result"
    }
   ],
   "source": [
    "mega_matrix"
   ]
  },
  {
   "cell_type": "code",
   "execution_count": null,
   "metadata": {},
   "outputs": [],
   "source": []
  }
 ],
 "metadata": {
  "kernelspec": {
   "display_name": "Python 3",
   "language": "python",
   "name": "python3"
  },
  "language_info": {
   "codemirror_mode": {
    "name": "ipython",
    "version": 3
   },
   "file_extension": ".py",
   "mimetype": "text/x-python",
   "name": "python",
   "nbconvert_exporter": "python",
   "pygments_lexer": "ipython3",
   "version": "3.7.10"
  }
 },
 "nbformat": 4,
 "nbformat_minor": 4
}
